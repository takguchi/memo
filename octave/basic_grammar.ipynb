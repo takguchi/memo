{
 "cells": [
  {
   "cell_type": "code",
   "execution_count": 1,
   "metadata": {},
   "outputs": [
    {
     "name": "stdout",
     "output_type": "stream",
     "text": [
      "ans =  11\n"
     ]
    }
   ],
   "source": [
    "5+6"
   ]
  },
  {
   "cell_type": "code",
   "execution_count": 2,
   "metadata": {},
   "outputs": [
    {
     "name": "stdout",
     "output_type": "stream",
     "text": [
      "ans =  1\n"
     ]
    }
   ],
   "source": [
    "3-2"
   ]
  },
  {
   "cell_type": "code",
   "execution_count": 3,
   "metadata": {},
   "outputs": [
    {
     "name": "stdout",
     "output_type": "stream",
     "text": [
      "ans =  40\n"
     ]
    }
   ],
   "source": [
    "5*8"
   ]
  },
  {
   "cell_type": "code",
   "execution_count": 4,
   "metadata": {},
   "outputs": [
    {
     "name": "stdout",
     "output_type": "stream",
     "text": [
      "ans =  0.50000\n"
     ]
    }
   ],
   "source": [
    "1/2"
   ]
  },
  {
   "cell_type": "code",
   "execution_count": 5,
   "metadata": {},
   "outputs": [
    {
     "name": "stdout",
     "output_type": "stream",
     "text": [
      "ans =  64\n"
     ]
    }
   ],
   "source": [
    "2^6"
   ]
  },
  {
   "cell_type": "code",
   "execution_count": 6,
   "metadata": {},
   "outputs": [
    {
     "name": "stdout",
     "output_type": "stream",
     "text": [
      "ans = 0\n"
     ]
    }
   ],
   "source": [
    "1==2 %false"
   ]
  },
  {
   "cell_type": "code",
   "execution_count": 7,
   "metadata": {},
   "outputs": [
    {
     "name": "stdout",
     "output_type": "stream",
     "text": [
      "ans = 1\n"
     ]
    }
   ],
   "source": [
    "1~=2"
   ]
  },
  {
   "cell_type": "code",
   "execution_count": 8,
   "metadata": {},
   "outputs": [
    {
     "name": "stdout",
     "output_type": "stream",
     "text": [
      "ans = 0\n"
     ]
    }
   ],
   "source": [
    "1 && 0    %AND"
   ]
  },
  {
   "cell_type": "code",
   "execution_count": 9,
   "metadata": {},
   "outputs": [
    {
     "name": "stdout",
     "output_type": "stream",
     "text": [
      "ans = 1\n"
     ]
    }
   ],
   "source": [
    "1 || 0      %OR"
   ]
  },
  {
   "cell_type": "code",
   "execution_count": 10,
   "metadata": {},
   "outputs": [
    {
     "name": "stdout",
     "output_type": "stream",
     "text": [
      "ans = 1\n"
     ]
    }
   ],
   "source": [
    "xor(1,0)"
   ]
  },
  {
   "cell_type": "code",
   "execution_count": 1,
   "metadata": {},
   "outputs": [
    {
     "name": "stdout",
     "output_type": "stream",
     "text": [
      "a =  3\n"
     ]
    }
   ],
   "source": [
    "a = 3"
   ]
  },
  {
   "cell_type": "code",
   "execution_count": 2,
   "metadata": {},
   "outputs": [],
   "source": [
    "a = 3;      % semicolon supressing output"
   ]
  },
  {
   "cell_type": "code",
   "execution_count": 3,
   "metadata": {},
   "outputs": [],
   "source": [
    "b = 'hi';"
   ]
  },
  {
   "cell_type": "code",
   "execution_count": 4,
   "metadata": {},
   "outputs": [
    {
     "name": "stdout",
     "output_type": "stream",
     "text": [
      "b = hi\n"
     ]
    }
   ],
   "source": [
    "b"
   ]
  },
  {
   "cell_type": "code",
   "execution_count": 5,
   "metadata": {},
   "outputs": [],
   "source": [
    "c = (3>=1);"
   ]
  },
  {
   "cell_type": "code",
   "execution_count": 6,
   "metadata": {},
   "outputs": [
    {
     "name": "stdout",
     "output_type": "stream",
     "text": [
      "c = 1\n"
     ]
    }
   ],
   "source": [
    "c"
   ]
  },
  {
   "cell_type": "code",
   "execution_count": 7,
   "metadata": {},
   "outputs": [],
   "source": [
    "a = pi;"
   ]
  },
  {
   "cell_type": "code",
   "execution_count": 8,
   "metadata": {},
   "outputs": [
    {
     "name": "stdout",
     "output_type": "stream",
     "text": [
      "a =  3.1416\n"
     ]
    }
   ],
   "source": [
    "a"
   ]
  },
  {
   "cell_type": "code",
   "execution_count": 9,
   "metadata": {},
   "outputs": [
    {
     "name": "stdout",
     "output_type": "stream",
     "text": [
      " 3.1416\n"
     ]
    }
   ],
   "source": [
    "disp(a);"
   ]
  },
  {
   "cell_type": "code",
   "execution_count": 10,
   "metadata": {},
   "outputs": [
    {
     "name": "stdout",
     "output_type": "stream",
     "text": [
      "2 decimals: 3.14\n"
     ]
    }
   ],
   "source": [
    "disp(sprintf('2 decimals: %0.2f', a))"
   ]
  },
  {
   "cell_type": "code",
   "execution_count": 12,
   "metadata": {},
   "outputs": [
    {
     "name": "stdout",
     "output_type": "stream",
     "text": [
      "6 decimals: 3.141593\n"
     ]
    }
   ],
   "source": [
    "disp(sprintf('6 decimals: %0.6f', a))"
   ]
  },
  {
   "cell_type": "code",
   "execution_count": 13,
   "metadata": {},
   "outputs": [
    {
     "name": "stdout",
     "output_type": "stream",
     "text": [
      "a =  3.1416\n"
     ]
    }
   ],
   "source": [
    "a"
   ]
  },
  {
   "cell_type": "code",
   "execution_count": 14,
   "metadata": {},
   "outputs": [],
   "source": [
    "format long"
   ]
  },
  {
   "cell_type": "code",
   "execution_count": 15,
   "metadata": {},
   "outputs": [
    {
     "name": "stdout",
     "output_type": "stream",
     "text": [
      "a =  3.141592653589793\n"
     ]
    }
   ],
   "source": [
    "a"
   ]
  },
  {
   "cell_type": "code",
   "execution_count": 16,
   "metadata": {},
   "outputs": [],
   "source": [
    "format short"
   ]
  },
  {
   "cell_type": "code",
   "execution_count": 17,
   "metadata": {},
   "outputs": [
    {
     "name": "stdout",
     "output_type": "stream",
     "text": [
      "a =  3.1416\n"
     ]
    }
   ],
   "source": [
    "a"
   ]
  },
  {
   "cell_type": "code",
   "execution_count": 18,
   "metadata": {},
   "outputs": [
    {
     "name": "stdout",
     "output_type": "stream",
     "text": [
      "A =\n",
      "\n",
      "   1   2\n",
      "   3   4\n",
      "   5   6\n",
      "\n"
     ]
    }
   ],
   "source": [
    "A = [1 2; 3 4; 5 6]"
   ]
  },
  {
   "cell_type": "code",
   "execution_count": 19,
   "metadata": {},
   "outputs": [
    {
     "name": "stdout",
     "output_type": "stream",
     "text": [
      "A =\n",
      "\n",
      "   1   2\n",
      "   3   4\n",
      "   5   6\n",
      "\n"
     ]
    }
   ],
   "source": [
    "A = [1 2;\n",
    "3 4;\n",
    "5 6]"
   ]
  },
  {
   "cell_type": "code",
   "execution_count": 20,
   "metadata": {},
   "outputs": [
    {
     "name": "stdout",
     "output_type": "stream",
     "text": [
      "v =\n",
      "\n",
      "   1\n",
      "   2\n",
      "   3\n",
      "\n"
     ]
    }
   ],
   "source": [
    "v = [1; 2; 3;]"
   ]
  },
  {
   "cell_type": "code",
   "execution_count": 21,
   "metadata": {},
   "outputs": [
    {
     "name": "stdout",
     "output_type": "stream",
     "text": [
      "v =\n",
      "\n",
      " Columns 1 through 8:\n",
      "\n",
      "    1.0000    1.1000    1.2000    1.3000    1.4000    1.5000    1.6000    1.7000\n",
      "\n",
      " Columns 9 through 11:\n",
      "\n",
      "    1.8000    1.9000    2.0000\n",
      "\n"
     ]
    }
   ],
   "source": [
    "v = 1:0.1:2"
   ]
  },
  {
   "cell_type": "code",
   "execution_count": 22,
   "metadata": {},
   "outputs": [
    {
     "name": "stdout",
     "output_type": "stream",
     "text": [
      "v =\n",
      "\n",
      "   1   2   3   4   5   6\n",
      "\n"
     ]
    }
   ],
   "source": [
    "v = 1:6"
   ]
  },
  {
   "cell_type": "code",
   "execution_count": 25,
   "metadata": {},
   "outputs": [
    {
     "name": "stdout",
     "output_type": "stream",
     "text": [
      "B =\n",
      "\n",
      "   1   2   3   4   5   6\n",
      "   1   2   3   4   5   6\n",
      "\n"
     ]
    }
   ],
   "source": [
    "B = [1:6; 1:6]"
   ]
  },
  {
   "cell_type": "code",
   "execution_count": 26,
   "metadata": {},
   "outputs": [
    {
     "name": "stdout",
     "output_type": "stream",
     "text": [
      "error: vertical dimensions mismatch (1x6 vs 1x5)\n"
     ]
    }
   ],
   "source": [
    "B = [1:6; 1:5]"
   ]
  },
  {
   "cell_type": "code",
   "execution_count": 27,
   "metadata": {},
   "outputs": [
    {
     "name": "stdout",
     "output_type": "stream",
     "text": [
      "ans =\n",
      "\n",
      "   1   1   1\n",
      "   1   1   1\n",
      "\n"
     ]
    }
   ],
   "source": [
    "ones(2,3)"
   ]
  },
  {
   "cell_type": "code",
   "execution_count": 28,
   "metadata": {},
   "outputs": [
    {
     "name": "stdout",
     "output_type": "stream",
     "text": [
      "C =\n",
      "\n",
      "   2   2   2\n",
      "   2   2   2\n",
      "\n"
     ]
    }
   ],
   "source": [
    "C = 2*ones(2,3)"
   ]
  },
  {
   "cell_type": "code",
   "execution_count": 29,
   "metadata": {},
   "outputs": [
    {
     "name": "stdout",
     "output_type": "stream",
     "text": [
      "w =\n",
      "\n",
      "   1   1   1\n",
      "\n"
     ]
    }
   ],
   "source": [
    "w = ones(1,3)"
   ]
  },
  {
   "cell_type": "code",
   "execution_count": 30,
   "metadata": {},
   "outputs": [
    {
     "name": "stdout",
     "output_type": "stream",
     "text": [
      "w =\n",
      "\n",
      "   0   0   0\n",
      "\n"
     ]
    }
   ],
   "source": [
    "w = zeros(1,3)"
   ]
  },
  {
   "cell_type": "code",
   "execution_count": 31,
   "metadata": {},
   "outputs": [
    {
     "name": "stdout",
     "output_type": "stream",
     "text": [
      "w =\n",
      "\n",
      "   0.31895   0.93747   0.24700\n",
      "\n"
     ]
    }
   ],
   "source": [
    "w = rand(1,3)"
   ]
  },
  {
   "cell_type": "code",
   "execution_count": 32,
   "metadata": {},
   "outputs": [
    {
     "name": "stdout",
     "output_type": "stream",
     "text": [
      "ans =\n",
      "\n",
      "   0.093464   0.297673   0.689847\n",
      "   0.146122   0.692971   0.327367\n",
      "   0.869293   0.532089   0.660454\n",
      "\n"
     ]
    }
   ],
   "source": [
    "rand(3,3)"
   ]
  },
  {
   "cell_type": "code",
   "execution_count": 34,
   "metadata": {},
   "outputs": [
    {
     "name": "stdout",
     "output_type": "stream",
     "text": [
      "w =\n",
      "\n",
      "  -0.55280   2.03123  -1.19425\n",
      "\n"
     ]
    }
   ],
   "source": [
    "w = randn(1,3)"
   ]
  },
  {
   "cell_type": "code",
   "execution_count": 36,
   "metadata": {},
   "outputs": [],
   "source": [
    "w = -6 + sqrt(10)*(randn(1,10000));"
   ]
  },
  {
   "cell_type": "code",
   "execution_count": 37,
   "metadata": {},
   "outputs": [
    {
     "name": "stdout",
     "output_type": "stream",
     "text": [
      "Unable to revert mtime: /Library/Fonts\n"
     ]
    },
    {
     "data": {
      "image/svg+xml": [
       "<svg height=\"420px\" viewBox=\"0 0 560 420\" width=\"560px\" xmlns=\"http://www.w3.org/2000/svg\" xmlns:xlink=\"http://www.w3.org/1999/xlink\">\n",
       "\n",
       "<title>Gnuplot</title>\n",
       "<desc>Produced by GNUPLOT 5.2 patchlevel 5 </desc>\n",
       "\n",
       "<g id=\"gnuplot_canvas\">\n",
       "\n",
       "<rect fill=\"#ffffff\" height=\"420\" width=\"560\" x=\"0\" y=\"0\"/>\n",
       "<defs>\n",
       "\n",
       "\t<circle id=\"gpDot\" r=\"0.5\" stroke=\"currentColor\" stroke-width=\"0.5\"/>\n",
       "\t<path d=\"M-1,0 h2 M0,-1 v2\" id=\"gpPt0\" stroke=\"currentColor\" stroke-width=\"0.357\"/>\n",
       "\t<path d=\"M-1,-1 L1,1 M1,-1 L-1,1\" id=\"gpPt1\" stroke=\"currentColor\" stroke-width=\"0.357\"/>\n",
       "\t<path d=\"M-1,0 L1,0 M0,-1 L0,1 M-1,-1 L1,1 M-1,1 L1,-1\" id=\"gpPt2\" stroke=\"currentColor\" stroke-width=\"0.357\"/>\n",
       "\t<rect height=\"2\" id=\"gpPt3\" stroke=\"currentColor\" stroke-width=\"0.357\" width=\"2\" x=\"-1\" y=\"-1\"/>\n",
       "\t<rect fill=\"currentColor\" height=\"2\" id=\"gpPt4\" stroke=\"currentColor\" stroke-width=\"0.357\" width=\"2\" x=\"-1\" y=\"-1\"/>\n",
       "\t<circle cx=\"0\" cy=\"0\" id=\"gpPt5\" r=\"1\" stroke=\"currentColor\" stroke-width=\"0.357\"/>\n",
       "\t<use fill=\"currentColor\" id=\"gpPt6\" stroke=\"none\" xlink:href=\"#gpPt5\"/>\n",
       "\t<path d=\"M0,-1.33 L-1.33,0.67 L1.33,0.67 z\" id=\"gpPt7\" stroke=\"currentColor\" stroke-width=\"0.357\"/>\n",
       "\t<use fill=\"currentColor\" id=\"gpPt8\" stroke=\"none\" xlink:href=\"#gpPt7\"/>\n",
       "\t<use id=\"gpPt9\" stroke=\"currentColor\" transform=\"rotate(180)\" xlink:href=\"#gpPt7\"/>\n",
       "\t<use fill=\"currentColor\" id=\"gpPt10\" stroke=\"none\" xlink:href=\"#gpPt9\"/>\n",
       "\t<use id=\"gpPt11\" stroke=\"currentColor\" transform=\"rotate(45)\" xlink:href=\"#gpPt3\"/>\n",
       "\t<use fill=\"currentColor\" id=\"gpPt12\" stroke=\"none\" xlink:href=\"#gpPt11\"/>\n",
       "\t<path d=\"M0,1.330 L1.265,0.411 L0.782,-1.067 L-0.782,-1.076 L-1.265,0.411 z\" id=\"gpPt13\" stroke=\"currentColor\" stroke-width=\"0.357\"/>\n",
       "\t<use fill=\"currentColor\" id=\"gpPt14\" stroke=\"none\" xlink:href=\"#gpPt13\"/>\n",
       "\t<filter filterUnits=\"objectBoundingBox\" height=\"1\" id=\"textbox\" width=\"1\" x=\"0\" y=\"0\">\n",
       "\t  <feFlood flood-color=\"#FFFFFF\" flood-opacity=\"1\" result=\"bgnd\"/>\n",
       "\t  <feComposite in=\"SourceGraphic\" in2=\"bgnd\" operator=\"atop\"/>\n",
       "\t</filter>\n",
       "\t<filter filterUnits=\"objectBoundingBox\" height=\"1\" id=\"greybox\" width=\"1\" x=\"0\" y=\"0\">\n",
       "\t  <feFlood flood-color=\"lightgrey\" flood-opacity=\"1\" result=\"grey\"/>\n",
       "\t  <feComposite in=\"SourceGraphic\" in2=\"grey\" operator=\"atop\"/>\n",
       "\t</filter>\n",
       "</defs>\n",
       "<g color=\"#FFFFFF\" fill=\"none\" stroke=\"currentColor\" stroke-linecap=\"butt\" stroke-linejoin=\"miter\" stroke-width=\"1.00\">\n",
       "</g>\n",
       "<g color=\"black\" fill=\"none\" stroke=\"currentColor\" stroke-linecap=\"butt\" stroke-linejoin=\"miter\" stroke-width=\"1.00\">\n",
       "\t<g shape-rendering=\"crispEdges\" stroke=\"none\">\n",
       "\t\t<polygon fill=\"rgb(255, 255, 255)\" points=\"33.8,397.6 544.2,397.6 544.2,11.4 33.8,11.4 \"/>\n",
       "\t</g>\n",
       "</g>\n",
       "<g color=\"black\" fill=\"none\" stroke=\"currentColor\" stroke-linecap=\"butt\" stroke-linejoin=\"miter\" stroke-width=\"1.00\">\n",
       "\t<path d=\"M33.8,397.6 L41.6,397.6 M544.3,397.6 L536.5,397.6  \" stroke=\"rgb(  0,   0,   0)\"/>\t<g fill=\"rgb(38,38,38)\" font-family=\"Arial\" font-size=\"10.00\" stroke=\"none\" text-anchor=\"end\" transform=\"translate(28.6,400.9)\">\n",
       "\t\t<text><tspan font-family=\"Arial\">0</tspan></text>\n",
       "\t</g>\n",
       "</g>\n",
       "<g color=\"black\" fill=\"none\" stroke=\"currentColor\" stroke-linecap=\"butt\" stroke-linejoin=\"miter\" stroke-width=\"1.00\">\n",
       "\t<path d=\"M33.8,333.2 L41.6,333.2 M544.3,333.2 L536.5,333.2  \" stroke=\"rgb(  0,   0,   0)\"/>\t<g fill=\"rgb(38,38,38)\" font-family=\"Arial\" font-size=\"10.00\" stroke=\"none\" text-anchor=\"end\" transform=\"translate(28.6,336.5)\">\n",
       "\t\t<text><tspan font-family=\"Arial\">500</tspan></text>\n",
       "\t</g>\n",
       "</g>\n",
       "<g color=\"black\" fill=\"none\" stroke=\"currentColor\" stroke-linecap=\"butt\" stroke-linejoin=\"miter\" stroke-width=\"1.00\">\n",
       "\t<path d=\"M33.8,268.8 L41.6,268.8 M544.3,268.8 L536.5,268.8  \" stroke=\"rgb(  0,   0,   0)\"/>\t<g fill=\"rgb(38,38,38)\" font-family=\"Arial\" font-size=\"10.00\" stroke=\"none\" text-anchor=\"end\" transform=\"translate(28.6,272.1)\">\n",
       "\t\t<text><tspan font-family=\"Arial\">1000</tspan></text>\n",
       "\t</g>\n",
       "</g>\n",
       "<g color=\"black\" fill=\"none\" stroke=\"currentColor\" stroke-linecap=\"butt\" stroke-linejoin=\"miter\" stroke-width=\"1.00\">\n",
       "\t<path d=\"M33.8,204.4 L41.6,204.4 M544.3,204.4 L536.5,204.4  \" stroke=\"rgb(  0,   0,   0)\"/>\t<g fill=\"rgb(38,38,38)\" font-family=\"Arial\" font-size=\"10.00\" stroke=\"none\" text-anchor=\"end\" transform=\"translate(28.6,207.7)\">\n",
       "\t\t<text><tspan font-family=\"Arial\">1500</tspan></text>\n",
       "\t</g>\n",
       "</g>\n",
       "<g color=\"black\" fill=\"none\" stroke=\"currentColor\" stroke-linecap=\"butt\" stroke-linejoin=\"miter\" stroke-width=\"1.00\">\n",
       "\t<path d=\"M33.8,140.1 L41.6,140.1 M544.3,140.1 L536.5,140.1  \" stroke=\"rgb(  0,   0,   0)\"/>\t<g fill=\"rgb(38,38,38)\" font-family=\"Arial\" font-size=\"10.00\" stroke=\"none\" text-anchor=\"end\" transform=\"translate(28.6,143.4)\">\n",
       "\t\t<text><tspan font-family=\"Arial\">2000</tspan></text>\n",
       "\t</g>\n",
       "</g>\n",
       "<g color=\"black\" fill=\"none\" stroke=\"currentColor\" stroke-linecap=\"butt\" stroke-linejoin=\"miter\" stroke-width=\"1.00\">\n",
       "\t<path d=\"M33.8,75.7 L41.6,75.7 M544.3,75.7 L536.5,75.7  \" stroke=\"rgb(  0,   0,   0)\"/>\t<g fill=\"rgb(38,38,38)\" font-family=\"Arial\" font-size=\"10.00\" stroke=\"none\" text-anchor=\"end\" transform=\"translate(28.6,79.0)\">\n",
       "\t\t<text><tspan font-family=\"Arial\">2500</tspan></text>\n",
       "\t</g>\n",
       "</g>\n",
       "<g color=\"black\" fill=\"none\" stroke=\"currentColor\" stroke-linecap=\"butt\" stroke-linejoin=\"miter\" stroke-width=\"1.00\">\n",
       "\t<path d=\"M33.8,11.3 L41.6,11.3 M544.3,11.3 L536.5,11.3  \" stroke=\"rgb(  0,   0,   0)\"/>\t<g fill=\"rgb(38,38,38)\" font-family=\"Arial\" font-size=\"10.00\" stroke=\"none\" text-anchor=\"end\" transform=\"translate(28.6,14.6)\">\n",
       "\t\t<text><tspan font-family=\"Arial\">3000</tspan></text>\n",
       "\t</g>\n",
       "</g>\n",
       "<g color=\"black\" fill=\"none\" stroke=\"currentColor\" stroke-linecap=\"butt\" stroke-linejoin=\"miter\" stroke-width=\"1.00\">\n",
       "\t<path d=\"M33.8,397.6 L33.8,389.8 M33.8,11.3 L33.8,19.1  \" stroke=\"rgb(  0,   0,   0)\"/>\t<g fill=\"rgb(38,38,38)\" font-family=\"Arial\" font-size=\"10.00\" stroke=\"none\" text-anchor=\"middle\" transform=\"translate(33.8,412.1)\">\n",
       "\t\t<text><tspan font-family=\"Arial\">-20</tspan></text>\n",
       "\t</g>\n",
       "</g>\n",
       "<g color=\"black\" fill=\"none\" stroke=\"currentColor\" stroke-linecap=\"butt\" stroke-linejoin=\"miter\" stroke-width=\"1.00\">\n",
       "\t<path d=\"M118.9,397.6 L118.9,389.8 M118.9,11.3 L118.9,19.1  \" stroke=\"rgb(  0,   0,   0)\"/>\t<g fill=\"rgb(38,38,38)\" font-family=\"Arial\" font-size=\"10.00\" stroke=\"none\" text-anchor=\"middle\" transform=\"translate(118.9,412.1)\">\n",
       "\t\t<text><tspan font-family=\"Arial\">-15</tspan></text>\n",
       "\t</g>\n",
       "</g>\n",
       "<g color=\"black\" fill=\"none\" stroke=\"currentColor\" stroke-linecap=\"butt\" stroke-linejoin=\"miter\" stroke-width=\"1.00\">\n",
       "\t<path d=\"M204.0,397.6 L204.0,389.8 M204.0,11.3 L204.0,19.1  \" stroke=\"rgb(  0,   0,   0)\"/>\t<g fill=\"rgb(38,38,38)\" font-family=\"Arial\" font-size=\"10.00\" stroke=\"none\" text-anchor=\"middle\" transform=\"translate(204.0,412.1)\">\n",
       "\t\t<text><tspan font-family=\"Arial\">-10</tspan></text>\n",
       "\t</g>\n",
       "</g>\n",
       "<g color=\"black\" fill=\"none\" stroke=\"currentColor\" stroke-linecap=\"butt\" stroke-linejoin=\"miter\" stroke-width=\"1.00\">\n",
       "\t<path d=\"M289.1,397.6 L289.1,389.8 M289.1,11.3 L289.1,19.1  \" stroke=\"rgb(  0,   0,   0)\"/>\t<g fill=\"rgb(38,38,38)\" font-family=\"Arial\" font-size=\"10.00\" stroke=\"none\" text-anchor=\"middle\" transform=\"translate(289.1,412.1)\">\n",
       "\t\t<text><tspan font-family=\"Arial\">-5</tspan></text>\n",
       "\t</g>\n",
       "</g>\n",
       "<g color=\"black\" fill=\"none\" stroke=\"currentColor\" stroke-linecap=\"butt\" stroke-linejoin=\"miter\" stroke-width=\"1.00\">\n",
       "\t<path d=\"M374.1,397.6 L374.1,389.8 M374.1,11.3 L374.1,19.1  \" stroke=\"rgb(  0,   0,   0)\"/>\t<g fill=\"rgb(38,38,38)\" font-family=\"Arial\" font-size=\"10.00\" stroke=\"none\" text-anchor=\"middle\" transform=\"translate(374.1,412.1)\">\n",
       "\t\t<text><tspan font-family=\"Arial\">0</tspan></text>\n",
       "\t</g>\n",
       "</g>\n",
       "<g color=\"black\" fill=\"none\" stroke=\"currentColor\" stroke-linecap=\"butt\" stroke-linejoin=\"miter\" stroke-width=\"1.00\">\n",
       "\t<path d=\"M459.2,397.6 L459.2,389.8 M459.2,11.3 L459.2,19.1  \" stroke=\"rgb(  0,   0,   0)\"/>\t<g fill=\"rgb(38,38,38)\" font-family=\"Arial\" font-size=\"10.00\" stroke=\"none\" text-anchor=\"middle\" transform=\"translate(459.2,412.1)\">\n",
       "\t\t<text><tspan font-family=\"Arial\">5</tspan></text>\n",
       "\t</g>\n",
       "</g>\n",
       "<g color=\"black\" fill=\"none\" stroke=\"currentColor\" stroke-linecap=\"butt\" stroke-linejoin=\"miter\" stroke-width=\"1.00\">\n",
       "\t<path d=\"M544.3,397.6 L544.3,389.8 M544.3,11.3 L544.3,19.1  \" stroke=\"rgb(  0,   0,   0)\"/>\t<g fill=\"rgb(38,38,38)\" font-family=\"Arial\" font-size=\"10.00\" stroke=\"none\" text-anchor=\"middle\" transform=\"translate(544.3,412.1)\">\n",
       "\t\t<text><tspan font-family=\"Arial\">10</tspan></text>\n",
       "\t</g>\n",
       "</g>\n",
       "<g color=\"black\" fill=\"none\" stroke=\"currentColor\" stroke-linecap=\"butt\" stroke-linejoin=\"miter\" stroke-width=\"1.00\">\n",
       "</g>\n",
       "<g color=\"black\" fill=\"none\" stroke=\"currentColor\" stroke-linecap=\"butt\" stroke-linejoin=\"miter\" stroke-width=\"1.00\">\n",
       "</g>\n",
       "\t<g id=\"gnuplot_plot_1a\"><title>gnuplot_plot_1a</title>\n",
       "<g color=\"black\" fill=\"none\" stroke=\"currentColor\" stroke-linecap=\"butt\" stroke-linejoin=\"miter\" stroke-width=\"1.00\">\n",
       "\t<g shape-rendering=\"crispEdges\" stroke=\"none\">\n",
       "\t\t<polygon fill=\"rgb( 68,   1,  84)\" points=\"68.2,397.6 68.2,396.3 108.5,396.3 108.5,397.6 68.2,397.6 \"/>\n",
       "\t</g>\n",
       "\t<path d=\"M68.2,397.6 L68.2,396.3 L108.5,396.3 L108.5,397.6 L68.2,397.6  \" stroke=\"rgb( 68,   1,  84)\"/></g>\n",
       "\t</g>\n",
       "\t<g id=\"gnuplot_plot_2a\"><title>gnuplot_plot_2a</title>\n",
       "<g color=\"#FFFFFF\" fill=\"none\" stroke=\"rgb( 68,   1,  84)\" stroke-linecap=\"butt\" stroke-linejoin=\"miter\" stroke-width=\"0.50\">\n",
       "</g>\n",
       "<g color=\"black\" fill=\"none\" stroke=\"currentColor\" stroke-linecap=\"butt\" stroke-linejoin=\"miter\" stroke-width=\"0.50\">\n",
       "\t<path d=\"M68.2,397.6 L68.2,396.3 L108.5,396.3 L108.5,397.6 L68.2,397.6  \" stroke=\"rgb(  0,   0,   0)\"/></g>\n",
       "\t</g>\n",
       "\t<g id=\"gnuplot_plot_3a\"><title>gnuplot_plot_3a</title>\n",
       "<g color=\"#FFFFFF\" fill=\"none\" stroke=\"rgb(  0,   0,   0)\" stroke-linecap=\"butt\" stroke-linejoin=\"miter\" stroke-width=\"1.00\">\n",
       "</g>\n",
       "<g color=\"black\" fill=\"none\" stroke=\"currentColor\" stroke-linecap=\"butt\" stroke-linejoin=\"miter\" stroke-width=\"1.00\">\n",
       "\t<g shape-rendering=\"crispEdges\" stroke=\"none\">\n",
       "\t\t<polygon fill=\"rgb( 68,   1,  84)\" points=\"108.5,397.6 108.5,381.8 148.8,381.8 148.8,397.6 108.5,397.6 \"/>\n",
       "\t</g>\n",
       "\t<path d=\"M108.5,397.6 L108.5,381.8 L148.8,381.8 L148.8,397.6 L108.5,397.6  \" stroke=\"rgb( 68,   1,  84)\"/></g>\n",
       "\t</g>\n",
       "\t<g id=\"gnuplot_plot_4a\"><title>gnuplot_plot_4a</title>\n",
       "<g color=\"#FFFFFF\" fill=\"none\" stroke=\"rgb( 68,   1,  84)\" stroke-linecap=\"butt\" stroke-linejoin=\"miter\" stroke-width=\"0.50\">\n",
       "</g>\n",
       "<g color=\"black\" fill=\"none\" stroke=\"currentColor\" stroke-linecap=\"butt\" stroke-linejoin=\"miter\" stroke-width=\"0.50\">\n",
       "\t<path d=\"M108.5,397.6 L108.5,381.8 L148.8,381.8 L148.8,397.6 L108.5,397.6  \" stroke=\"rgb(  0,   0,   0)\"/></g>\n",
       "\t</g>\n",
       "\t<g id=\"gnuplot_plot_5a\"><title>gnuplot_plot_5a</title>\n",
       "<g color=\"#FFFFFF\" fill=\"none\" stroke=\"rgb(  0,   0,   0)\" stroke-linecap=\"butt\" stroke-linejoin=\"miter\" stroke-width=\"1.00\">\n",
       "</g>\n",
       "<g color=\"black\" fill=\"none\" stroke=\"currentColor\" stroke-linecap=\"butt\" stroke-linejoin=\"miter\" stroke-width=\"1.00\">\n",
       "\t<g shape-rendering=\"crispEdges\" stroke=\"none\">\n",
       "\t\t<polygon fill=\"rgb( 68,   1,  84)\" points=\"148.8,397.6 148.8,332.7 189.1,332.7 189.1,397.6 148.8,397.6 \"/>\n",
       "\t</g>\n",
       "\t<path d=\"M148.8,397.6 L148.8,332.7 L189.1,332.7 L189.1,397.6 L148.8,397.6  \" stroke=\"rgb( 68,   1,  84)\"/></g>\n",
       "\t</g>\n",
       "\t<g id=\"gnuplot_plot_6a\"><title>gnuplot_plot_6a</title>\n",
       "<g color=\"#FFFFFF\" fill=\"none\" stroke=\"rgb( 68,   1,  84)\" stroke-linecap=\"butt\" stroke-linejoin=\"miter\" stroke-width=\"0.50\">\n",
       "</g>\n",
       "<g color=\"black\" fill=\"none\" stroke=\"currentColor\" stroke-linecap=\"butt\" stroke-linejoin=\"miter\" stroke-width=\"0.50\">\n",
       "\t<path d=\"M148.8,397.6 L148.8,332.7 L189.1,332.7 L189.1,397.6 L148.8,397.6  \" stroke=\"rgb(  0,   0,   0)\"/></g>\n",
       "\t</g>\n",
       "\t<g id=\"gnuplot_plot_7a\"><title>gnuplot_plot_7a</title>\n",
       "<g color=\"#FFFFFF\" fill=\"none\" stroke=\"rgb(  0,   0,   0)\" stroke-linecap=\"butt\" stroke-linejoin=\"miter\" stroke-width=\"1.00\">\n",
       "</g>\n",
       "<g color=\"black\" fill=\"none\" stroke=\"currentColor\" stroke-linecap=\"butt\" stroke-linejoin=\"miter\" stroke-width=\"1.00\">\n",
       "\t<g shape-rendering=\"crispEdges\" stroke=\"none\">\n",
       "\t\t<polygon fill=\"rgb( 68,   1,  84)\" points=\"189.1,397.6 189.1,201.5 229.4,201.5 229.4,397.6 189.1,397.6 \"/>\n",
       "\t</g>\n",
       "\t<path d=\"M189.1,397.6 L189.1,201.5 L229.4,201.5 L229.4,397.6 L189.1,397.6  \" stroke=\"rgb( 68,   1,  84)\"/></g>\n",
       "\t</g>\n",
       "\t<g id=\"gnuplot_plot_8a\"><title>gnuplot_plot_8a</title>\n",
       "<g color=\"#FFFFFF\" fill=\"none\" stroke=\"rgb( 68,   1,  84)\" stroke-linecap=\"butt\" stroke-linejoin=\"miter\" stroke-width=\"0.50\">\n",
       "</g>\n",
       "<g color=\"black\" fill=\"none\" stroke=\"currentColor\" stroke-linecap=\"butt\" stroke-linejoin=\"miter\" stroke-width=\"0.50\">\n",
       "\t<path d=\"M189.1,397.6 L189.1,201.5 L229.4,201.5 L229.4,397.6 L189.1,397.6  \" stroke=\"rgb(  0,   0,   0)\"/></g>\n",
       "\t</g>\n",
       "\t<g id=\"gnuplot_plot_9a\"><title>gnuplot_plot_9a</title>\n",
       "<g color=\"#FFFFFF\" fill=\"none\" stroke=\"rgb(  0,   0,   0)\" stroke-linecap=\"butt\" stroke-linejoin=\"miter\" stroke-width=\"1.00\">\n",
       "</g>\n",
       "<g color=\"black\" fill=\"none\" stroke=\"currentColor\" stroke-linecap=\"butt\" stroke-linejoin=\"miter\" stroke-width=\"1.00\">\n",
       "\t<g shape-rendering=\"crispEdges\" stroke=\"none\">\n",
       "\t\t<polygon fill=\"rgb( 68,   1,  84)\" points=\"229.4,397.6 229.4,53.5 269.7,53.5 269.7,397.6 229.4,397.6 \"/>\n",
       "\t</g>\n",
       "\t<path d=\"M229.4,397.6 L229.4,53.5 L269.7,53.5 L269.7,397.6 L229.4,397.6  \" stroke=\"rgb( 68,   1,  84)\"/></g>\n",
       "\t</g>\n",
       "\t<g id=\"gnuplot_plot_10a\"><title>gnuplot_plot_10a</title>\n",
       "<g color=\"#FFFFFF\" fill=\"none\" stroke=\"rgb( 68,   1,  84)\" stroke-linecap=\"butt\" stroke-linejoin=\"miter\" stroke-width=\"0.50\">\n",
       "</g>\n",
       "<g color=\"black\" fill=\"none\" stroke=\"currentColor\" stroke-linecap=\"butt\" stroke-linejoin=\"miter\" stroke-width=\"0.50\">\n",
       "\t<path d=\"M229.4,397.6 L229.4,53.5 L269.7,53.5 L269.7,397.6 L229.4,397.6  \" stroke=\"rgb(  0,   0,   0)\"/></g>\n",
       "\t</g>\n",
       "\t<g id=\"gnuplot_plot_11a\"><title>gnuplot_plot_11a</title>\n",
       "<g color=\"#FFFFFF\" fill=\"none\" stroke=\"rgb(  0,   0,   0)\" stroke-linecap=\"butt\" stroke-linejoin=\"miter\" stroke-width=\"1.00\">\n",
       "</g>\n",
       "<g color=\"black\" fill=\"none\" stroke=\"currentColor\" stroke-linecap=\"butt\" stroke-linejoin=\"miter\" stroke-width=\"1.00\">\n",
       "\t<g shape-rendering=\"crispEdges\" stroke=\"none\">\n",
       "\t\t<polygon fill=\"rgb( 68,   1,  84)\" points=\"269.7,397.6 269.7,40.5 310.0,40.5 310.0,397.6 269.7,397.6 \"/>\n",
       "\t</g>\n",
       "\t<path d=\"M269.7,397.6 L269.7,40.5 L310.0,40.5 L310.0,397.6 L269.7,397.6  \" stroke=\"rgb( 68,   1,  84)\"/></g>\n",
       "\t</g>\n",
       "\t<g id=\"gnuplot_plot_12a\"><title>gnuplot_plot_12a</title>\n",
       "<g color=\"#FFFFFF\" fill=\"none\" stroke=\"rgb( 68,   1,  84)\" stroke-linecap=\"butt\" stroke-linejoin=\"miter\" stroke-width=\"0.50\">\n",
       "</g>\n",
       "<g color=\"black\" fill=\"none\" stroke=\"currentColor\" stroke-linecap=\"butt\" stroke-linejoin=\"miter\" stroke-width=\"0.50\">\n",
       "\t<path d=\"M269.7,397.6 L269.7,40.5 L310.0,40.5 L310.0,397.6 L269.7,397.6  \" stroke=\"rgb(  0,   0,   0)\"/></g>\n",
       "\t</g>\n",
       "\t<g id=\"gnuplot_plot_13a\"><title>gnuplot_plot_13a</title>\n",
       "<g color=\"#FFFFFF\" fill=\"none\" stroke=\"rgb(  0,   0,   0)\" stroke-linecap=\"butt\" stroke-linejoin=\"miter\" stroke-width=\"1.00\">\n",
       "</g>\n",
       "<g color=\"black\" fill=\"none\" stroke=\"currentColor\" stroke-linecap=\"butt\" stroke-linejoin=\"miter\" stroke-width=\"1.00\">\n",
       "\t<g shape-rendering=\"crispEdges\" stroke=\"none\">\n",
       "\t\t<polygon fill=\"rgb( 68,   1,  84)\" points=\"310.0,397.6 310.0,184.2 350.3,184.2 350.3,397.6 310.0,397.6 \"/>\n",
       "\t</g>\n",
       "\t<path d=\"M310.0,397.6 L310.0,184.2 L350.3,184.2 L350.3,397.6 L310.0,397.6  \" stroke=\"rgb( 68,   1,  84)\"/></g>\n",
       "\t</g>\n",
       "\t<g id=\"gnuplot_plot_14a\"><title>gnuplot_plot_14a</title>\n",
       "<g color=\"#FFFFFF\" fill=\"none\" stroke=\"rgb( 68,   1,  84)\" stroke-linecap=\"butt\" stroke-linejoin=\"miter\" stroke-width=\"0.50\">\n",
       "</g>\n",
       "<g color=\"black\" fill=\"none\" stroke=\"currentColor\" stroke-linecap=\"butt\" stroke-linejoin=\"miter\" stroke-width=\"0.50\">\n",
       "\t<path d=\"M310.0,397.6 L310.0,184.2 L350.3,184.2 L350.3,397.6 L310.0,397.6  \" stroke=\"rgb(  0,   0,   0)\"/></g>\n",
       "\t</g>\n",
       "\t<g id=\"gnuplot_plot_15a\"><title>gnuplot_plot_15a</title>\n",
       "<g color=\"#FFFFFF\" fill=\"none\" stroke=\"rgb(  0,   0,   0)\" stroke-linecap=\"butt\" stroke-linejoin=\"miter\" stroke-width=\"1.00\">\n",
       "</g>\n",
       "<g color=\"black\" fill=\"none\" stroke=\"currentColor\" stroke-linecap=\"butt\" stroke-linejoin=\"miter\" stroke-width=\"1.00\">\n",
       "\t<g shape-rendering=\"crispEdges\" stroke=\"none\">\n",
       "\t\t<polygon fill=\"rgb( 68,   1,  84)\" points=\"350.3,397.6 350.3,320.0 390.6,320.0 390.6,397.6 350.3,397.6 \"/>\n",
       "\t</g>\n",
       "\t<path d=\"M350.3,397.6 L350.3,320.0 L390.6,320.0 L390.6,397.6 L350.3,397.6  \" stroke=\"rgb( 68,   1,  84)\"/></g>\n",
       "\t</g>\n",
       "\t<g id=\"gnuplot_plot_16a\"><title>gnuplot_plot_16a</title>\n",
       "<g color=\"#FFFFFF\" fill=\"none\" stroke=\"rgb( 68,   1,  84)\" stroke-linecap=\"butt\" stroke-linejoin=\"miter\" stroke-width=\"0.50\">\n",
       "</g>\n",
       "<g color=\"black\" fill=\"none\" stroke=\"currentColor\" stroke-linecap=\"butt\" stroke-linejoin=\"miter\" stroke-width=\"0.50\">\n",
       "\t<path d=\"M350.3,397.6 L350.3,320.0 L390.6,320.0 L390.6,397.6 L350.3,397.6  \" stroke=\"rgb(  0,   0,   0)\"/></g>\n",
       "\t</g>\n",
       "\t<g id=\"gnuplot_plot_17a\"><title>gnuplot_plot_17a</title>\n",
       "<g color=\"#FFFFFF\" fill=\"none\" stroke=\"rgb(  0,   0,   0)\" stroke-linecap=\"butt\" stroke-linejoin=\"miter\" stroke-width=\"1.00\">\n",
       "</g>\n",
       "<g color=\"black\" fill=\"none\" stroke=\"currentColor\" stroke-linecap=\"butt\" stroke-linejoin=\"miter\" stroke-width=\"1.00\">\n",
       "\t<g shape-rendering=\"crispEdges\" stroke=\"none\">\n",
       "\t\t<polygon fill=\"rgb( 68,   1,  84)\" points=\"390.6,397.6 390.6,382.5 430.9,382.5 430.9,397.6 390.6,397.6 \"/>\n",
       "\t</g>\n",
       "\t<path d=\"M390.6,397.6 L390.6,382.5 L430.9,382.5 L430.9,397.6 L390.6,397.6  \" stroke=\"rgb( 68,   1,  84)\"/></g>\n",
       "\t</g>\n",
       "\t<g id=\"gnuplot_plot_18a\"><title>gnuplot_plot_18a</title>\n",
       "<g color=\"#FFFFFF\" fill=\"none\" stroke=\"rgb( 68,   1,  84)\" stroke-linecap=\"butt\" stroke-linejoin=\"miter\" stroke-width=\"0.50\">\n",
       "</g>\n",
       "<g color=\"black\" fill=\"none\" stroke=\"currentColor\" stroke-linecap=\"butt\" stroke-linejoin=\"miter\" stroke-width=\"0.50\">\n",
       "\t<path d=\"M390.6,397.6 L390.6,382.5 L430.9,382.5 L430.9,397.6 L390.6,397.6  \" stroke=\"rgb(  0,   0,   0)\"/></g>\n",
       "\t</g>\n",
       "\t<g id=\"gnuplot_plot_19a\"><title>gnuplot_plot_19a</title>\n",
       "<g color=\"#FFFFFF\" fill=\"none\" stroke=\"rgb(  0,   0,   0)\" stroke-linecap=\"butt\" stroke-linejoin=\"miter\" stroke-width=\"1.00\">\n",
       "</g>\n",
       "<g color=\"black\" fill=\"none\" stroke=\"currentColor\" stroke-linecap=\"butt\" stroke-linejoin=\"miter\" stroke-width=\"1.00\">\n",
       "\t<g shape-rendering=\"crispEdges\" stroke=\"none\">\n",
       "\t\t<polygon fill=\"rgb( 68,   1,  84)\" points=\"430.9,397.6 430.9,395.3 471.2,395.3 471.2,397.6 430.9,397.6 \"/>\n",
       "\t</g>\n",
       "\t<path d=\"M430.9,397.6 L430.9,395.3 L471.2,395.3 L471.2,397.6 L430.9,397.6  \" stroke=\"rgb( 68,   1,  84)\"/></g>\n",
       "\t</g>\n",
       "\t<g id=\"gnuplot_plot_20a\"><title>gnuplot_plot_20a</title>\n",
       "<g color=\"#FFFFFF\" fill=\"none\" stroke=\"rgb( 68,   1,  84)\" stroke-linecap=\"butt\" stroke-linejoin=\"miter\" stroke-width=\"0.50\">\n",
       "</g>\n",
       "<g color=\"black\" fill=\"none\" stroke=\"currentColor\" stroke-linecap=\"butt\" stroke-linejoin=\"miter\" stroke-width=\"0.50\">\n",
       "\t<path d=\"M430.9,397.6 L430.9,395.3 L471.2,395.3 L471.2,397.6 L430.9,397.6  \" stroke=\"rgb(  0,   0,   0)\"/></g>\n",
       "\t</g>\n",
       "\t<g id=\"gnuplot_plot_21a\"><title>gnuplot_plot_21a</title>\n",
       "<g color=\"black\" fill=\"none\" stroke=\"currentColor\" stroke-linecap=\"butt\" stroke-linejoin=\"miter\" stroke-width=\"0.50\">\n",
       "\t<path d=\"M33.8,397.6 L544.3,397.6  \" stroke=\"rgb(  0,   0,   0)\"/></g>\n",
       "\t</g>\n",
       "<g color=\"#FFFFFF\" fill=\"none\" stroke=\"rgb(  0,   0,   0)\" stroke-linecap=\"butt\" stroke-linejoin=\"miter\" stroke-width=\"2.00\">\n",
       "</g>\n",
       "<g color=\"black\" fill=\"none\" stroke=\"currentColor\" stroke-linecap=\"butt\" stroke-linejoin=\"miter\" stroke-width=\"2.00\">\n",
       "</g>\n",
       "<g color=\"black\" fill=\"none\" stroke=\"black\" stroke-linecap=\"butt\" stroke-linejoin=\"miter\" stroke-width=\"0.50\">\n",
       "\t<path d=\"M33.8,397.6 L544.3,397.6 M33.8,11.3 L544.3,11.3 M33.8,397.6 L33.8,11.3 M544.3,397.6 L544.3,11.3    \" stroke=\"rgb( 38,  38,  38)\"/></g>\n",
       "<g color=\"black\" fill=\"none\" stroke=\"rgb( 38,  38,  38)\" stroke-linecap=\"butt\" stroke-linejoin=\"miter\" stroke-width=\"1.00\">\n",
       "</g>\n",
       "<g color=\"black\" fill=\"none\" stroke=\"currentColor\" stroke-linecap=\"butt\" stroke-linejoin=\"miter\" stroke-width=\"1.00\">\n",
       "</g>\n",
       "</g>\n",
       "</svg>"
      ],
      "text/plain": [
       "<IPython.core.display.SVG object>"
      ]
     },
     "metadata": {},
     "output_type": "display_data"
    }
   ],
   "source": [
    "hist(w)"
   ]
  },
  {
   "cell_type": "code",
   "execution_count": 38,
   "metadata": {},
   "outputs": [
    {
     "data": {
      "image/svg+xml": [
       "<svg height=\"420px\" viewBox=\"0 0 560 420\" width=\"560px\" xmlns=\"http://www.w3.org/2000/svg\" xmlns:xlink=\"http://www.w3.org/1999/xlink\">\n",
       "\n",
       "<title>Gnuplot</title>\n",
       "<desc>Produced by GNUPLOT 5.2 patchlevel 5 </desc>\n",
       "\n",
       "<g id=\"gnuplot_canvas\">\n",
       "\n",
       "<rect fill=\"#ffffff\" height=\"420\" width=\"560\" x=\"0\" y=\"0\"/>\n",
       "<defs>\n",
       "\n",
       "\t<circle id=\"gpDot\" r=\"0.5\" stroke=\"currentColor\" stroke-width=\"0.5\"/>\n",
       "\t<path d=\"M-1,0 h2 M0,-1 v2\" id=\"gpPt0\" stroke=\"currentColor\" stroke-width=\"0.357\"/>\n",
       "\t<path d=\"M-1,-1 L1,1 M1,-1 L-1,1\" id=\"gpPt1\" stroke=\"currentColor\" stroke-width=\"0.357\"/>\n",
       "\t<path d=\"M-1,0 L1,0 M0,-1 L0,1 M-1,-1 L1,1 M-1,1 L1,-1\" id=\"gpPt2\" stroke=\"currentColor\" stroke-width=\"0.357\"/>\n",
       "\t<rect height=\"2\" id=\"gpPt3\" stroke=\"currentColor\" stroke-width=\"0.357\" width=\"2\" x=\"-1\" y=\"-1\"/>\n",
       "\t<rect fill=\"currentColor\" height=\"2\" id=\"gpPt4\" stroke=\"currentColor\" stroke-width=\"0.357\" width=\"2\" x=\"-1\" y=\"-1\"/>\n",
       "\t<circle cx=\"0\" cy=\"0\" id=\"gpPt5\" r=\"1\" stroke=\"currentColor\" stroke-width=\"0.357\"/>\n",
       "\t<use fill=\"currentColor\" id=\"gpPt6\" stroke=\"none\" xlink:href=\"#gpPt5\"/>\n",
       "\t<path d=\"M0,-1.33 L-1.33,0.67 L1.33,0.67 z\" id=\"gpPt7\" stroke=\"currentColor\" stroke-width=\"0.357\"/>\n",
       "\t<use fill=\"currentColor\" id=\"gpPt8\" stroke=\"none\" xlink:href=\"#gpPt7\"/>\n",
       "\t<use id=\"gpPt9\" stroke=\"currentColor\" transform=\"rotate(180)\" xlink:href=\"#gpPt7\"/>\n",
       "\t<use fill=\"currentColor\" id=\"gpPt10\" stroke=\"none\" xlink:href=\"#gpPt9\"/>\n",
       "\t<use id=\"gpPt11\" stroke=\"currentColor\" transform=\"rotate(45)\" xlink:href=\"#gpPt3\"/>\n",
       "\t<use fill=\"currentColor\" id=\"gpPt12\" stroke=\"none\" xlink:href=\"#gpPt11\"/>\n",
       "\t<path d=\"M0,1.330 L1.265,0.411 L0.782,-1.067 L-0.782,-1.076 L-1.265,0.411 z\" id=\"gpPt13\" stroke=\"currentColor\" stroke-width=\"0.357\"/>\n",
       "\t<use fill=\"currentColor\" id=\"gpPt14\" stroke=\"none\" xlink:href=\"#gpPt13\"/>\n",
       "\t<filter filterUnits=\"objectBoundingBox\" height=\"1\" id=\"textbox\" width=\"1\" x=\"0\" y=\"0\">\n",
       "\t  <feFlood flood-color=\"#FFFFFF\" flood-opacity=\"1\" result=\"bgnd\"/>\n",
       "\t  <feComposite in=\"SourceGraphic\" in2=\"bgnd\" operator=\"atop\"/>\n",
       "\t</filter>\n",
       "\t<filter filterUnits=\"objectBoundingBox\" height=\"1\" id=\"greybox\" width=\"1\" x=\"0\" y=\"0\">\n",
       "\t  <feFlood flood-color=\"lightgrey\" flood-opacity=\"1\" result=\"grey\"/>\n",
       "\t  <feComposite in=\"SourceGraphic\" in2=\"grey\" operator=\"atop\"/>\n",
       "\t</filter>\n",
       "</defs>\n",
       "<g color=\"#FFFFFF\" fill=\"none\" stroke=\"currentColor\" stroke-linecap=\"butt\" stroke-linejoin=\"miter\" stroke-width=\"1.00\">\n",
       "</g>\n",
       "<g color=\"black\" fill=\"none\" stroke=\"currentColor\" stroke-linecap=\"butt\" stroke-linejoin=\"miter\" stroke-width=\"1.00\">\n",
       "\t<g shape-rendering=\"crispEdges\" stroke=\"none\">\n",
       "\t\t<polygon fill=\"rgb(255, 255, 255)\" points=\"28.6,397.6 544.2,397.6 544.2,11.4 28.6,11.4 \"/>\n",
       "\t</g>\n",
       "</g>\n",
       "<g color=\"black\" fill=\"none\" stroke=\"currentColor\" stroke-linecap=\"butt\" stroke-linejoin=\"miter\" stroke-width=\"1.00\">\n",
       "\t<path d=\"M28.6,397.6 L36.4,397.6 M544.3,397.6 L536.5,397.6  \" stroke=\"rgb(  0,   0,   0)\"/>\t<g fill=\"rgb(38,38,38)\" font-family=\"Arial\" font-size=\"10.00\" stroke=\"none\" text-anchor=\"end\" transform=\"translate(23.4,400.9)\">\n",
       "\t\t<text><tspan font-family=\"Arial\">0</tspan></text>\n",
       "\t</g>\n",
       "</g>\n",
       "<g color=\"black\" fill=\"none\" stroke=\"currentColor\" stroke-linecap=\"butt\" stroke-linejoin=\"miter\" stroke-width=\"1.00\">\n",
       "\t<path d=\"M28.6,342.4 L36.4,342.4 M544.3,342.4 L536.5,342.4  \" stroke=\"rgb(  0,   0,   0)\"/>\t<g fill=\"rgb(38,38,38)\" font-family=\"Arial\" font-size=\"10.00\" stroke=\"none\" text-anchor=\"end\" transform=\"translate(23.4,345.7)\">\n",
       "\t\t<text><tspan font-family=\"Arial\">100</tspan></text>\n",
       "\t</g>\n",
       "</g>\n",
       "<g color=\"black\" fill=\"none\" stroke=\"currentColor\" stroke-linecap=\"butt\" stroke-linejoin=\"miter\" stroke-width=\"1.00\">\n",
       "\t<path d=\"M28.6,287.2 L36.4,287.2 M544.3,287.2 L536.5,287.2  \" stroke=\"rgb(  0,   0,   0)\"/>\t<g fill=\"rgb(38,38,38)\" font-family=\"Arial\" font-size=\"10.00\" stroke=\"none\" text-anchor=\"end\" transform=\"translate(23.4,290.5)\">\n",
       "\t\t<text><tspan font-family=\"Arial\">200</tspan></text>\n",
       "\t</g>\n",
       "</g>\n",
       "<g color=\"black\" fill=\"none\" stroke=\"currentColor\" stroke-linecap=\"butt\" stroke-linejoin=\"miter\" stroke-width=\"1.00\">\n",
       "\t<path d=\"M28.6,232.0 L36.4,232.0 M544.3,232.0 L536.5,232.0  \" stroke=\"rgb(  0,   0,   0)\"/>\t<g fill=\"rgb(38,38,38)\" font-family=\"Arial\" font-size=\"10.00\" stroke=\"none\" text-anchor=\"end\" transform=\"translate(23.4,235.3)\">\n",
       "\t\t<text><tspan font-family=\"Arial\">300</tspan></text>\n",
       "\t</g>\n",
       "</g>\n",
       "<g color=\"black\" fill=\"none\" stroke=\"currentColor\" stroke-linecap=\"butt\" stroke-linejoin=\"miter\" stroke-width=\"1.00\">\n",
       "\t<path d=\"M28.6,176.9 L36.4,176.9 M544.3,176.9 L536.5,176.9  \" stroke=\"rgb(  0,   0,   0)\"/>\t<g fill=\"rgb(38,38,38)\" font-family=\"Arial\" font-size=\"10.00\" stroke=\"none\" text-anchor=\"end\" transform=\"translate(23.4,180.2)\">\n",
       "\t\t<text><tspan font-family=\"Arial\">400</tspan></text>\n",
       "\t</g>\n",
       "</g>\n",
       "<g color=\"black\" fill=\"none\" stroke=\"currentColor\" stroke-linecap=\"butt\" stroke-linejoin=\"miter\" stroke-width=\"1.00\">\n",
       "\t<path d=\"M28.6,121.7 L36.4,121.7 M544.3,121.7 L536.5,121.7  \" stroke=\"rgb(  0,   0,   0)\"/>\t<g fill=\"rgb(38,38,38)\" font-family=\"Arial\" font-size=\"10.00\" stroke=\"none\" text-anchor=\"end\" transform=\"translate(23.4,125.0)\">\n",
       "\t\t<text><tspan font-family=\"Arial\">500</tspan></text>\n",
       "\t</g>\n",
       "</g>\n",
       "<g color=\"black\" fill=\"none\" stroke=\"currentColor\" stroke-linecap=\"butt\" stroke-linejoin=\"miter\" stroke-width=\"1.00\">\n",
       "\t<path d=\"M28.6,66.5 L36.4,66.5 M544.3,66.5 L536.5,66.5  \" stroke=\"rgb(  0,   0,   0)\"/>\t<g fill=\"rgb(38,38,38)\" font-family=\"Arial\" font-size=\"10.00\" stroke=\"none\" text-anchor=\"end\" transform=\"translate(23.4,69.8)\">\n",
       "\t\t<text><tspan font-family=\"Arial\">600</tspan></text>\n",
       "\t</g>\n",
       "</g>\n",
       "<g color=\"black\" fill=\"none\" stroke=\"currentColor\" stroke-linecap=\"butt\" stroke-linejoin=\"miter\" stroke-width=\"1.00\">\n",
       "\t<path d=\"M28.6,11.3 L36.4,11.3 M544.3,11.3 L536.5,11.3  \" stroke=\"rgb(  0,   0,   0)\"/>\t<g fill=\"rgb(38,38,38)\" font-family=\"Arial\" font-size=\"10.00\" stroke=\"none\" text-anchor=\"end\" transform=\"translate(23.4,14.6)\">\n",
       "\t\t<text><tspan font-family=\"Arial\">700</tspan></text>\n",
       "\t</g>\n",
       "</g>\n",
       "<g color=\"black\" fill=\"none\" stroke=\"currentColor\" stroke-linecap=\"butt\" stroke-linejoin=\"miter\" stroke-width=\"1.00\">\n",
       "\t<path d=\"M28.6,397.6 L28.6,389.8 M28.6,11.3 L28.6,19.1  \" stroke=\"rgb(  0,   0,   0)\"/>\t<g fill=\"rgb(38,38,38)\" font-family=\"Arial\" font-size=\"10.00\" stroke=\"none\" text-anchor=\"middle\" transform=\"translate(28.6,412.1)\">\n",
       "\t\t<text><tspan font-family=\"Arial\">-20</tspan></text>\n",
       "\t</g>\n",
       "</g>\n",
       "<g color=\"black\" fill=\"none\" stroke=\"currentColor\" stroke-linecap=\"butt\" stroke-linejoin=\"miter\" stroke-width=\"1.00\">\n",
       "\t<path d=\"M114.6,397.6 L114.6,389.8 M114.6,11.3 L114.6,19.1  \" stroke=\"rgb(  0,   0,   0)\"/>\t<g fill=\"rgb(38,38,38)\" font-family=\"Arial\" font-size=\"10.00\" stroke=\"none\" text-anchor=\"middle\" transform=\"translate(114.6,412.1)\">\n",
       "\t\t<text><tspan font-family=\"Arial\">-15</tspan></text>\n",
       "\t</g>\n",
       "</g>\n",
       "<g color=\"black\" fill=\"none\" stroke=\"currentColor\" stroke-linecap=\"butt\" stroke-linejoin=\"miter\" stroke-width=\"1.00\">\n",
       "\t<path d=\"M200.5,397.6 L200.5,389.8 M200.5,11.3 L200.5,19.1  \" stroke=\"rgb(  0,   0,   0)\"/>\t<g fill=\"rgb(38,38,38)\" font-family=\"Arial\" font-size=\"10.00\" stroke=\"none\" text-anchor=\"middle\" transform=\"translate(200.5,412.1)\">\n",
       "\t\t<text><tspan font-family=\"Arial\">-10</tspan></text>\n",
       "\t</g>\n",
       "</g>\n",
       "<g color=\"black\" fill=\"none\" stroke=\"currentColor\" stroke-linecap=\"butt\" stroke-linejoin=\"miter\" stroke-width=\"1.00\">\n",
       "\t<path d=\"M286.5,397.6 L286.5,389.8 M286.5,11.3 L286.5,19.1  \" stroke=\"rgb(  0,   0,   0)\"/>\t<g fill=\"rgb(38,38,38)\" font-family=\"Arial\" font-size=\"10.00\" stroke=\"none\" text-anchor=\"middle\" transform=\"translate(286.5,412.1)\">\n",
       "\t\t<text><tspan font-family=\"Arial\">-5</tspan></text>\n",
       "\t</g>\n",
       "</g>\n",
       "<g color=\"black\" fill=\"none\" stroke=\"currentColor\" stroke-linecap=\"butt\" stroke-linejoin=\"miter\" stroke-width=\"1.00\">\n",
       "\t<path d=\"M372.4,397.6 L372.4,389.8 M372.4,11.3 L372.4,19.1  \" stroke=\"rgb(  0,   0,   0)\"/>\t<g fill=\"rgb(38,38,38)\" font-family=\"Arial\" font-size=\"10.00\" stroke=\"none\" text-anchor=\"middle\" transform=\"translate(372.4,412.1)\">\n",
       "\t\t<text><tspan font-family=\"Arial\">0</tspan></text>\n",
       "\t</g>\n",
       "</g>\n",
       "<g color=\"black\" fill=\"none\" stroke=\"currentColor\" stroke-linecap=\"butt\" stroke-linejoin=\"miter\" stroke-width=\"1.00\">\n",
       "\t<path d=\"M458.4,397.6 L458.4,389.8 M458.4,11.3 L458.4,19.1  \" stroke=\"rgb(  0,   0,   0)\"/>\t<g fill=\"rgb(38,38,38)\" font-family=\"Arial\" font-size=\"10.00\" stroke=\"none\" text-anchor=\"middle\" transform=\"translate(458.4,412.1)\">\n",
       "\t\t<text><tspan font-family=\"Arial\">5</tspan></text>\n",
       "\t</g>\n",
       "</g>\n",
       "<g color=\"black\" fill=\"none\" stroke=\"currentColor\" stroke-linecap=\"butt\" stroke-linejoin=\"miter\" stroke-width=\"1.00\">\n",
       "\t<path d=\"M544.3,397.6 L544.3,389.8 M544.3,11.3 L544.3,19.1  \" stroke=\"rgb(  0,   0,   0)\"/>\t<g fill=\"rgb(38,38,38)\" font-family=\"Arial\" font-size=\"10.00\" stroke=\"none\" text-anchor=\"middle\" transform=\"translate(544.3,412.1)\">\n",
       "\t\t<text><tspan font-family=\"Arial\">10</tspan></text>\n",
       "\t</g>\n",
       "</g>\n",
       "<g color=\"black\" fill=\"none\" stroke=\"currentColor\" stroke-linecap=\"butt\" stroke-linejoin=\"miter\" stroke-width=\"1.00\">\n",
       "</g>\n",
       "<g color=\"black\" fill=\"none\" stroke=\"currentColor\" stroke-linecap=\"butt\" stroke-linejoin=\"miter\" stroke-width=\"1.00\">\n",
       "</g>\n",
       "\t<g id=\"gnuplot_plot_1a\"><title>gnuplot_plot_1a</title>\n",
       "<g color=\"black\" fill=\"none\" stroke=\"currentColor\" stroke-linecap=\"butt\" stroke-linejoin=\"miter\" stroke-width=\"1.00\">\n",
       "\t<g shape-rendering=\"crispEdges\" stroke=\"none\">\n",
       "\t\t<polygon fill=\"rgb( 68,   1,  84)\" points=\"63.3,397.6 63.3,397.0 71.5,397.0 71.5,397.6 63.3,397.6 \"/>\n",
       "\t</g>\n",
       "\t<path d=\"M63.3,397.6 L63.3,397.0 L71.5,397.0 L71.5,397.6 L63.3,397.6  \" stroke=\"rgb( 68,   1,  84)\"/></g>\n",
       "\t</g>\n",
       "\t<g id=\"gnuplot_plot_2a\"><title>gnuplot_plot_2a</title>\n",
       "<g color=\"#FFFFFF\" fill=\"none\" stroke=\"rgb( 68,   1,  84)\" stroke-linecap=\"butt\" stroke-linejoin=\"miter\" stroke-width=\"0.50\">\n",
       "</g>\n",
       "<g color=\"black\" fill=\"none\" stroke=\"currentColor\" stroke-linecap=\"butt\" stroke-linejoin=\"miter\" stroke-width=\"0.50\">\n",
       "\t<path d=\"M63.3,397.6 L63.3,397.0 L71.5,397.0 L71.5,397.6 L63.3,397.6  \" stroke=\"rgb(  0,   0,   0)\"/></g>\n",
       "\t</g>\n",
       "\t<g id=\"gnuplot_plot_3a\"><title>gnuplot_plot_3a</title>\n",
       "<g color=\"#FFFFFF\" fill=\"none\" stroke=\"rgb(  0,   0,   0)\" stroke-linecap=\"butt\" stroke-linejoin=\"miter\" stroke-width=\"1.00\">\n",
       "</g>\n",
       "<g color=\"black\" fill=\"none\" stroke=\"currentColor\" stroke-linecap=\"butt\" stroke-linejoin=\"miter\" stroke-width=\"1.00\">\n",
       "\t<g shape-rendering=\"crispEdges\" stroke=\"none\">\n",
       "\t\t<polygon fill=\"rgb( 68,   1,  84)\" points=\"71.5,397.6 71.5,397.6 79.6,397.6 79.6,397.6 71.5,397.6 \"/>\n",
       "\t</g>\n",
       "\t<path d=\"M71.5,397.6 L79.6,397.6 L71.5,397.6  \" stroke=\"rgb( 68,   1,  84)\"/></g>\n",
       "\t</g>\n",
       "\t<g id=\"gnuplot_plot_4a\"><title>gnuplot_plot_4a</title>\n",
       "<g color=\"#FFFFFF\" fill=\"none\" stroke=\"rgb( 68,   1,  84)\" stroke-linecap=\"butt\" stroke-linejoin=\"miter\" stroke-width=\"0.50\">\n",
       "</g>\n",
       "<g color=\"black\" fill=\"none\" stroke=\"currentColor\" stroke-linecap=\"butt\" stroke-linejoin=\"miter\" stroke-width=\"0.50\">\n",
       "\t<path d=\"M71.5,397.6 L79.6,397.6 L71.5,397.6  \" stroke=\"rgb(  0,   0,   0)\"/></g>\n",
       "\t</g>\n",
       "\t<g id=\"gnuplot_plot_5a\"><title>gnuplot_plot_5a</title>\n",
       "<g color=\"#FFFFFF\" fill=\"none\" stroke=\"rgb(  0,   0,   0)\" stroke-linecap=\"butt\" stroke-linejoin=\"miter\" stroke-width=\"1.00\">\n",
       "</g>\n",
       "<g color=\"black\" fill=\"none\" stroke=\"currentColor\" stroke-linecap=\"butt\" stroke-linejoin=\"miter\" stroke-width=\"1.00\">\n",
       "\t<g shape-rendering=\"crispEdges\" stroke=\"none\">\n",
       "\t\t<polygon fill=\"rgb( 68,   1,  84)\" points=\"79.6,397.6 79.6,397.0 87.8,397.0 87.8,397.6 79.6,397.6 \"/>\n",
       "\t</g>\n",
       "\t<path d=\"M79.6,397.6 L79.6,397.0 L87.8,397.0 L87.8,397.6 L79.6,397.6  \" stroke=\"rgb( 68,   1,  84)\"/></g>\n",
       "\t</g>\n",
       "\t<g id=\"gnuplot_plot_6a\"><title>gnuplot_plot_6a</title>\n",
       "<g color=\"#FFFFFF\" fill=\"none\" stroke=\"rgb( 68,   1,  84)\" stroke-linecap=\"butt\" stroke-linejoin=\"miter\" stroke-width=\"0.50\">\n",
       "</g>\n",
       "<g color=\"black\" fill=\"none\" stroke=\"currentColor\" stroke-linecap=\"butt\" stroke-linejoin=\"miter\" stroke-width=\"0.50\">\n",
       "\t<path d=\"M79.6,397.6 L79.6,397.0 L87.8,397.0 L87.8,397.6 L79.6,397.6  \" stroke=\"rgb(  0,   0,   0)\"/></g>\n",
       "\t</g>\n",
       "\t<g id=\"gnuplot_plot_7a\"><title>gnuplot_plot_7a</title>\n",
       "<g color=\"#FFFFFF\" fill=\"none\" stroke=\"rgb(  0,   0,   0)\" stroke-linecap=\"butt\" stroke-linejoin=\"miter\" stroke-width=\"1.00\">\n",
       "</g>\n",
       "<g color=\"black\" fill=\"none\" stroke=\"currentColor\" stroke-linecap=\"butt\" stroke-linejoin=\"miter\" stroke-width=\"1.00\">\n",
       "\t<g shape-rendering=\"crispEdges\" stroke=\"none\">\n",
       "\t\t<polygon fill=\"rgb( 68,   1,  84)\" points=\"87.8,397.6 87.8,395.9 95.9,395.9 95.9,397.6 87.8,397.6 \"/>\n",
       "\t</g>\n",
       "\t<path d=\"M87.8,397.6 L87.8,395.9 L95.9,395.9 L95.9,397.6 L87.8,397.6  \" stroke=\"rgb( 68,   1,  84)\"/></g>\n",
       "\t</g>\n",
       "\t<g id=\"gnuplot_plot_8a\"><title>gnuplot_plot_8a</title>\n",
       "<g color=\"#FFFFFF\" fill=\"none\" stroke=\"rgb( 68,   1,  84)\" stroke-linecap=\"butt\" stroke-linejoin=\"miter\" stroke-width=\"0.50\">\n",
       "</g>\n",
       "<g color=\"black\" fill=\"none\" stroke=\"currentColor\" stroke-linecap=\"butt\" stroke-linejoin=\"miter\" stroke-width=\"0.50\">\n",
       "\t<path d=\"M87.8,397.6 L87.8,395.9 L95.9,395.9 L95.9,397.6 L87.8,397.6  \" stroke=\"rgb(  0,   0,   0)\"/></g>\n",
       "\t</g>\n",
       "\t<g id=\"gnuplot_plot_9a\"><title>gnuplot_plot_9a</title>\n",
       "<g color=\"#FFFFFF\" fill=\"none\" stroke=\"rgb(  0,   0,   0)\" stroke-linecap=\"butt\" stroke-linejoin=\"miter\" stroke-width=\"1.00\">\n",
       "</g>\n",
       "<g color=\"black\" fill=\"none\" stroke=\"currentColor\" stroke-linecap=\"butt\" stroke-linejoin=\"miter\" stroke-width=\"1.00\">\n",
       "\t<g shape-rendering=\"crispEdges\" stroke=\"none\">\n",
       "\t\t<polygon fill=\"rgb( 68,   1,  84)\" points=\"95.9,397.6 95.9,394.8 104.1,394.8 104.1,397.6 95.9,397.6 \"/>\n",
       "\t</g>\n",
       "\t<path d=\"M95.9,397.6 L95.9,394.8 L104.1,394.8 L104.1,397.6 L95.9,397.6  \" stroke=\"rgb( 68,   1,  84)\"/></g>\n",
       "\t</g>\n",
       "\t<g id=\"gnuplot_plot_10a\"><title>gnuplot_plot_10a</title>\n",
       "<g color=\"#FFFFFF\" fill=\"none\" stroke=\"rgb( 68,   1,  84)\" stroke-linecap=\"butt\" stroke-linejoin=\"miter\" stroke-width=\"0.50\">\n",
       "</g>\n",
       "<g color=\"black\" fill=\"none\" stroke=\"currentColor\" stroke-linecap=\"butt\" stroke-linejoin=\"miter\" stroke-width=\"0.50\">\n",
       "\t<path d=\"M95.9,397.6 L95.9,394.8 L104.1,394.8 L104.1,397.6 L95.9,397.6  \" stroke=\"rgb(  0,   0,   0)\"/></g>\n",
       "\t</g>\n",
       "\t<g id=\"gnuplot_plot_11a\"><title>gnuplot_plot_11a</title>\n",
       "<g color=\"#FFFFFF\" fill=\"none\" stroke=\"rgb(  0,   0,   0)\" stroke-linecap=\"butt\" stroke-linejoin=\"miter\" stroke-width=\"1.00\">\n",
       "</g>\n",
       "<g color=\"black\" fill=\"none\" stroke=\"currentColor\" stroke-linecap=\"butt\" stroke-linejoin=\"miter\" stroke-width=\"1.00\">\n",
       "\t<g shape-rendering=\"crispEdges\" stroke=\"none\">\n",
       "\t\t<polygon fill=\"rgb( 68,   1,  84)\" points=\"104.1,397.6 104.1,393.7 112.2,393.7 112.2,397.6 104.1,397.6 \"/>\n",
       "\t</g>\n",
       "\t<path d=\"M104.1,397.6 L104.1,393.7 L112.2,393.7 L112.2,397.6 L104.1,397.6  \" stroke=\"rgb( 68,   1,  84)\"/></g>\n",
       "\t</g>\n",
       "\t<g id=\"gnuplot_plot_12a\"><title>gnuplot_plot_12a</title>\n",
       "<g color=\"#FFFFFF\" fill=\"none\" stroke=\"rgb( 68,   1,  84)\" stroke-linecap=\"butt\" stroke-linejoin=\"miter\" stroke-width=\"0.50\">\n",
       "</g>\n",
       "<g color=\"black\" fill=\"none\" stroke=\"currentColor\" stroke-linecap=\"butt\" stroke-linejoin=\"miter\" stroke-width=\"0.50\">\n",
       "\t<path d=\"M104.1,397.6 L104.1,393.7 L112.2,393.7 L112.2,397.6 L104.1,397.6  \" stroke=\"rgb(  0,   0,   0)\"/></g>\n",
       "\t</g>\n",
       "\t<g id=\"gnuplot_plot_13a\"><title>gnuplot_plot_13a</title>\n",
       "<g color=\"#FFFFFF\" fill=\"none\" stroke=\"rgb(  0,   0,   0)\" stroke-linecap=\"butt\" stroke-linejoin=\"miter\" stroke-width=\"1.00\">\n",
       "</g>\n",
       "<g color=\"black\" fill=\"none\" stroke=\"currentColor\" stroke-linecap=\"butt\" stroke-linejoin=\"miter\" stroke-width=\"1.00\">\n",
       "\t<g shape-rendering=\"crispEdges\" stroke=\"none\">\n",
       "\t\t<polygon fill=\"rgb( 68,   1,  84)\" points=\"112.2,397.6 112.2,388.2 120.3,388.2 120.3,397.6 112.2,397.6 \"/>\n",
       "\t</g>\n",
       "\t<path d=\"M112.2,397.6 L112.2,388.2 L120.3,388.2 L120.3,397.6 L112.2,397.6  \" stroke=\"rgb( 68,   1,  84)\"/></g>\n",
       "\t</g>\n",
       "\t<g id=\"gnuplot_plot_14a\"><title>gnuplot_plot_14a</title>\n",
       "<g color=\"#FFFFFF\" fill=\"none\" stroke=\"rgb( 68,   1,  84)\" stroke-linecap=\"butt\" stroke-linejoin=\"miter\" stroke-width=\"0.50\">\n",
       "</g>\n",
       "<g color=\"black\" fill=\"none\" stroke=\"currentColor\" stroke-linecap=\"butt\" stroke-linejoin=\"miter\" stroke-width=\"0.50\">\n",
       "\t<path d=\"M112.2,397.6 L112.2,388.2 L120.3,388.2 L120.3,397.6 L112.2,397.6  \" stroke=\"rgb(  0,   0,   0)\"/></g>\n",
       "\t</g>\n",
       "\t<g id=\"gnuplot_plot_15a\"><title>gnuplot_plot_15a</title>\n",
       "<g color=\"#FFFFFF\" fill=\"none\" stroke=\"rgb(  0,   0,   0)\" stroke-linecap=\"butt\" stroke-linejoin=\"miter\" stroke-width=\"1.00\">\n",
       "</g>\n",
       "<g color=\"black\" fill=\"none\" stroke=\"currentColor\" stroke-linecap=\"butt\" stroke-linejoin=\"miter\" stroke-width=\"1.00\">\n",
       "\t<g shape-rendering=\"crispEdges\" stroke=\"none\">\n",
       "\t\t<polygon fill=\"rgb( 68,   1,  84)\" points=\"120.3,397.6 120.3,386.0 128.5,386.0 128.5,397.6 120.3,397.6 \"/>\n",
       "\t</g>\n",
       "\t<path d=\"M120.3,397.6 L120.3,386.0 L128.5,386.0 L128.5,397.6 L120.3,397.6  \" stroke=\"rgb( 68,   1,  84)\"/></g>\n",
       "\t</g>\n",
       "\t<g id=\"gnuplot_plot_16a\"><title>gnuplot_plot_16a</title>\n",
       "<g color=\"#FFFFFF\" fill=\"none\" stroke=\"rgb( 68,   1,  84)\" stroke-linecap=\"butt\" stroke-linejoin=\"miter\" stroke-width=\"0.50\">\n",
       "</g>\n",
       "<g color=\"black\" fill=\"none\" stroke=\"currentColor\" stroke-linecap=\"butt\" stroke-linejoin=\"miter\" stroke-width=\"0.50\">\n",
       "\t<path d=\"M120.3,397.6 L120.3,386.0 L128.5,386.0 L128.5,397.6 L120.3,397.6  \" stroke=\"rgb(  0,   0,   0)\"/></g>\n",
       "\t</g>\n",
       "\t<g id=\"gnuplot_plot_17a\"><title>gnuplot_plot_17a</title>\n",
       "<g color=\"#FFFFFF\" fill=\"none\" stroke=\"rgb(  0,   0,   0)\" stroke-linecap=\"butt\" stroke-linejoin=\"miter\" stroke-width=\"1.00\">\n",
       "</g>\n",
       "<g color=\"black\" fill=\"none\" stroke=\"currentColor\" stroke-linecap=\"butt\" stroke-linejoin=\"miter\" stroke-width=\"1.00\">\n",
       "\t<g shape-rendering=\"crispEdges\" stroke=\"none\">\n",
       "\t\t<polygon fill=\"rgb( 68,   1,  84)\" points=\"128.5,397.6 128.5,376.1 136.6,376.1 136.6,397.6 128.5,397.6 \"/>\n",
       "\t</g>\n",
       "\t<path d=\"M128.5,397.6 L128.5,376.1 L136.6,376.1 L136.6,397.6 L128.5,397.6  \" stroke=\"rgb( 68,   1,  84)\"/></g>\n",
       "\t</g>\n",
       "\t<g id=\"gnuplot_plot_18a\"><title>gnuplot_plot_18a</title>\n",
       "<g color=\"#FFFFFF\" fill=\"none\" stroke=\"rgb( 68,   1,  84)\" stroke-linecap=\"butt\" stroke-linejoin=\"miter\" stroke-width=\"0.50\">\n",
       "</g>\n",
       "<g color=\"black\" fill=\"none\" stroke=\"currentColor\" stroke-linecap=\"butt\" stroke-linejoin=\"miter\" stroke-width=\"0.50\">\n",
       "\t<path d=\"M128.5,397.6 L128.5,376.1 L136.6,376.1 L136.6,397.6 L128.5,397.6  \" stroke=\"rgb(  0,   0,   0)\"/></g>\n",
       "\t</g>\n",
       "\t<g id=\"gnuplot_plot_19a\"><title>gnuplot_plot_19a</title>\n",
       "<g color=\"#FFFFFF\" fill=\"none\" stroke=\"rgb(  0,   0,   0)\" stroke-linecap=\"butt\" stroke-linejoin=\"miter\" stroke-width=\"1.00\">\n",
       "</g>\n",
       "<g color=\"black\" fill=\"none\" stroke=\"currentColor\" stroke-linecap=\"butt\" stroke-linejoin=\"miter\" stroke-width=\"1.00\">\n",
       "\t<g shape-rendering=\"crispEdges\" stroke=\"none\">\n",
       "\t\t<polygon fill=\"rgb( 68,   1,  84)\" points=\"136.6,397.6 136.6,376.1 144.8,376.1 144.8,397.6 136.6,397.6 \"/>\n",
       "\t</g>\n",
       "\t<path d=\"M136.6,397.6 L136.6,376.1 L144.8,376.1 L144.8,397.6 L136.6,397.6  \" stroke=\"rgb( 68,   1,  84)\"/></g>\n",
       "\t</g>\n",
       "\t<g id=\"gnuplot_plot_20a\"><title>gnuplot_plot_20a</title>\n",
       "<g color=\"#FFFFFF\" fill=\"none\" stroke=\"rgb( 68,   1,  84)\" stroke-linecap=\"butt\" stroke-linejoin=\"miter\" stroke-width=\"0.50\">\n",
       "</g>\n",
       "<g color=\"black\" fill=\"none\" stroke=\"currentColor\" stroke-linecap=\"butt\" stroke-linejoin=\"miter\" stroke-width=\"0.50\">\n",
       "\t<path d=\"M136.6,397.6 L136.6,376.1 L144.8,376.1 L144.8,397.6 L136.6,397.6  \" stroke=\"rgb(  0,   0,   0)\"/></g>\n",
       "\t</g>\n",
       "\t<g id=\"gnuplot_plot_21a\"><title>gnuplot_plot_21a</title>\n",
       "<g color=\"#FFFFFF\" fill=\"none\" stroke=\"rgb(  0,   0,   0)\" stroke-linecap=\"butt\" stroke-linejoin=\"miter\" stroke-width=\"1.00\">\n",
       "</g>\n",
       "<g color=\"black\" fill=\"none\" stroke=\"currentColor\" stroke-linecap=\"butt\" stroke-linejoin=\"miter\" stroke-width=\"1.00\">\n",
       "\t<g shape-rendering=\"crispEdges\" stroke=\"none\">\n",
       "\t\t<polygon fill=\"rgb( 68,   1,  84)\" points=\"144.8,397.6 144.8,366.7 152.9,366.7 152.9,397.6 144.8,397.6 \"/>\n",
       "\t</g>\n",
       "\t<path d=\"M144.8,397.6 L144.8,366.7 L152.9,366.7 L152.9,397.6 L144.8,397.6  \" stroke=\"rgb( 68,   1,  84)\"/></g>\n",
       "\t</g>\n",
       "\t<g id=\"gnuplot_plot_22a\"><title>gnuplot_plot_22a</title>\n",
       "<g color=\"#FFFFFF\" fill=\"none\" stroke=\"rgb( 68,   1,  84)\" stroke-linecap=\"butt\" stroke-linejoin=\"miter\" stroke-width=\"0.50\">\n",
       "</g>\n",
       "<g color=\"black\" fill=\"none\" stroke=\"currentColor\" stroke-linecap=\"butt\" stroke-linejoin=\"miter\" stroke-width=\"0.50\">\n",
       "\t<path d=\"M144.8,397.6 L144.8,366.7 L152.9,366.7 L152.9,397.6 L144.8,397.6  \" stroke=\"rgb(  0,   0,   0)\"/></g>\n",
       "\t</g>\n",
       "\t<g id=\"gnuplot_plot_23a\"><title>gnuplot_plot_23a</title>\n",
       "<g color=\"#FFFFFF\" fill=\"none\" stroke=\"rgb(  0,   0,   0)\" stroke-linecap=\"butt\" stroke-linejoin=\"miter\" stroke-width=\"1.00\">\n",
       "</g>\n",
       "<g color=\"black\" fill=\"none\" stroke=\"currentColor\" stroke-linecap=\"butt\" stroke-linejoin=\"miter\" stroke-width=\"1.00\">\n",
       "\t<g shape-rendering=\"crispEdges\" stroke=\"none\">\n",
       "\t\t<polygon fill=\"rgb( 68,   1,  84)\" points=\"152.9,397.6 152.9,361.2 161.0,361.2 161.0,397.6 152.9,397.6 \"/>\n",
       "\t</g>\n",
       "\t<path d=\"M152.9,397.6 L152.9,361.2 L161.0,361.2 L161.0,397.6 L152.9,397.6  \" stroke=\"rgb( 68,   1,  84)\"/></g>\n",
       "\t</g>\n",
       "\t<g id=\"gnuplot_plot_24a\"><title>gnuplot_plot_24a</title>\n",
       "<g color=\"#FFFFFF\" fill=\"none\" stroke=\"rgb( 68,   1,  84)\" stroke-linecap=\"butt\" stroke-linejoin=\"miter\" stroke-width=\"0.50\">\n",
       "</g>\n",
       "<g color=\"black\" fill=\"none\" stroke=\"currentColor\" stroke-linecap=\"butt\" stroke-linejoin=\"miter\" stroke-width=\"0.50\">\n",
       "\t<path d=\"M152.9,397.6 L152.9,361.2 L161.0,361.2 L161.0,397.6 L152.9,397.6  \" stroke=\"rgb(  0,   0,   0)\"/></g>\n",
       "\t</g>\n",
       "\t<g id=\"gnuplot_plot_25a\"><title>gnuplot_plot_25a</title>\n",
       "<g color=\"#FFFFFF\" fill=\"none\" stroke=\"rgb(  0,   0,   0)\" stroke-linecap=\"butt\" stroke-linejoin=\"miter\" stroke-width=\"1.00\">\n",
       "</g>\n",
       "<g color=\"black\" fill=\"none\" stroke=\"currentColor\" stroke-linecap=\"butt\" stroke-linejoin=\"miter\" stroke-width=\"1.00\">\n",
       "\t<g shape-rendering=\"crispEdges\" stroke=\"none\">\n",
       "\t\t<polygon fill=\"rgb( 68,   1,  84)\" points=\"161.0,397.6 161.0,350.1 169.2,350.1 169.2,397.6 161.0,397.6 \"/>\n",
       "\t</g>\n",
       "\t<path d=\"M161.0,397.6 L161.0,350.1 L169.2,350.1 L169.2,397.6 L161.0,397.6  \" stroke=\"rgb( 68,   1,  84)\"/></g>\n",
       "\t</g>\n",
       "\t<g id=\"gnuplot_plot_26a\"><title>gnuplot_plot_26a</title>\n",
       "<g color=\"#FFFFFF\" fill=\"none\" stroke=\"rgb( 68,   1,  84)\" stroke-linecap=\"butt\" stroke-linejoin=\"miter\" stroke-width=\"0.50\">\n",
       "</g>\n",
       "<g color=\"black\" fill=\"none\" stroke=\"currentColor\" stroke-linecap=\"butt\" stroke-linejoin=\"miter\" stroke-width=\"0.50\">\n",
       "\t<path d=\"M161.0,397.6 L161.0,350.1 L169.2,350.1 L169.2,397.6 L161.0,397.6  \" stroke=\"rgb(  0,   0,   0)\"/></g>\n",
       "\t</g>\n",
       "\t<g id=\"gnuplot_plot_27a\"><title>gnuplot_plot_27a</title>\n",
       "<g color=\"#FFFFFF\" fill=\"none\" stroke=\"rgb(  0,   0,   0)\" stroke-linecap=\"butt\" stroke-linejoin=\"miter\" stroke-width=\"1.00\">\n",
       "</g>\n",
       "<g color=\"black\" fill=\"none\" stroke=\"currentColor\" stroke-linecap=\"butt\" stroke-linejoin=\"miter\" stroke-width=\"1.00\">\n",
       "\t<g shape-rendering=\"crispEdges\" stroke=\"none\">\n",
       "\t\t<polygon fill=\"rgb( 68,   1,  84)\" points=\"169.2,397.6 169.2,332.5 177.3,332.5 177.3,397.6 169.2,397.6 \"/>\n",
       "\t</g>\n",
       "\t<path d=\"M169.2,397.6 L169.2,332.5 L177.3,332.5 L177.3,397.6 L169.2,397.6  \" stroke=\"rgb( 68,   1,  84)\"/></g>\n",
       "\t</g>\n",
       "\t<g id=\"gnuplot_plot_28a\"><title>gnuplot_plot_28a</title>\n",
       "<g color=\"#FFFFFF\" fill=\"none\" stroke=\"rgb( 68,   1,  84)\" stroke-linecap=\"butt\" stroke-linejoin=\"miter\" stroke-width=\"0.50\">\n",
       "</g>\n",
       "<g color=\"black\" fill=\"none\" stroke=\"currentColor\" stroke-linecap=\"butt\" stroke-linejoin=\"miter\" stroke-width=\"0.50\">\n",
       "\t<path d=\"M169.2,397.6 L169.2,332.5 L177.3,332.5 L177.3,397.6 L169.2,397.6  \" stroke=\"rgb(  0,   0,   0)\"/></g>\n",
       "\t</g>\n",
       "\t<g id=\"gnuplot_plot_29a\"><title>gnuplot_plot_29a</title>\n",
       "<g color=\"#FFFFFF\" fill=\"none\" stroke=\"rgb(  0,   0,   0)\" stroke-linecap=\"butt\" stroke-linejoin=\"miter\" stroke-width=\"1.00\">\n",
       "</g>\n",
       "<g color=\"black\" fill=\"none\" stroke=\"currentColor\" stroke-linecap=\"butt\" stroke-linejoin=\"miter\" stroke-width=\"1.00\">\n",
       "\t<g shape-rendering=\"crispEdges\" stroke=\"none\">\n",
       "\t\t<polygon fill=\"rgb( 68,   1,  84)\" points=\"177.3,397.6 177.3,299.4 185.5,299.4 185.5,397.6 177.3,397.6 \"/>\n",
       "\t</g>\n",
       "\t<path d=\"M177.3,397.6 L177.3,299.4 L185.5,299.4 L185.5,397.6 L177.3,397.6  \" stroke=\"rgb( 68,   1,  84)\"/></g>\n",
       "\t</g>\n",
       "\t<g id=\"gnuplot_plot_30a\"><title>gnuplot_plot_30a</title>\n",
       "<g color=\"#FFFFFF\" fill=\"none\" stroke=\"rgb( 68,   1,  84)\" stroke-linecap=\"butt\" stroke-linejoin=\"miter\" stroke-width=\"0.50\">\n",
       "</g>\n",
       "<g color=\"black\" fill=\"none\" stroke=\"currentColor\" stroke-linecap=\"butt\" stroke-linejoin=\"miter\" stroke-width=\"0.50\">\n",
       "\t<path d=\"M177.3,397.6 L177.3,299.4 L185.5,299.4 L185.5,397.6 L177.3,397.6  \" stroke=\"rgb(  0,   0,   0)\"/></g>\n",
       "\t</g>\n",
       "\t<g id=\"gnuplot_plot_31a\"><title>gnuplot_plot_31a</title>\n",
       "<g color=\"#FFFFFF\" fill=\"none\" stroke=\"rgb(  0,   0,   0)\" stroke-linecap=\"butt\" stroke-linejoin=\"miter\" stroke-width=\"1.00\">\n",
       "</g>\n",
       "<g color=\"black\" fill=\"none\" stroke=\"currentColor\" stroke-linecap=\"butt\" stroke-linejoin=\"miter\" stroke-width=\"1.00\">\n",
       "\t<g shape-rendering=\"crispEdges\" stroke=\"none\">\n",
       "\t\t<polygon fill=\"rgb( 68,   1,  84)\" points=\"185.5,397.6 185.5,275.1 193.6,275.1 193.6,397.6 185.5,397.6 \"/>\n",
       "\t</g>\n",
       "\t<path d=\"M185.5,397.6 L185.5,275.1 L193.6,275.1 L193.6,397.6 L185.5,397.6  \" stroke=\"rgb( 68,   1,  84)\"/></g>\n",
       "\t</g>\n",
       "\t<g id=\"gnuplot_plot_32a\"><title>gnuplot_plot_32a</title>\n",
       "<g color=\"#FFFFFF\" fill=\"none\" stroke=\"rgb( 68,   1,  84)\" stroke-linecap=\"butt\" stroke-linejoin=\"miter\" stroke-width=\"0.50\">\n",
       "</g>\n",
       "<g color=\"black\" fill=\"none\" stroke=\"currentColor\" stroke-linecap=\"butt\" stroke-linejoin=\"miter\" stroke-width=\"0.50\">\n",
       "\t<path d=\"M185.5,397.6 L185.5,275.1 L193.6,275.1 L193.6,397.6 L185.5,397.6  \" stroke=\"rgb(  0,   0,   0)\"/></g>\n",
       "\t</g>\n",
       "\t<g id=\"gnuplot_plot_33a\"><title>gnuplot_plot_33a</title>\n",
       "<g color=\"#FFFFFF\" fill=\"none\" stroke=\"rgb(  0,   0,   0)\" stroke-linecap=\"butt\" stroke-linejoin=\"miter\" stroke-width=\"1.00\">\n",
       "</g>\n",
       "<g color=\"black\" fill=\"none\" stroke=\"currentColor\" stroke-linecap=\"butt\" stroke-linejoin=\"miter\" stroke-width=\"1.00\">\n",
       "\t<g shape-rendering=\"crispEdges\" stroke=\"none\">\n",
       "\t\t<polygon fill=\"rgb( 68,   1,  84)\" points=\"193.6,397.6 193.6,250.8 201.8,250.8 201.8,397.6 193.6,397.6 \"/>\n",
       "\t</g>\n",
       "\t<path d=\"M193.6,397.6 L193.6,250.8 L201.8,250.8 L201.8,397.6 L193.6,397.6  \" stroke=\"rgb( 68,   1,  84)\"/></g>\n",
       "\t</g>\n",
       "\t<g id=\"gnuplot_plot_34a\"><title>gnuplot_plot_34a</title>\n",
       "<g color=\"#FFFFFF\" fill=\"none\" stroke=\"rgb( 68,   1,  84)\" stroke-linecap=\"butt\" stroke-linejoin=\"miter\" stroke-width=\"0.50\">\n",
       "</g>\n",
       "<g color=\"black\" fill=\"none\" stroke=\"currentColor\" stroke-linecap=\"butt\" stroke-linejoin=\"miter\" stroke-width=\"0.50\">\n",
       "\t<path d=\"M193.6,397.6 L193.6,250.8 L201.8,250.8 L201.8,397.6 L193.6,397.6  \" stroke=\"rgb(  0,   0,   0)\"/></g>\n",
       "\t</g>\n",
       "\t<g id=\"gnuplot_plot_35a\"><title>gnuplot_plot_35a</title>\n",
       "<g color=\"#FFFFFF\" fill=\"none\" stroke=\"rgb(  0,   0,   0)\" stroke-linecap=\"butt\" stroke-linejoin=\"miter\" stroke-width=\"1.00\">\n",
       "</g>\n",
       "<g color=\"black\" fill=\"none\" stroke=\"currentColor\" stroke-linecap=\"butt\" stroke-linejoin=\"miter\" stroke-width=\"1.00\">\n",
       "\t<g shape-rendering=\"crispEdges\" stroke=\"none\">\n",
       "\t\t<polygon fill=\"rgb( 68,   1,  84)\" points=\"201.8,397.6 201.8,235.4 209.9,235.4 209.9,397.6 201.8,397.6 \"/>\n",
       "\t</g>\n",
       "\t<path d=\"M201.8,397.6 L201.8,235.4 L209.9,235.4 L209.9,397.6 L201.8,397.6  \" stroke=\"rgb( 68,   1,  84)\"/></g>\n",
       "\t</g>\n",
       "\t<g id=\"gnuplot_plot_36a\"><title>gnuplot_plot_36a</title>\n",
       "<g color=\"#FFFFFF\" fill=\"none\" stroke=\"rgb( 68,   1,  84)\" stroke-linecap=\"butt\" stroke-linejoin=\"miter\" stroke-width=\"0.50\">\n",
       "</g>\n",
       "<g color=\"black\" fill=\"none\" stroke=\"currentColor\" stroke-linecap=\"butt\" stroke-linejoin=\"miter\" stroke-width=\"0.50\">\n",
       "\t<path d=\"M201.8,397.6 L201.8,235.4 L209.9,235.4 L209.9,397.6 L201.8,397.6  \" stroke=\"rgb(  0,   0,   0)\"/></g>\n",
       "\t</g>\n",
       "\t<g id=\"gnuplot_plot_37a\"><title>gnuplot_plot_37a</title>\n",
       "<g color=\"#FFFFFF\" fill=\"none\" stroke=\"rgb(  0,   0,   0)\" stroke-linecap=\"butt\" stroke-linejoin=\"miter\" stroke-width=\"1.00\">\n",
       "</g>\n",
       "<g color=\"black\" fill=\"none\" stroke=\"currentColor\" stroke-linecap=\"butt\" stroke-linejoin=\"miter\" stroke-width=\"1.00\">\n",
       "\t<g shape-rendering=\"crispEdges\" stroke=\"none\">\n",
       "\t\t<polygon fill=\"rgb( 68,   1,  84)\" points=\"209.9,397.6 209.9,203.3 218.0,203.3 218.0,397.6 209.9,397.6 \"/>\n",
       "\t</g>\n",
       "\t<path d=\"M209.9,397.6 L209.9,203.3 L218.0,203.3 L218.0,397.6 L209.9,397.6  \" stroke=\"rgb( 68,   1,  84)\"/></g>\n",
       "\t</g>\n",
       "\t<g id=\"gnuplot_plot_38a\"><title>gnuplot_plot_38a</title>\n",
       "<g color=\"#FFFFFF\" fill=\"none\" stroke=\"rgb( 68,   1,  84)\" stroke-linecap=\"butt\" stroke-linejoin=\"miter\" stroke-width=\"0.50\">\n",
       "</g>\n",
       "<g color=\"black\" fill=\"none\" stroke=\"currentColor\" stroke-linecap=\"butt\" stroke-linejoin=\"miter\" stroke-width=\"0.50\">\n",
       "\t<path d=\"M209.9,397.6 L209.9,203.3 L218.0,203.3 L218.0,397.6 L209.9,397.6  \" stroke=\"rgb(  0,   0,   0)\"/></g>\n",
       "\t</g>\n",
       "\t<g id=\"gnuplot_plot_39a\"><title>gnuplot_plot_39a</title>\n",
       "<g color=\"#FFFFFF\" fill=\"none\" stroke=\"rgb(  0,   0,   0)\" stroke-linecap=\"butt\" stroke-linejoin=\"miter\" stroke-width=\"1.00\">\n",
       "</g>\n",
       "<g color=\"black\" fill=\"none\" stroke=\"currentColor\" stroke-linecap=\"butt\" stroke-linejoin=\"miter\" stroke-width=\"1.00\">\n",
       "\t<g shape-rendering=\"crispEdges\" stroke=\"none\">\n",
       "\t\t<polygon fill=\"rgb( 68,   1,  84)\" points=\"218.0,397.6 218.0,182.9 226.2,182.9 226.2,397.6 218.0,397.6 \"/>\n",
       "\t</g>\n",
       "\t<path d=\"M218.0,397.6 L218.0,182.9 L226.2,182.9 L226.2,397.6 L218.0,397.6  \" stroke=\"rgb( 68,   1,  84)\"/></g>\n",
       "\t</g>\n",
       "\t<g id=\"gnuplot_plot_40a\"><title>gnuplot_plot_40a</title>\n",
       "<g color=\"#FFFFFF\" fill=\"none\" stroke=\"rgb( 68,   1,  84)\" stroke-linecap=\"butt\" stroke-linejoin=\"miter\" stroke-width=\"0.50\">\n",
       "</g>\n",
       "<g color=\"black\" fill=\"none\" stroke=\"currentColor\" stroke-linecap=\"butt\" stroke-linejoin=\"miter\" stroke-width=\"0.50\">\n",
       "\t<path d=\"M218.0,397.6 L218.0,182.9 L226.2,182.9 L226.2,397.6 L218.0,397.6  \" stroke=\"rgb(  0,   0,   0)\"/></g>\n",
       "\t</g>\n",
       "\t<g id=\"gnuplot_plot_41a\"><title>gnuplot_plot_41a</title>\n",
       "<g color=\"#FFFFFF\" fill=\"none\" stroke=\"rgb(  0,   0,   0)\" stroke-linecap=\"butt\" stroke-linejoin=\"miter\" stroke-width=\"1.00\">\n",
       "</g>\n",
       "<g color=\"black\" fill=\"none\" stroke=\"currentColor\" stroke-linecap=\"butt\" stroke-linejoin=\"miter\" stroke-width=\"1.00\">\n",
       "\t<g shape-rendering=\"crispEdges\" stroke=\"none\">\n",
       "\t\t<polygon fill=\"rgb( 68,   1,  84)\" points=\"226.2,397.6 226.2,150.9 234.3,150.9 234.3,397.6 226.2,397.6 \"/>\n",
       "\t</g>\n",
       "\t<path d=\"M226.2,397.6 L226.2,150.9 L234.3,150.9 L234.3,397.6 L226.2,397.6  \" stroke=\"rgb( 68,   1,  84)\"/></g>\n",
       "\t</g>\n",
       "\t<g id=\"gnuplot_plot_42a\"><title>gnuplot_plot_42a</title>\n",
       "<g color=\"#FFFFFF\" fill=\"none\" stroke=\"rgb( 68,   1,  84)\" stroke-linecap=\"butt\" stroke-linejoin=\"miter\" stroke-width=\"0.50\">\n",
       "</g>\n",
       "<g color=\"black\" fill=\"none\" stroke=\"currentColor\" stroke-linecap=\"butt\" stroke-linejoin=\"miter\" stroke-width=\"0.50\">\n",
       "\t<path d=\"M226.2,397.6 L226.2,150.9 L234.3,150.9 L234.3,397.6 L226.2,397.6  \" stroke=\"rgb(  0,   0,   0)\"/></g>\n",
       "\t</g>\n",
       "\t<g id=\"gnuplot_plot_43a\"><title>gnuplot_plot_43a</title>\n",
       "<g color=\"#FFFFFF\" fill=\"none\" stroke=\"rgb(  0,   0,   0)\" stroke-linecap=\"butt\" stroke-linejoin=\"miter\" stroke-width=\"1.00\">\n",
       "</g>\n",
       "<g color=\"black\" fill=\"none\" stroke=\"currentColor\" stroke-linecap=\"butt\" stroke-linejoin=\"miter\" stroke-width=\"1.00\">\n",
       "\t<g shape-rendering=\"crispEdges\" stroke=\"none\">\n",
       "\t\t<polygon fill=\"rgb( 68,   1,  84)\" points=\"234.3,397.6 234.3,97.9 242.5,97.9 242.5,397.6 234.3,397.6 \"/>\n",
       "\t</g>\n",
       "\t<path d=\"M234.3,397.6 L234.3,97.9 L242.5,97.9 L242.5,397.6 L234.3,397.6  \" stroke=\"rgb( 68,   1,  84)\"/></g>\n",
       "\t</g>\n",
       "\t<g id=\"gnuplot_plot_44a\"><title>gnuplot_plot_44a</title>\n",
       "<g color=\"#FFFFFF\" fill=\"none\" stroke=\"rgb( 68,   1,  84)\" stroke-linecap=\"butt\" stroke-linejoin=\"miter\" stroke-width=\"0.50\">\n",
       "</g>\n",
       "<g color=\"black\" fill=\"none\" stroke=\"currentColor\" stroke-linecap=\"butt\" stroke-linejoin=\"miter\" stroke-width=\"0.50\">\n",
       "\t<path d=\"M234.3,397.6 L234.3,97.9 L242.5,97.9 L242.5,397.6 L234.3,397.6  \" stroke=\"rgb(  0,   0,   0)\"/></g>\n",
       "\t</g>\n",
       "\t<g id=\"gnuplot_plot_45a\"><title>gnuplot_plot_45a</title>\n",
       "<g color=\"#FFFFFF\" fill=\"none\" stroke=\"rgb(  0,   0,   0)\" stroke-linecap=\"butt\" stroke-linejoin=\"miter\" stroke-width=\"1.00\">\n",
       "</g>\n",
       "<g color=\"black\" fill=\"none\" stroke=\"currentColor\" stroke-linecap=\"butt\" stroke-linejoin=\"miter\" stroke-width=\"1.00\">\n",
       "\t<g shape-rendering=\"crispEdges\" stroke=\"none\">\n",
       "\t\t<polygon fill=\"rgb( 68,   1,  84)\" points=\"242.5,397.6 242.5,102.4 250.6,102.4 250.6,397.6 242.5,397.6 \"/>\n",
       "\t</g>\n",
       "\t<path d=\"M242.5,397.6 L242.5,102.4 L250.6,102.4 L250.6,397.6 L242.5,397.6  \" stroke=\"rgb( 68,   1,  84)\"/></g>\n",
       "\t</g>\n",
       "\t<g id=\"gnuplot_plot_46a\"><title>gnuplot_plot_46a</title>\n",
       "<g color=\"#FFFFFF\" fill=\"none\" stroke=\"rgb( 68,   1,  84)\" stroke-linecap=\"butt\" stroke-linejoin=\"miter\" stroke-width=\"0.50\">\n",
       "</g>\n",
       "<g color=\"black\" fill=\"none\" stroke=\"currentColor\" stroke-linecap=\"butt\" stroke-linejoin=\"miter\" stroke-width=\"0.50\">\n",
       "\t<path d=\"M242.5,397.6 L242.5,102.4 L250.6,102.4 L250.6,397.6 L242.5,397.6  \" stroke=\"rgb(  0,   0,   0)\"/></g>\n",
       "\t</g>\n",
       "\t<g id=\"gnuplot_plot_47a\"><title>gnuplot_plot_47a</title>\n",
       "<g color=\"#FFFFFF\" fill=\"none\" stroke=\"rgb(  0,   0,   0)\" stroke-linecap=\"butt\" stroke-linejoin=\"miter\" stroke-width=\"1.00\">\n",
       "</g>\n",
       "<g color=\"black\" fill=\"none\" stroke=\"currentColor\" stroke-linecap=\"butt\" stroke-linejoin=\"miter\" stroke-width=\"1.00\">\n",
       "\t<g shape-rendering=\"crispEdges\" stroke=\"none\">\n",
       "\t\t<polygon fill=\"rgb( 68,   1,  84)\" points=\"250.6,397.6 250.6,83.6 258.7,83.6 258.7,397.6 250.6,397.6 \"/>\n",
       "\t</g>\n",
       "\t<path d=\"M250.6,397.6 L250.6,83.6 L258.7,83.6 L258.7,397.6 L250.6,397.6  \" stroke=\"rgb( 68,   1,  84)\"/></g>\n",
       "\t</g>\n",
       "\t<g id=\"gnuplot_plot_48a\"><title>gnuplot_plot_48a</title>\n",
       "<g color=\"#FFFFFF\" fill=\"none\" stroke=\"rgb( 68,   1,  84)\" stroke-linecap=\"butt\" stroke-linejoin=\"miter\" stroke-width=\"0.50\">\n",
       "</g>\n",
       "<g color=\"black\" fill=\"none\" stroke=\"currentColor\" stroke-linecap=\"butt\" stroke-linejoin=\"miter\" stroke-width=\"0.50\">\n",
       "\t<path d=\"M250.6,397.6 L250.6,83.6 L258.7,83.6 L258.7,397.6 L250.6,397.6  \" stroke=\"rgb(  0,   0,   0)\"/></g>\n",
       "\t</g>\n",
       "\t<g id=\"gnuplot_plot_49a\"><title>gnuplot_plot_49a</title>\n",
       "<g color=\"#FFFFFF\" fill=\"none\" stroke=\"rgb(  0,   0,   0)\" stroke-linecap=\"butt\" stroke-linejoin=\"miter\" stroke-width=\"1.00\">\n",
       "</g>\n",
       "<g color=\"black\" fill=\"none\" stroke=\"currentColor\" stroke-linecap=\"butt\" stroke-linejoin=\"miter\" stroke-width=\"1.00\">\n",
       "\t<g shape-rendering=\"crispEdges\" stroke=\"none\">\n",
       "\t\t<polygon fill=\"rgb( 68,   1,  84)\" points=\"258.7,397.6 258.7,78.6 266.9,78.6 266.9,397.6 258.7,397.6 \"/>\n",
       "\t</g>\n",
       "\t<path d=\"M258.7,397.6 L258.7,78.6 L266.9,78.6 L266.9,397.6 L258.7,397.6  \" stroke=\"rgb( 68,   1,  84)\"/></g>\n",
       "\t</g>\n",
       "\t<g id=\"gnuplot_plot_50a\"><title>gnuplot_plot_50a</title>\n",
       "<g color=\"#FFFFFF\" fill=\"none\" stroke=\"rgb( 68,   1,  84)\" stroke-linecap=\"butt\" stroke-linejoin=\"miter\" stroke-width=\"0.50\">\n",
       "</g>\n",
       "<g color=\"black\" fill=\"none\" stroke=\"currentColor\" stroke-linecap=\"butt\" stroke-linejoin=\"miter\" stroke-width=\"0.50\">\n",
       "\t<path d=\"M258.7,397.6 L258.7,78.6 L266.9,78.6 L266.9,397.6 L258.7,397.6  \" stroke=\"rgb(  0,   0,   0)\"/></g>\n",
       "\t</g>\n",
       "\t<g id=\"gnuplot_plot_51a\"><title>gnuplot_plot_51a</title>\n",
       "<g color=\"#FFFFFF\" fill=\"none\" stroke=\"rgb(  0,   0,   0)\" stroke-linecap=\"butt\" stroke-linejoin=\"miter\" stroke-width=\"1.00\">\n",
       "</g>\n",
       "<g color=\"black\" fill=\"none\" stroke=\"currentColor\" stroke-linecap=\"butt\" stroke-linejoin=\"miter\" stroke-width=\"1.00\">\n",
       "\t<g shape-rendering=\"crispEdges\" stroke=\"none\">\n",
       "\t\t<polygon fill=\"rgb( 68,   1,  84)\" points=\"266.9,397.6 266.9,63.2 275.0,63.2 275.0,397.6 266.9,397.6 \"/>\n",
       "\t</g>\n",
       "\t<path d=\"M266.9,397.6 L266.9,63.2 L275.0,63.2 L275.0,397.6 L266.9,397.6  \" stroke=\"rgb( 68,   1,  84)\"/></g>\n",
       "\t</g>\n",
       "\t<g id=\"gnuplot_plot_52a\"><title>gnuplot_plot_52a</title>\n",
       "<g color=\"#FFFFFF\" fill=\"none\" stroke=\"rgb( 68,   1,  84)\" stroke-linecap=\"butt\" stroke-linejoin=\"miter\" stroke-width=\"0.50\">\n",
       "</g>\n",
       "<g color=\"black\" fill=\"none\" stroke=\"currentColor\" stroke-linecap=\"butt\" stroke-linejoin=\"miter\" stroke-width=\"0.50\">\n",
       "\t<path d=\"M266.9,397.6 L266.9,63.2 L275.0,63.2 L275.0,397.6 L266.9,397.6  \" stroke=\"rgb(  0,   0,   0)\"/></g>\n",
       "\t</g>\n",
       "\t<g id=\"gnuplot_plot_53a\"><title>gnuplot_plot_53a</title>\n",
       "<g color=\"#FFFFFF\" fill=\"none\" stroke=\"rgb(  0,   0,   0)\" stroke-linecap=\"butt\" stroke-linejoin=\"miter\" stroke-width=\"1.00\">\n",
       "</g>\n",
       "<g color=\"black\" fill=\"none\" stroke=\"currentColor\" stroke-linecap=\"butt\" stroke-linejoin=\"miter\" stroke-width=\"1.00\">\n",
       "\t<g shape-rendering=\"crispEdges\" stroke=\"none\">\n",
       "\t\t<polygon fill=\"rgb( 68,   1,  84)\" points=\"275.0,397.6 275.0,47.2 283.2,47.2 283.2,397.6 275.0,397.6 \"/>\n",
       "\t</g>\n",
       "\t<path d=\"M275.0,397.6 L275.0,47.2 L283.2,47.2 L283.2,397.6 L275.0,397.6  \" stroke=\"rgb( 68,   1,  84)\"/></g>\n",
       "\t</g>\n",
       "\t<g id=\"gnuplot_plot_54a\"><title>gnuplot_plot_54a</title>\n",
       "<g color=\"#FFFFFF\" fill=\"none\" stroke=\"rgb( 68,   1,  84)\" stroke-linecap=\"butt\" stroke-linejoin=\"miter\" stroke-width=\"0.50\">\n",
       "</g>\n",
       "<g color=\"black\" fill=\"none\" stroke=\"currentColor\" stroke-linecap=\"butt\" stroke-linejoin=\"miter\" stroke-width=\"0.50\">\n",
       "\t<path d=\"M275.0,397.6 L275.0,47.2 L283.2,47.2 L283.2,397.6 L275.0,397.6  \" stroke=\"rgb(  0,   0,   0)\"/></g>\n",
       "\t</g>\n",
       "\t<g id=\"gnuplot_plot_55a\"><title>gnuplot_plot_55a</title>\n",
       "<g color=\"#FFFFFF\" fill=\"none\" stroke=\"rgb(  0,   0,   0)\" stroke-linecap=\"butt\" stroke-linejoin=\"miter\" stroke-width=\"1.00\">\n",
       "</g>\n",
       "<g color=\"black\" fill=\"none\" stroke=\"currentColor\" stroke-linecap=\"butt\" stroke-linejoin=\"miter\" stroke-width=\"1.00\">\n",
       "\t<g shape-rendering=\"crispEdges\" stroke=\"none\">\n",
       "\t\t<polygon fill=\"rgb( 68,   1,  84)\" points=\"283.2,397.6 283.2,104.6 291.3,104.6 291.3,397.6 283.2,397.6 \"/>\n",
       "\t</g>\n",
       "\t<path d=\"M283.2,397.6 L283.2,104.6 L291.3,104.6 L291.3,397.6 L283.2,397.6  \" stroke=\"rgb( 68,   1,  84)\"/></g>\n",
       "\t</g>\n",
       "\t<g id=\"gnuplot_plot_56a\"><title>gnuplot_plot_56a</title>\n",
       "<g color=\"#FFFFFF\" fill=\"none\" stroke=\"rgb( 68,   1,  84)\" stroke-linecap=\"butt\" stroke-linejoin=\"miter\" stroke-width=\"0.50\">\n",
       "</g>\n",
       "<g color=\"black\" fill=\"none\" stroke=\"currentColor\" stroke-linecap=\"butt\" stroke-linejoin=\"miter\" stroke-width=\"0.50\">\n",
       "\t<path d=\"M283.2,397.6 L283.2,104.6 L291.3,104.6 L291.3,397.6 L283.2,397.6  \" stroke=\"rgb(  0,   0,   0)\"/></g>\n",
       "\t</g>\n",
       "\t<g id=\"gnuplot_plot_57a\"><title>gnuplot_plot_57a</title>\n",
       "<g color=\"#FFFFFF\" fill=\"none\" stroke=\"rgb(  0,   0,   0)\" stroke-linecap=\"butt\" stroke-linejoin=\"miter\" stroke-width=\"1.00\">\n",
       "</g>\n",
       "<g color=\"black\" fill=\"none\" stroke=\"currentColor\" stroke-linecap=\"butt\" stroke-linejoin=\"miter\" stroke-width=\"1.00\">\n",
       "\t<g shape-rendering=\"crispEdges\" stroke=\"none\">\n",
       "\t\t<polygon fill=\"rgb( 68,   1,  84)\" points=\"291.3,397.6 291.3,114.5 299.5,114.5 299.5,397.6 291.3,397.6 \"/>\n",
       "\t</g>\n",
       "\t<path d=\"M291.3,397.6 L291.3,114.5 L299.5,114.5 L299.5,397.6 L291.3,397.6  \" stroke=\"rgb( 68,   1,  84)\"/></g>\n",
       "\t</g>\n",
       "\t<g id=\"gnuplot_plot_58a\"><title>gnuplot_plot_58a</title>\n",
       "<g color=\"#FFFFFF\" fill=\"none\" stroke=\"rgb( 68,   1,  84)\" stroke-linecap=\"butt\" stroke-linejoin=\"miter\" stroke-width=\"0.50\">\n",
       "</g>\n",
       "<g color=\"black\" fill=\"none\" stroke=\"currentColor\" stroke-linecap=\"butt\" stroke-linejoin=\"miter\" stroke-width=\"0.50\">\n",
       "\t<path d=\"M291.3,397.6 L291.3,114.5 L299.5,114.5 L299.5,397.6 L291.3,397.6  \" stroke=\"rgb(  0,   0,   0)\"/></g>\n",
       "\t</g>\n",
       "\t<g id=\"gnuplot_plot_59a\"><title>gnuplot_plot_59a</title>\n",
       "<g color=\"#FFFFFF\" fill=\"none\" stroke=\"rgb(  0,   0,   0)\" stroke-linecap=\"butt\" stroke-linejoin=\"miter\" stroke-width=\"1.00\">\n",
       "</g>\n",
       "<g color=\"black\" fill=\"none\" stroke=\"currentColor\" stroke-linecap=\"butt\" stroke-linejoin=\"miter\" stroke-width=\"1.00\">\n",
       "\t<g shape-rendering=\"crispEdges\" stroke=\"none\">\n",
       "\t\t<polygon fill=\"rgb( 68,   1,  84)\" points=\"299.5,397.6 299.5,128.3 307.6,128.3 307.6,397.6 299.5,397.6 \"/>\n",
       "\t</g>\n",
       "\t<path d=\"M299.5,397.6 L299.5,128.3 L307.6,128.3 L307.6,397.6 L299.5,397.6  \" stroke=\"rgb( 68,   1,  84)\"/></g>\n",
       "\t</g>\n",
       "\t<g id=\"gnuplot_plot_60a\"><title>gnuplot_plot_60a</title>\n",
       "<g color=\"#FFFFFF\" fill=\"none\" stroke=\"rgb( 68,   1,  84)\" stroke-linecap=\"butt\" stroke-linejoin=\"miter\" stroke-width=\"0.50\">\n",
       "</g>\n",
       "<g color=\"black\" fill=\"none\" stroke=\"currentColor\" stroke-linecap=\"butt\" stroke-linejoin=\"miter\" stroke-width=\"0.50\">\n",
       "\t<path d=\"M299.5,397.6 L299.5,128.3 L307.6,128.3 L307.6,397.6 L299.5,397.6  \" stroke=\"rgb(  0,   0,   0)\"/></g>\n",
       "\t</g>\n",
       "\t<g id=\"gnuplot_plot_61a\"><title>gnuplot_plot_61a</title>\n",
       "<g color=\"#FFFFFF\" fill=\"none\" stroke=\"rgb(  0,   0,   0)\" stroke-linecap=\"butt\" stroke-linejoin=\"miter\" stroke-width=\"1.00\">\n",
       "</g>\n",
       "<g color=\"black\" fill=\"none\" stroke=\"currentColor\" stroke-linecap=\"butt\" stroke-linejoin=\"miter\" stroke-width=\"1.00\">\n",
       "\t<g shape-rendering=\"crispEdges\" stroke=\"none\">\n",
       "\t\t<polygon fill=\"rgb( 68,   1,  84)\" points=\"307.6,397.6 307.6,155.9 315.7,155.9 315.7,397.6 307.6,397.6 \"/>\n",
       "\t</g>\n",
       "\t<path d=\"M307.6,397.6 L307.6,155.9 L315.7,155.9 L315.7,397.6 L307.6,397.6  \" stroke=\"rgb( 68,   1,  84)\"/></g>\n",
       "\t</g>\n",
       "\t<g id=\"gnuplot_plot_62a\"><title>gnuplot_plot_62a</title>\n",
       "<g color=\"#FFFFFF\" fill=\"none\" stroke=\"rgb( 68,   1,  84)\" stroke-linecap=\"butt\" stroke-linejoin=\"miter\" stroke-width=\"0.50\">\n",
       "</g>\n",
       "<g color=\"black\" fill=\"none\" stroke=\"currentColor\" stroke-linecap=\"butt\" stroke-linejoin=\"miter\" stroke-width=\"0.50\">\n",
       "\t<path d=\"M307.6,397.6 L307.6,155.9 L315.7,155.9 L315.7,397.6 L307.6,397.6  \" stroke=\"rgb(  0,   0,   0)\"/></g>\n",
       "\t</g>\n",
       "\t<g id=\"gnuplot_plot_63a\"><title>gnuplot_plot_63a</title>\n",
       "<g color=\"#FFFFFF\" fill=\"none\" stroke=\"rgb(  0,   0,   0)\" stroke-linecap=\"butt\" stroke-linejoin=\"miter\" stroke-width=\"1.00\">\n",
       "</g>\n",
       "<g color=\"black\" fill=\"none\" stroke=\"currentColor\" stroke-linecap=\"butt\" stroke-linejoin=\"miter\" stroke-width=\"1.00\">\n",
       "\t<g shape-rendering=\"crispEdges\" stroke=\"none\">\n",
       "\t\t<polygon fill=\"rgb( 68,   1,  84)\" points=\"315.7,397.6 315.7,199.5 323.9,199.5 323.9,397.6 315.7,397.6 \"/>\n",
       "\t</g>\n",
       "\t<path d=\"M315.7,397.6 L315.7,199.5 L323.9,199.5 L323.9,397.6 L315.7,397.6  \" stroke=\"rgb( 68,   1,  84)\"/></g>\n",
       "\t</g>\n",
       "\t<g id=\"gnuplot_plot_64a\"><title>gnuplot_plot_64a</title>\n",
       "<g color=\"#FFFFFF\" fill=\"none\" stroke=\"rgb( 68,   1,  84)\" stroke-linecap=\"butt\" stroke-linejoin=\"miter\" stroke-width=\"0.50\">\n",
       "</g>\n",
       "<g color=\"black\" fill=\"none\" stroke=\"currentColor\" stroke-linecap=\"butt\" stroke-linejoin=\"miter\" stroke-width=\"0.50\">\n",
       "\t<path d=\"M315.7,397.6 L315.7,199.5 L323.9,199.5 L323.9,397.6 L315.7,397.6  \" stroke=\"rgb(  0,   0,   0)\"/></g>\n",
       "\t</g>\n",
       "\t<g id=\"gnuplot_plot_65a\"><title>gnuplot_plot_65a</title>\n",
       "<g color=\"#FFFFFF\" fill=\"none\" stroke=\"rgb(  0,   0,   0)\" stroke-linecap=\"butt\" stroke-linejoin=\"miter\" stroke-width=\"1.00\">\n",
       "</g>\n",
       "<g color=\"black\" fill=\"none\" stroke=\"currentColor\" stroke-linecap=\"butt\" stroke-linejoin=\"miter\" stroke-width=\"1.00\">\n",
       "\t<g shape-rendering=\"crispEdges\" stroke=\"none\">\n",
       "\t\t<polygon fill=\"rgb( 68,   1,  84)\" points=\"323.9,397.6 323.9,217.7 332.0,217.7 332.0,397.6 323.9,397.6 \"/>\n",
       "\t</g>\n",
       "\t<path d=\"M323.9,397.6 L323.9,217.7 L332.0,217.7 L332.0,397.6 L323.9,397.6  \" stroke=\"rgb( 68,   1,  84)\"/></g>\n",
       "\t</g>\n",
       "\t<g id=\"gnuplot_plot_66a\"><title>gnuplot_plot_66a</title>\n",
       "<g color=\"#FFFFFF\" fill=\"none\" stroke=\"rgb( 68,   1,  84)\" stroke-linecap=\"butt\" stroke-linejoin=\"miter\" stroke-width=\"0.50\">\n",
       "</g>\n",
       "<g color=\"black\" fill=\"none\" stroke=\"currentColor\" stroke-linecap=\"butt\" stroke-linejoin=\"miter\" stroke-width=\"0.50\">\n",
       "\t<path d=\"M323.9,397.6 L323.9,217.7 L332.0,217.7 L332.0,397.6 L323.9,397.6  \" stroke=\"rgb(  0,   0,   0)\"/></g>\n",
       "\t</g>\n",
       "\t<g id=\"gnuplot_plot_67a\"><title>gnuplot_plot_67a</title>\n",
       "<g color=\"#FFFFFF\" fill=\"none\" stroke=\"rgb(  0,   0,   0)\" stroke-linecap=\"butt\" stroke-linejoin=\"miter\" stroke-width=\"1.00\">\n",
       "</g>\n",
       "<g color=\"black\" fill=\"none\" stroke=\"currentColor\" stroke-linecap=\"butt\" stroke-linejoin=\"miter\" stroke-width=\"1.00\">\n",
       "\t<g shape-rendering=\"crispEdges\" stroke=\"none\">\n",
       "\t\t<polygon fill=\"rgb( 68,   1,  84)\" points=\"332.0,397.6 332.0,237.0 340.2,237.0 340.2,397.6 332.0,397.6 \"/>\n",
       "\t</g>\n",
       "\t<path d=\"M332.0,397.6 L332.0,237.0 L340.2,237.0 L340.2,397.6 L332.0,397.6  \" stroke=\"rgb( 68,   1,  84)\"/></g>\n",
       "\t</g>\n",
       "\t<g id=\"gnuplot_plot_68a\"><title>gnuplot_plot_68a</title>\n",
       "<g color=\"#FFFFFF\" fill=\"none\" stroke=\"rgb( 68,   1,  84)\" stroke-linecap=\"butt\" stroke-linejoin=\"miter\" stroke-width=\"0.50\">\n",
       "</g>\n",
       "<g color=\"black\" fill=\"none\" stroke=\"currentColor\" stroke-linecap=\"butt\" stroke-linejoin=\"miter\" stroke-width=\"0.50\">\n",
       "\t<path d=\"M332.0,397.6 L332.0,237.0 L340.2,237.0 L340.2,397.6 L332.0,397.6  \" stroke=\"rgb(  0,   0,   0)\"/></g>\n",
       "\t</g>\n",
       "\t<g id=\"gnuplot_plot_69a\"><title>gnuplot_plot_69a</title>\n",
       "<g color=\"#FFFFFF\" fill=\"none\" stroke=\"rgb(  0,   0,   0)\" stroke-linecap=\"butt\" stroke-linejoin=\"miter\" stroke-width=\"1.00\">\n",
       "</g>\n",
       "<g color=\"black\" fill=\"none\" stroke=\"currentColor\" stroke-linecap=\"butt\" stroke-linejoin=\"miter\" stroke-width=\"1.00\">\n",
       "\t<g shape-rendering=\"crispEdges\" stroke=\"none\">\n",
       "\t\t<polygon fill=\"rgb( 68,   1,  84)\" points=\"340.2,397.6 340.2,263.5 348.3,263.5 348.3,397.6 340.2,397.6 \"/>\n",
       "\t</g>\n",
       "\t<path d=\"M340.2,397.6 L340.2,263.5 L348.3,263.5 L348.3,397.6 L340.2,397.6  \" stroke=\"rgb( 68,   1,  84)\"/></g>\n",
       "\t</g>\n",
       "\t<g id=\"gnuplot_plot_70a\"><title>gnuplot_plot_70a</title>\n",
       "<g color=\"#FFFFFF\" fill=\"none\" stroke=\"rgb( 68,   1,  84)\" stroke-linecap=\"butt\" stroke-linejoin=\"miter\" stroke-width=\"0.50\">\n",
       "</g>\n",
       "<g color=\"black\" fill=\"none\" stroke=\"currentColor\" stroke-linecap=\"butt\" stroke-linejoin=\"miter\" stroke-width=\"0.50\">\n",
       "\t<path d=\"M340.2,397.6 L340.2,263.5 L348.3,263.5 L348.3,397.6 L340.2,397.6  \" stroke=\"rgb(  0,   0,   0)\"/></g>\n",
       "\t</g>\n",
       "\t<g id=\"gnuplot_plot_71a\"><title>gnuplot_plot_71a</title>\n",
       "<g color=\"#FFFFFF\" fill=\"none\" stroke=\"rgb(  0,   0,   0)\" stroke-linecap=\"butt\" stroke-linejoin=\"miter\" stroke-width=\"1.00\">\n",
       "</g>\n",
       "<g color=\"black\" fill=\"none\" stroke=\"currentColor\" stroke-linecap=\"butt\" stroke-linejoin=\"miter\" stroke-width=\"1.00\">\n",
       "\t<g shape-rendering=\"crispEdges\" stroke=\"none\">\n",
       "\t\t<polygon fill=\"rgb( 68,   1,  84)\" points=\"348.3,397.6 348.3,295.5 356.4,295.5 356.4,397.6 348.3,397.6 \"/>\n",
       "\t</g>\n",
       "\t<path d=\"M348.3,397.6 L348.3,295.5 L356.4,295.5 L356.4,397.6 L348.3,397.6  \" stroke=\"rgb( 68,   1,  84)\"/></g>\n",
       "\t</g>\n",
       "\t<g id=\"gnuplot_plot_72a\"><title>gnuplot_plot_72a</title>\n",
       "<g color=\"#FFFFFF\" fill=\"none\" stroke=\"rgb( 68,   1,  84)\" stroke-linecap=\"butt\" stroke-linejoin=\"miter\" stroke-width=\"0.50\">\n",
       "</g>\n",
       "<g color=\"black\" fill=\"none\" stroke=\"currentColor\" stroke-linecap=\"butt\" stroke-linejoin=\"miter\" stroke-width=\"0.50\">\n",
       "\t<path d=\"M348.3,397.6 L348.3,295.5 L356.4,295.5 L356.4,397.6 L348.3,397.6  \" stroke=\"rgb(  0,   0,   0)\"/></g>\n",
       "\t</g>\n",
       "\t<g id=\"gnuplot_plot_73a\"><title>gnuplot_plot_73a</title>\n",
       "<g color=\"#FFFFFF\" fill=\"none\" stroke=\"rgb(  0,   0,   0)\" stroke-linecap=\"butt\" stroke-linejoin=\"miter\" stroke-width=\"1.00\">\n",
       "</g>\n",
       "<g color=\"black\" fill=\"none\" stroke=\"currentColor\" stroke-linecap=\"butt\" stroke-linejoin=\"miter\" stroke-width=\"1.00\">\n",
       "\t<g shape-rendering=\"crispEdges\" stroke=\"none\">\n",
       "\t\t<polygon fill=\"rgb( 68,   1,  84)\" points=\"356.4,397.6 356.4,323.7 364.6,323.7 364.6,397.6 356.4,397.6 \"/>\n",
       "\t</g>\n",
       "\t<path d=\"M356.4,397.6 L356.4,323.7 L364.6,323.7 L364.6,397.6 L356.4,397.6  \" stroke=\"rgb( 68,   1,  84)\"/></g>\n",
       "\t</g>\n",
       "\t<g id=\"gnuplot_plot_74a\"><title>gnuplot_plot_74a</title>\n",
       "<g color=\"#FFFFFF\" fill=\"none\" stroke=\"rgb( 68,   1,  84)\" stroke-linecap=\"butt\" stroke-linejoin=\"miter\" stroke-width=\"0.50\">\n",
       "</g>\n",
       "<g color=\"black\" fill=\"none\" stroke=\"currentColor\" stroke-linecap=\"butt\" stroke-linejoin=\"miter\" stroke-width=\"0.50\">\n",
       "\t<path d=\"M356.4,397.6 L356.4,323.7 L364.6,323.7 L364.6,397.6 L356.4,397.6  \" stroke=\"rgb(  0,   0,   0)\"/></g>\n",
       "\t</g>\n",
       "\t<g id=\"gnuplot_plot_75a\"><title>gnuplot_plot_75a</title>\n",
       "<g color=\"#FFFFFF\" fill=\"none\" stroke=\"rgb(  0,   0,   0)\" stroke-linecap=\"butt\" stroke-linejoin=\"miter\" stroke-width=\"1.00\">\n",
       "</g>\n",
       "<g color=\"black\" fill=\"none\" stroke=\"currentColor\" stroke-linecap=\"butt\" stroke-linejoin=\"miter\" stroke-width=\"1.00\">\n",
       "\t<g shape-rendering=\"crispEdges\" stroke=\"none\">\n",
       "\t\t<polygon fill=\"rgb( 68,   1,  84)\" points=\"364.6,397.6 364.6,330.8 372.7,330.8 372.7,397.6 364.6,397.6 \"/>\n",
       "\t</g>\n",
       "\t<path d=\"M364.6,397.6 L364.6,330.8 L372.7,330.8 L372.7,397.6 L364.6,397.6  \" stroke=\"rgb( 68,   1,  84)\"/></g>\n",
       "\t</g>\n",
       "\t<g id=\"gnuplot_plot_76a\"><title>gnuplot_plot_76a</title>\n",
       "<g color=\"#FFFFFF\" fill=\"none\" stroke=\"rgb( 68,   1,  84)\" stroke-linecap=\"butt\" stroke-linejoin=\"miter\" stroke-width=\"0.50\">\n",
       "</g>\n",
       "<g color=\"black\" fill=\"none\" stroke=\"currentColor\" stroke-linecap=\"butt\" stroke-linejoin=\"miter\" stroke-width=\"0.50\">\n",
       "\t<path d=\"M364.6,397.6 L364.6,330.8 L372.7,330.8 L372.7,397.6 L364.6,397.6  \" stroke=\"rgb(  0,   0,   0)\"/></g>\n",
       "\t</g>\n",
       "\t<g id=\"gnuplot_plot_77a\"><title>gnuplot_plot_77a</title>\n",
       "<g color=\"#FFFFFF\" fill=\"none\" stroke=\"rgb(  0,   0,   0)\" stroke-linecap=\"butt\" stroke-linejoin=\"miter\" stroke-width=\"1.00\">\n",
       "</g>\n",
       "<g color=\"black\" fill=\"none\" stroke=\"currentColor\" stroke-linecap=\"butt\" stroke-linejoin=\"miter\" stroke-width=\"1.00\">\n",
       "\t<g shape-rendering=\"crispEdges\" stroke=\"none\">\n",
       "\t\t<polygon fill=\"rgb( 68,   1,  84)\" points=\"372.7,397.6 372.7,350.1 380.9,350.1 380.9,397.6 372.7,397.6 \"/>\n",
       "\t</g>\n",
       "\t<path d=\"M372.7,397.6 L372.7,350.1 L380.9,350.1 L380.9,397.6 L372.7,397.6  \" stroke=\"rgb( 68,   1,  84)\"/></g>\n",
       "\t</g>\n",
       "\t<g id=\"gnuplot_plot_78a\"><title>gnuplot_plot_78a</title>\n",
       "<g color=\"#FFFFFF\" fill=\"none\" stroke=\"rgb( 68,   1,  84)\" stroke-linecap=\"butt\" stroke-linejoin=\"miter\" stroke-width=\"0.50\">\n",
       "</g>\n",
       "<g color=\"black\" fill=\"none\" stroke=\"currentColor\" stroke-linecap=\"butt\" stroke-linejoin=\"miter\" stroke-width=\"0.50\">\n",
       "\t<path d=\"M372.7,397.6 L372.7,350.1 L380.9,350.1 L380.9,397.6 L372.7,397.6  \" stroke=\"rgb(  0,   0,   0)\"/></g>\n",
       "\t</g>\n",
       "\t<g id=\"gnuplot_plot_79a\"><title>gnuplot_plot_79a</title>\n",
       "<g color=\"#FFFFFF\" fill=\"none\" stroke=\"rgb(  0,   0,   0)\" stroke-linecap=\"butt\" stroke-linejoin=\"miter\" stroke-width=\"1.00\">\n",
       "</g>\n",
       "<g color=\"black\" fill=\"none\" stroke=\"currentColor\" stroke-linecap=\"butt\" stroke-linejoin=\"miter\" stroke-width=\"1.00\">\n",
       "\t<g shape-rendering=\"crispEdges\" stroke=\"none\">\n",
       "\t\t<polygon fill=\"rgb( 68,   1,  84)\" points=\"380.9,397.6 380.9,355.1 389.0,355.1 389.0,397.6 380.9,397.6 \"/>\n",
       "\t</g>\n",
       "\t<path d=\"M380.9,397.6 L380.9,355.1 L389.0,355.1 L389.0,397.6 L380.9,397.6  \" stroke=\"rgb( 68,   1,  84)\"/></g>\n",
       "\t</g>\n",
       "\t<g id=\"gnuplot_plot_80a\"><title>gnuplot_plot_80a</title>\n",
       "<g color=\"#FFFFFF\" fill=\"none\" stroke=\"rgb( 68,   1,  84)\" stroke-linecap=\"butt\" stroke-linejoin=\"miter\" stroke-width=\"0.50\">\n",
       "</g>\n",
       "<g color=\"black\" fill=\"none\" stroke=\"currentColor\" stroke-linecap=\"butt\" stroke-linejoin=\"miter\" stroke-width=\"0.50\">\n",
       "\t<path d=\"M380.9,397.6 L380.9,355.1 L389.0,355.1 L389.0,397.6 L380.9,397.6  \" stroke=\"rgb(  0,   0,   0)\"/></g>\n",
       "\t</g>\n",
       "\t<g id=\"gnuplot_plot_81a\"><title>gnuplot_plot_81a</title>\n",
       "<g color=\"#FFFFFF\" fill=\"none\" stroke=\"rgb(  0,   0,   0)\" stroke-linecap=\"butt\" stroke-linejoin=\"miter\" stroke-width=\"1.00\">\n",
       "</g>\n",
       "<g color=\"black\" fill=\"none\" stroke=\"currentColor\" stroke-linecap=\"butt\" stroke-linejoin=\"miter\" stroke-width=\"1.00\">\n",
       "\t<g shape-rendering=\"crispEdges\" stroke=\"none\">\n",
       "\t\t<polygon fill=\"rgb( 68,   1,  84)\" points=\"389.0,397.6 389.0,381.0 397.2,381.0 397.2,397.6 389.0,397.6 \"/>\n",
       "\t</g>\n",
       "\t<path d=\"M389.0,397.6 L389.0,381.0 L397.2,381.0 L397.2,397.6 L389.0,397.6  \" stroke=\"rgb( 68,   1,  84)\"/></g>\n",
       "\t</g>\n",
       "\t<g id=\"gnuplot_plot_82a\"><title>gnuplot_plot_82a</title>\n",
       "<g color=\"#FFFFFF\" fill=\"none\" stroke=\"rgb( 68,   1,  84)\" stroke-linecap=\"butt\" stroke-linejoin=\"miter\" stroke-width=\"0.50\">\n",
       "</g>\n",
       "<g color=\"black\" fill=\"none\" stroke=\"currentColor\" stroke-linecap=\"butt\" stroke-linejoin=\"miter\" stroke-width=\"0.50\">\n",
       "\t<path d=\"M389.0,397.6 L389.0,381.0 L397.2,381.0 L397.2,397.6 L389.0,397.6  \" stroke=\"rgb(  0,   0,   0)\"/></g>\n",
       "\t</g>\n",
       "\t<g id=\"gnuplot_plot_83a\"><title>gnuplot_plot_83a</title>\n",
       "<g color=\"#FFFFFF\" fill=\"none\" stroke=\"rgb(  0,   0,   0)\" stroke-linecap=\"butt\" stroke-linejoin=\"miter\" stroke-width=\"1.00\">\n",
       "</g>\n",
       "<g color=\"black\" fill=\"none\" stroke=\"currentColor\" stroke-linecap=\"butt\" stroke-linejoin=\"miter\" stroke-width=\"1.00\">\n",
       "\t<g shape-rendering=\"crispEdges\" stroke=\"none\">\n",
       "\t\t<polygon fill=\"rgb( 68,   1,  84)\" points=\"397.2,397.6 397.2,372.8 405.3,372.8 405.3,397.6 397.2,397.6 \"/>\n",
       "\t</g>\n",
       "\t<path d=\"M397.2,397.6 L397.2,372.8 L405.3,372.8 L405.3,397.6 L397.2,397.6  \" stroke=\"rgb( 68,   1,  84)\"/></g>\n",
       "\t</g>\n",
       "\t<g id=\"gnuplot_plot_84a\"><title>gnuplot_plot_84a</title>\n",
       "<g color=\"#FFFFFF\" fill=\"none\" stroke=\"rgb( 68,   1,  84)\" stroke-linecap=\"butt\" stroke-linejoin=\"miter\" stroke-width=\"0.50\">\n",
       "</g>\n",
       "<g color=\"black\" fill=\"none\" stroke=\"currentColor\" stroke-linecap=\"butt\" stroke-linejoin=\"miter\" stroke-width=\"0.50\">\n",
       "\t<path d=\"M397.2,397.6 L397.2,372.8 L405.3,372.8 L405.3,397.6 L397.2,397.6  \" stroke=\"rgb(  0,   0,   0)\"/></g>\n",
       "\t</g>\n",
       "\t<g id=\"gnuplot_plot_85a\"><title>gnuplot_plot_85a</title>\n",
       "<g color=\"#FFFFFF\" fill=\"none\" stroke=\"rgb(  0,   0,   0)\" stroke-linecap=\"butt\" stroke-linejoin=\"miter\" stroke-width=\"1.00\">\n",
       "</g>\n",
       "<g color=\"black\" fill=\"none\" stroke=\"currentColor\" stroke-linecap=\"butt\" stroke-linejoin=\"miter\" stroke-width=\"1.00\">\n",
       "\t<g shape-rendering=\"crispEdges\" stroke=\"none\">\n",
       "\t\t<polygon fill=\"rgb( 68,   1,  84)\" points=\"405.3,397.6 405.3,386.6 413.4,386.6 413.4,397.6 405.3,397.6 \"/>\n",
       "\t</g>\n",
       "\t<path d=\"M405.3,397.6 L405.3,386.6 L413.4,386.6 L413.4,397.6 L405.3,397.6  \" stroke=\"rgb( 68,   1,  84)\"/></g>\n",
       "\t</g>\n",
       "\t<g id=\"gnuplot_plot_86a\"><title>gnuplot_plot_86a</title>\n",
       "<g color=\"#FFFFFF\" fill=\"none\" stroke=\"rgb( 68,   1,  84)\" stroke-linecap=\"butt\" stroke-linejoin=\"miter\" stroke-width=\"0.50\">\n",
       "</g>\n",
       "<g color=\"black\" fill=\"none\" stroke=\"currentColor\" stroke-linecap=\"butt\" stroke-linejoin=\"miter\" stroke-width=\"0.50\">\n",
       "\t<path d=\"M405.3,397.6 L405.3,386.6 L413.4,386.6 L413.4,397.6 L405.3,397.6  \" stroke=\"rgb(  0,   0,   0)\"/></g>\n",
       "\t</g>\n",
       "\t<g id=\"gnuplot_plot_87a\"><title>gnuplot_plot_87a</title>\n",
       "<g color=\"#FFFFFF\" fill=\"none\" stroke=\"rgb(  0,   0,   0)\" stroke-linecap=\"butt\" stroke-linejoin=\"miter\" stroke-width=\"1.00\">\n",
       "</g>\n",
       "<g color=\"black\" fill=\"none\" stroke=\"currentColor\" stroke-linecap=\"butt\" stroke-linejoin=\"miter\" stroke-width=\"1.00\">\n",
       "\t<g shape-rendering=\"crispEdges\" stroke=\"none\">\n",
       "\t\t<polygon fill=\"rgb( 68,   1,  84)\" points=\"413.4,397.6 413.4,389.3 421.6,389.3 421.6,397.6 413.4,397.6 \"/>\n",
       "\t</g>\n",
       "\t<path d=\"M413.4,397.6 L413.4,389.3 L421.6,389.3 L421.6,397.6 L413.4,397.6  \" stroke=\"rgb( 68,   1,  84)\"/></g>\n",
       "\t</g>\n",
       "\t<g id=\"gnuplot_plot_88a\"><title>gnuplot_plot_88a</title>\n",
       "<g color=\"#FFFFFF\" fill=\"none\" stroke=\"rgb( 68,   1,  84)\" stroke-linecap=\"butt\" stroke-linejoin=\"miter\" stroke-width=\"0.50\">\n",
       "</g>\n",
       "<g color=\"black\" fill=\"none\" stroke=\"currentColor\" stroke-linecap=\"butt\" stroke-linejoin=\"miter\" stroke-width=\"0.50\">\n",
       "\t<path d=\"M413.4,397.6 L413.4,389.3 L421.6,389.3 L421.6,397.6 L413.4,397.6  \" stroke=\"rgb(  0,   0,   0)\"/></g>\n",
       "\t</g>\n",
       "\t<g id=\"gnuplot_plot_89a\"><title>gnuplot_plot_89a</title>\n",
       "<g color=\"#FFFFFF\" fill=\"none\" stroke=\"rgb(  0,   0,   0)\" stroke-linecap=\"butt\" stroke-linejoin=\"miter\" stroke-width=\"1.00\">\n",
       "</g>\n",
       "<g color=\"black\" fill=\"none\" stroke=\"currentColor\" stroke-linecap=\"butt\" stroke-linejoin=\"miter\" stroke-width=\"1.00\">\n",
       "\t<g shape-rendering=\"crispEdges\" stroke=\"none\">\n",
       "\t\t<polygon fill=\"rgb( 68,   1,  84)\" points=\"421.6,397.6 421.6,393.7 429.7,393.7 429.7,397.6 421.6,397.6 \"/>\n",
       "\t</g>\n",
       "\t<path d=\"M421.6,397.6 L421.6,393.7 L429.7,393.7 L429.7,397.6 L421.6,397.6  \" stroke=\"rgb( 68,   1,  84)\"/></g>\n",
       "\t</g>\n",
       "\t<g id=\"gnuplot_plot_90a\"><title>gnuplot_plot_90a</title>\n",
       "<g color=\"#FFFFFF\" fill=\"none\" stroke=\"rgb( 68,   1,  84)\" stroke-linecap=\"butt\" stroke-linejoin=\"miter\" stroke-width=\"0.50\">\n",
       "</g>\n",
       "<g color=\"black\" fill=\"none\" stroke=\"currentColor\" stroke-linecap=\"butt\" stroke-linejoin=\"miter\" stroke-width=\"0.50\">\n",
       "\t<path d=\"M421.6,397.6 L421.6,393.7 L429.7,393.7 L429.7,397.6 L421.6,397.6  \" stroke=\"rgb(  0,   0,   0)\"/></g>\n",
       "\t</g>\n",
       "\t<g id=\"gnuplot_plot_91a\"><title>gnuplot_plot_91a</title>\n",
       "<g color=\"#FFFFFF\" fill=\"none\" stroke=\"rgb(  0,   0,   0)\" stroke-linecap=\"butt\" stroke-linejoin=\"miter\" stroke-width=\"1.00\">\n",
       "</g>\n",
       "<g color=\"black\" fill=\"none\" stroke=\"currentColor\" stroke-linecap=\"butt\" stroke-linejoin=\"miter\" stroke-width=\"1.00\">\n",
       "\t<g shape-rendering=\"crispEdges\" stroke=\"none\">\n",
       "\t\t<polygon fill=\"rgb( 68,   1,  84)\" points=\"429.7,397.6 429.7,393.2 437.9,393.2 437.9,397.6 429.7,397.6 \"/>\n",
       "\t</g>\n",
       "\t<path d=\"M429.7,397.6 L429.7,393.2 L437.9,393.2 L437.9,397.6 L429.7,397.6  \" stroke=\"rgb( 68,   1,  84)\"/></g>\n",
       "\t</g>\n",
       "\t<g id=\"gnuplot_plot_92a\"><title>gnuplot_plot_92a</title>\n",
       "<g color=\"#FFFFFF\" fill=\"none\" stroke=\"rgb( 68,   1,  84)\" stroke-linecap=\"butt\" stroke-linejoin=\"miter\" stroke-width=\"0.50\">\n",
       "</g>\n",
       "<g color=\"black\" fill=\"none\" stroke=\"currentColor\" stroke-linecap=\"butt\" stroke-linejoin=\"miter\" stroke-width=\"0.50\">\n",
       "\t<path d=\"M429.7,397.6 L429.7,393.2 L437.9,393.2 L437.9,397.6 L429.7,397.6  \" stroke=\"rgb(  0,   0,   0)\"/></g>\n",
       "\t</g>\n",
       "\t<g id=\"gnuplot_plot_93a\"><title>gnuplot_plot_93a</title>\n",
       "<g color=\"#FFFFFF\" fill=\"none\" stroke=\"rgb(  0,   0,   0)\" stroke-linecap=\"butt\" stroke-linejoin=\"miter\" stroke-width=\"1.00\">\n",
       "</g>\n",
       "<g color=\"black\" fill=\"none\" stroke=\"currentColor\" stroke-linecap=\"butt\" stroke-linejoin=\"miter\" stroke-width=\"1.00\">\n",
       "\t<g shape-rendering=\"crispEdges\" stroke=\"none\">\n",
       "\t\t<polygon fill=\"rgb( 68,   1,  84)\" points=\"437.9,397.6 437.9,395.4 446.0,395.4 446.0,397.6 437.9,397.6 \"/>\n",
       "\t</g>\n",
       "\t<path d=\"M437.9,397.6 L437.9,395.4 L446.0,395.4 L446.0,397.6 L437.9,397.6  \" stroke=\"rgb( 68,   1,  84)\"/></g>\n",
       "\t</g>\n",
       "\t<g id=\"gnuplot_plot_94a\"><title>gnuplot_plot_94a</title>\n",
       "<g color=\"#FFFFFF\" fill=\"none\" stroke=\"rgb( 68,   1,  84)\" stroke-linecap=\"butt\" stroke-linejoin=\"miter\" stroke-width=\"0.50\">\n",
       "</g>\n",
       "<g color=\"black\" fill=\"none\" stroke=\"currentColor\" stroke-linecap=\"butt\" stroke-linejoin=\"miter\" stroke-width=\"0.50\">\n",
       "\t<path d=\"M437.9,397.6 L437.9,395.4 L446.0,395.4 L446.0,397.6 L437.9,397.6  \" stroke=\"rgb(  0,   0,   0)\"/></g>\n",
       "\t</g>\n",
       "\t<g id=\"gnuplot_plot_95a\"><title>gnuplot_plot_95a</title>\n",
       "<g color=\"#FFFFFF\" fill=\"none\" stroke=\"rgb(  0,   0,   0)\" stroke-linecap=\"butt\" stroke-linejoin=\"miter\" stroke-width=\"1.00\">\n",
       "</g>\n",
       "<g color=\"black\" fill=\"none\" stroke=\"currentColor\" stroke-linecap=\"butt\" stroke-linejoin=\"miter\" stroke-width=\"1.00\">\n",
       "\t<g shape-rendering=\"crispEdges\" stroke=\"none\">\n",
       "\t\t<polygon fill=\"rgb( 68,   1,  84)\" points=\"446.0,397.6 446.0,395.9 454.1,395.9 454.1,397.6 446.0,397.6 \"/>\n",
       "\t</g>\n",
       "\t<path d=\"M446.0,397.6 L446.0,395.9 L454.1,395.9 L454.1,397.6 L446.0,397.6  \" stroke=\"rgb( 68,   1,  84)\"/></g>\n",
       "\t</g>\n",
       "\t<g id=\"gnuplot_plot_96a\"><title>gnuplot_plot_96a</title>\n",
       "<g color=\"#FFFFFF\" fill=\"none\" stroke=\"rgb( 68,   1,  84)\" stroke-linecap=\"butt\" stroke-linejoin=\"miter\" stroke-width=\"0.50\">\n",
       "</g>\n",
       "<g color=\"black\" fill=\"none\" stroke=\"currentColor\" stroke-linecap=\"butt\" stroke-linejoin=\"miter\" stroke-width=\"0.50\">\n",
       "\t<path d=\"M446.0,397.6 L446.0,395.9 L454.1,395.9 L454.1,397.6 L446.0,397.6  \" stroke=\"rgb(  0,   0,   0)\"/></g>\n",
       "\t</g>\n",
       "\t<g id=\"gnuplot_plot_97a\"><title>gnuplot_plot_97a</title>\n",
       "<g color=\"#FFFFFF\" fill=\"none\" stroke=\"rgb(  0,   0,   0)\" stroke-linecap=\"butt\" stroke-linejoin=\"miter\" stroke-width=\"1.00\">\n",
       "</g>\n",
       "<g color=\"black\" fill=\"none\" stroke=\"currentColor\" stroke-linecap=\"butt\" stroke-linejoin=\"miter\" stroke-width=\"1.00\">\n",
       "\t<g shape-rendering=\"crispEdges\" stroke=\"none\">\n",
       "\t\t<polygon fill=\"rgb( 68,   1,  84)\" points=\"454.1,397.6 454.1,396.5 462.3,396.5 462.3,397.6 454.1,397.6 \"/>\n",
       "\t</g>\n",
       "\t<path d=\"M454.1,397.6 L454.1,396.5 L462.3,396.5 L462.3,397.6 L454.1,397.6  \" stroke=\"rgb( 68,   1,  84)\"/></g>\n",
       "\t</g>\n",
       "\t<g id=\"gnuplot_plot_98a\"><title>gnuplot_plot_98a</title>\n",
       "<g color=\"#FFFFFF\" fill=\"none\" stroke=\"rgb( 68,   1,  84)\" stroke-linecap=\"butt\" stroke-linejoin=\"miter\" stroke-width=\"0.50\">\n",
       "</g>\n",
       "<g color=\"black\" fill=\"none\" stroke=\"currentColor\" stroke-linecap=\"butt\" stroke-linejoin=\"miter\" stroke-width=\"0.50\">\n",
       "\t<path d=\"M454.1,397.6 L454.1,396.5 L462.3,396.5 L462.3,397.6 L454.1,397.6  \" stroke=\"rgb(  0,   0,   0)\"/></g>\n",
       "\t</g>\n",
       "\t<g id=\"gnuplot_plot_99a\"><title>gnuplot_plot_99a</title>\n",
       "<g color=\"#FFFFFF\" fill=\"none\" stroke=\"rgb(  0,   0,   0)\" stroke-linecap=\"butt\" stroke-linejoin=\"miter\" stroke-width=\"1.00\">\n",
       "</g>\n",
       "<g color=\"black\" fill=\"none\" stroke=\"currentColor\" stroke-linecap=\"butt\" stroke-linejoin=\"miter\" stroke-width=\"1.00\">\n",
       "\t<g shape-rendering=\"crispEdges\" stroke=\"none\">\n",
       "\t\t<polygon fill=\"rgb( 68,   1,  84)\" points=\"462.3,397.6 462.3,397.0 470.4,397.0 470.4,397.6 462.3,397.6 \"/>\n",
       "\t</g>\n",
       "\t<path d=\"M462.3,397.6 L462.3,397.0 L470.4,397.0 L470.4,397.6 L462.3,397.6  \" stroke=\"rgb( 68,   1,  84)\"/></g>\n",
       "\t</g>\n",
       "\t<g id=\"gnuplot_plot_100a\"><title>gnuplot_plot_100a</title>\n",
       "<g color=\"#FFFFFF\" fill=\"none\" stroke=\"rgb( 68,   1,  84)\" stroke-linecap=\"butt\" stroke-linejoin=\"miter\" stroke-width=\"0.50\">\n",
       "</g>\n",
       "<g color=\"black\" fill=\"none\" stroke=\"currentColor\" stroke-linecap=\"butt\" stroke-linejoin=\"miter\" stroke-width=\"0.50\">\n",
       "\t<path d=\"M462.3,397.6 L462.3,397.0 L470.4,397.0 L470.4,397.6 L462.3,397.6  \" stroke=\"rgb(  0,   0,   0)\"/></g>\n",
       "\t</g>\n",
       "\t<g id=\"gnuplot_plot_101a\"><title>gnuplot_plot_101a</title>\n",
       "<g color=\"black\" fill=\"none\" stroke=\"currentColor\" stroke-linecap=\"butt\" stroke-linejoin=\"miter\" stroke-width=\"0.50\">\n",
       "\t<path d=\"M28.6,397.6 L544.3,397.6  \" stroke=\"rgb(  0,   0,   0)\"/></g>\n",
       "\t</g>\n",
       "<g color=\"#FFFFFF\" fill=\"none\" stroke=\"rgb(  0,   0,   0)\" stroke-linecap=\"butt\" stroke-linejoin=\"miter\" stroke-width=\"2.00\">\n",
       "</g>\n",
       "<g color=\"black\" fill=\"none\" stroke=\"currentColor\" stroke-linecap=\"butt\" stroke-linejoin=\"miter\" stroke-width=\"2.00\">\n",
       "</g>\n",
       "<g color=\"black\" fill=\"none\" stroke=\"black\" stroke-linecap=\"butt\" stroke-linejoin=\"miter\" stroke-width=\"0.50\">\n",
       "\t<path d=\"M28.6,397.6 L544.3,397.6 M28.6,11.3 L544.3,11.3 M28.6,397.6 L28.6,11.3 M544.3,397.6 L544.3,11.3    \" stroke=\"rgb( 38,  38,  38)\"/></g>\n",
       "<g color=\"black\" fill=\"none\" stroke=\"rgb( 38,  38,  38)\" stroke-linecap=\"butt\" stroke-linejoin=\"miter\" stroke-width=\"1.00\">\n",
       "</g>\n",
       "<g color=\"black\" fill=\"none\" stroke=\"currentColor\" stroke-linecap=\"butt\" stroke-linejoin=\"miter\" stroke-width=\"1.00\">\n",
       "</g>\n",
       "</g>\n",
       "</svg>"
      ],
      "text/plain": [
       "<IPython.core.display.SVG object>"
      ]
     },
     "metadata": {},
     "output_type": "display_data"
    }
   ],
   "source": [
    "hist(w,50)"
   ]
  },
  {
   "cell_type": "code",
   "execution_count": 39,
   "metadata": {},
   "outputs": [
    {
     "name": "stdout",
     "output_type": "stream",
     "text": [
      "ans =\n",
      "\n",
      "Diagonal Matrix\n",
      "\n",
      "   1   0   0   0\n",
      "   0   1   0   0\n",
      "   0   0   1   0\n",
      "   0   0   0   1\n",
      "\n"
     ]
    }
   ],
   "source": [
    "eye(4)"
   ]
  },
  {
   "cell_type": "code",
   "execution_count": 40,
   "metadata": {},
   "outputs": [
    {
     "name": "stdout",
     "output_type": "stream",
     "text": [
      "I =\n",
      "\n",
      "Diagonal Matrix\n",
      "\n",
      "   1   0   0   0\n",
      "   0   1   0   0\n",
      "   0   0   1   0\n",
      "   0   0   0   1\n",
      "\n"
     ]
    }
   ],
   "source": [
    "I = eye(4)"
   ]
  },
  {
   "cell_type": "code",
   "execution_count": 41,
   "metadata": {},
   "outputs": [
    {
     "name": "stdout",
     "output_type": "stream",
     "text": [
      "I =\n",
      "\n",
      "Diagonal Matrix\n",
      "\n",
      "   1   0   0   0   0   0\n",
      "   0   1   0   0   0   0\n",
      "   0   0   1   0   0   0\n",
      "   0   0   0   1   0   0\n",
      "   0   0   0   0   1   0\n",
      "   0   0   0   0   0   1\n",
      "\n"
     ]
    }
   ],
   "source": [
    "I = eye(6)"
   ]
  },
  {
   "cell_type": "code",
   "execution_count": 42,
   "metadata": {},
   "outputs": [
    {
     "name": "stdout",
     "output_type": "stream",
     "text": [
      "I =\n",
      "\n",
      "Diagonal Matrix\n",
      "\n",
      "   1   0   0\n",
      "   0   1   0\n",
      "   0   0   1\n",
      "\n"
     ]
    }
   ],
   "source": [
    "I = eye(3)"
   ]
  },
  {
   "cell_type": "code",
   "execution_count": 44,
   "metadata": {},
   "outputs": [
    {
     "name": "stdout",
     "output_type": "stream",
     "text": [
      "ans =\n",
      "\n",
      "Diagonal Matrix\n",
      "\n",
      "   1   0\n",
      "   0   1\n",
      "\n"
     ]
    }
   ],
   "source": [
    "eye(2)"
   ]
  },
  {
   "cell_type": "code",
   "execution_count": 45,
   "metadata": {},
   "outputs": [
    {
     "name": "stdout",
     "output_type": "stream",
     "text": [
      "ans =  1\n"
     ]
    }
   ],
   "source": [
    "eye(1)"
   ]
  },
  {
   "cell_type": "code",
   "execution_count": 46,
   "metadata": {},
   "outputs": [
    {
     "name": "stdout",
     "output_type": "stream",
     "text": [
      "'eye' is a built-in function from the file libinterp/corefcn/data.cc\n",
      "\n",
      " -- eye (N)\n",
      " -- eye (M, N)\n",
      " -- eye ([M N])\n",
      " -- eye (..., CLASS)\n",
      "     Return an identity matrix.\n",
      "\n",
      "     If invoked with a single scalar argument N, return a square NxN\n",
      "     identity matrix.\n",
      "\n",
      "     If supplied two scalar arguments (M, N), 'eye' takes them to be the\n",
      "     number of rows and columns.  If given a vector with two elements,\n",
      "     'eye' uses the values of the elements as the number of rows and\n",
      "     columns, respectively.  For example:\n",
      "\n",
      "          eye (3)\n",
      "           =>  1  0  0\n",
      "               0  1  0\n",
      "               0  0  1\n",
      "\n",
      "     The following expressions all produce the same result:\n",
      "\n",
      "          eye (2)\n",
      "          ==\n",
      "          eye (2, 2)\n",
      "          ==\n",
      "          eye (size ([1, 2; 3, 4]))\n",
      "\n",
      "     The optional argument CLASS, allows 'eye' to return an array of the\n",
      "     specified type, like\n",
      "\n",
      "          val = zeros (n,m, \"uint8\")\n",
      "\n",
      "     Calling 'eye' with no arguments is equivalent to calling it with an\n",
      "     argument of 1.  Any negative dimensions are treated as zero.  These\n",
      "     odd definitions are for compatibility with MATLAB.\n",
      "\n",
      "     See also: speye, ones, zeros.\n",
      "\n",
      "Additional help for built-in functions and operators is\n",
      "available in the online version of the manual.  Use the command\n",
      "'doc <topic>' to search the manual index.\n",
      "\n",
      "Help and information about Octave is also available on the WWW\n",
      "at https://www.octave.org and via the help@octave.org\n",
      "mailing list.\n"
     ]
    }
   ],
   "source": [
    "help eye"
   ]
  },
  {
   "cell_type": "code",
   "execution_count": 47,
   "metadata": {},
   "outputs": [
    {
     "name": "stdout",
     "output_type": "stream",
     "text": [
      "'rand' is a built-in function from the file libinterp/corefcn/rand.cc\n",
      "\n",
      " -- rand (N)\n",
      " -- rand (M, N, ...)\n",
      " -- rand ([M N ...])\n",
      " -- V = rand (\"state\")\n",
      " -- rand (\"state\", V)\n",
      " -- rand (\"state\", \"reset\")\n",
      " -- V = rand (\"seed\")\n",
      " -- rand (\"seed\", V)\n",
      " -- rand (\"seed\", \"reset\")\n",
      " -- rand (..., \"single\")\n",
      " -- rand (..., \"double\")\n",
      "     Return a matrix with random elements uniformly distributed on the\n",
      "     interval (0, 1).\n",
      "\n",
      "     The arguments are handled the same as the arguments for 'eye'.\n",
      "\n",
      "     You can query the state of the random number generator using the\n",
      "     form\n",
      "\n",
      "          v = rand (\"state\")\n",
      "\n",
      "     This returns a column vector V of length 625.  Later, you can\n",
      "     restore the random number generator to the state V using the form\n",
      "\n",
      "          rand (\"state\", v)\n",
      "\n",
      "     You may also initialize the state vector from an arbitrary vector\n",
      "     of length <= 625 for V.  This new state will be a hash based on the\n",
      "     value of V, not V itself.\n",
      "\n",
      "     By default, the generator is initialized from '/dev/urandom' if it\n",
      "     is available, otherwise from CPU time, wall clock time, and the\n",
      "     current fraction of a second.  Note that this differs from MATLAB,\n",
      "     which always initializes the state to the same state at startup.\n",
      "     To obtain behavior comparable to MATLAB, initialize with a\n",
      "     deterministic state vector in Octave's startup files (*note Startup\n",
      "     Files::).\n",
      "\n",
      "     To compute the pseudo-random sequence, 'rand' uses the Mersenne\n",
      "     Twister with a period of 2^{19937}-1 (See M. Matsumoto and T.\n",
      "     Nishimura, 'Mersenne Twister: A 623-dimensionally equidistributed\n",
      "     uniform pseudorandom number generator', ACM Trans.  on Modeling and\n",
      "     Computer Simulation Vol.  8, No.  1, pp.  3-30, January 1998,\n",
      "     <http://www.math.sci.hiroshima-u.ac.jp/~m-mat/MT/emt.html>).  Do\n",
      "     *not* use for cryptography without securely hashing several\n",
      "     returned values together, otherwise the generator state can be\n",
      "     learned after reading 624 consecutive values.\n",
      "\n",
      "     Older versions of Octave used a different random number generator.\n",
      "     The new generator is used by default as it is significantly faster\n",
      "     than the old generator, and produces random numbers with a\n",
      "     significantly longer cycle time.  However, in some circumstances it\n",
      "     might be desirable to obtain the same random sequences as produced\n",
      "     by the old generators.  To do this the keyword \"seed\" is used to\n",
      "     specify that the old generators should be used, as in\n",
      "\n",
      "          rand (\"seed\", val)\n",
      "\n",
      "     which sets the seed of the generator to VAL.  The seed of the\n",
      "     generator can be queried with\n",
      "\n",
      "          s = rand (\"seed\")\n",
      "\n",
      "     However, it should be noted that querying the seed will not cause\n",
      "     'rand' to use the old generators, only setting the seed will.  To\n",
      "     cause 'rand' to once again use the new generators, the keyword\n",
      "     \"state\" should be used to reset the state of the 'rand'.\n",
      "\n",
      "     The state or seed of the generator can be reset to a new random\n",
      "     value using the \"reset\" keyword.\n",
      "\n",
      "     The class of the value returned can be controlled by a trailing\n",
      "     \"double\" or \"single\" argument.  These are the only valid classes.\n",
      "\n",
      "     See also: randn, rande, randg, randp.\n",
      "\n",
      "Additional help for built-in functions and operators is\n",
      "available in the online version of the manual.  Use the command\n",
      "'doc <topic>' to search the manual index.\n",
      "\n",
      "Help and information about Octave is also available on the WWW\n",
      "at https://www.octave.org and via the help@octave.org\n",
      "mailing list.\n"
     ]
    }
   ],
   "source": [
    "help rand"
   ]
  },
  {
   "cell_type": "code",
   "execution_count": 48,
   "metadata": {},
   "outputs": [
    {
     "name": "stdout",
     "output_type": "stream",
     "text": [
      "'help' is a function from the file /usr/local/Cellar/octave/4.4.1_2/share/octave/4.4.1/m/help/help.m\n",
      "\n",
      " -- help NAME\n",
      " -- help --list\n",
      " -- help .\n",
      " -- help\n",
      "     Display the help text for NAME.\n",
      "\n",
      "     For example, the command 'help help' prints a short message\n",
      "     describing the 'help' command.\n",
      "\n",
      "     Given the single argument '--list', list all operators, keywords,\n",
      "     built-in functions, and loadable functions available in the current\n",
      "     session of Octave.\n",
      "\n",
      "     Given the single argument '.', list all operators available in the\n",
      "     current session of Octave.\n",
      "\n",
      "     If invoked without any arguments, 'help' displays instructions on\n",
      "     how to access help from the command line.\n",
      "\n",
      "     The help command can provide information about most operators, but\n",
      "     NAME must be enclosed by single or double quotes to prevent the\n",
      "     Octave interpreter from acting on NAME.  For example, 'help \"+\"'\n",
      "     displays help on the addition operator.\n",
      "\n",
      "     See also: doc, lookfor, which, info.\n",
      "\n",
      "Additional help for built-in functions and operators is\n",
      "available in the online version of the manual.  Use the command\n",
      "'doc <topic>' to search the manual index.\n",
      "\n",
      "Help and information about Octave is also available on the WWW\n",
      "at https://www.octave.org and via the help@octave.org\n",
      "mailing list.\n"
     ]
    }
   ],
   "source": [
    "help help"
   ]
  },
  {
   "cell_type": "code",
   "execution_count": null,
   "metadata": {},
   "outputs": [],
   "source": []
  }
 ],
 "metadata": {
  "kernelspec": {
   "display_name": "Octave",
   "language": "octave",
   "name": "octave"
  },
  "language_info": {
   "file_extension": ".m",
   "help_links": [
    {
     "text": "GNU Octave",
     "url": "https://www.gnu.org/software/octave/support.html"
    },
    {
     "text": "Octave Kernel",
     "url": "https://github.com/Calysto/octave_kernel"
    },
    {
     "text": "MetaKernel Magics",
     "url": "https://github.com/calysto/metakernel/blob/master/metakernel/magics/README.md"
    }
   ],
   "mimetype": "text/x-octave",
   "name": "octave",
   "version": "4.4.1"
  }
 },
 "nbformat": 4,
 "nbformat_minor": 2
}
