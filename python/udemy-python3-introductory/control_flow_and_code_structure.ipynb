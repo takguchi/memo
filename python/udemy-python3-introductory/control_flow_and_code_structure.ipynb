{
 "cells": [
  {
   "cell_type": "markdown",
   "metadata": {},
   "source": [
    "# Comment"
   ]
  },
  {
   "cell_type": "code",
   "execution_count": 1,
   "metadata": {},
   "outputs": [
    {
     "name": "stdout",
     "output_type": "stream",
     "text": [
      "XXXX\n"
     ]
    }
   ],
   "source": [
    "print('XXXX')"
   ]
  },
  {
   "cell_type": "code",
   "execution_count": 2,
   "metadata": {},
   "outputs": [
    {
     "name": "stdout",
     "output_type": "stream",
     "text": [
      "XXXX\n",
      "XXXX\n"
     ]
    }
   ],
   "source": [
    "print('XXXX')\n",
    "print('XXXX')"
   ]
  },
  {
   "cell_type": "code",
   "execution_count": 3,
   "metadata": {},
   "outputs": [
    {
     "name": "stdout",
     "output_type": "stream",
     "text": [
      "XXXX\n",
      "XXXX\n"
     ]
    }
   ],
   "source": [
    "print('XXXX')\n",
    "# test\n",
    "print('XXXX')"
   ]
  },
  {
   "cell_type": "code",
   "execution_count": 4,
   "metadata": {},
   "outputs": [
    {
     "name": "stdout",
     "output_type": "stream",
     "text": [
      "XXXX\n",
      "XXXX\n"
     ]
    }
   ],
   "source": [
    "print('XXXX')\n",
    "\"\"\"\n",
    "test\n",
    "test\n",
    "test\n",
    "test\n",
    "\"\"\"\n",
    "print('XXXX')"
   ]
  },
  {
   "cell_type": "code",
   "execution_count": 5,
   "metadata": {},
   "outputs": [],
   "source": [
    "# Apple price\n",
    "sample_value = 100"
   ]
  },
  {
   "cell_type": "code",
   "execution_count": 6,
   "metadata": {},
   "outputs": [
    {
     "data": {
      "text/plain": [
       "100"
      ]
     },
     "execution_count": 6,
     "metadata": {},
     "output_type": "execute_result"
    }
   ],
   "source": [
    "sample_value"
   ]
  },
  {
   "cell_type": "code",
   "execution_count": 7,
   "metadata": {},
   "outputs": [],
   "source": [
    "sample_value = 200 # Apple price"
   ]
  },
  {
   "cell_type": "code",
   "execution_count": 8,
   "metadata": {},
   "outputs": [
    {
     "data": {
      "text/plain": [
       "200"
      ]
     },
     "execution_count": 8,
     "metadata": {},
     "output_type": "execute_result"
    }
   ],
   "source": [
    "sample_value"
   ]
  },
  {
   "cell_type": "markdown",
   "metadata": {},
   "source": [
    "##################################################"
   ]
  },
  {
   "cell_type": "code",
   "execution_count": 9,
   "metadata": {},
   "outputs": [],
   "source": [
    "s = 'aaaaaaaaaaaaaaaaaaaaaaa' + 'bbbbbbbbbbbbbbbbbbbbbbbbb'"
   ]
  },
  {
   "cell_type": "code",
   "execution_count": 10,
   "metadata": {},
   "outputs": [
    {
     "data": {
      "text/plain": [
       "'aaaaaaaaaaaaaaaaaaaaaaabbbbbbbbbbbbbbbbbbbbbbbbb'"
      ]
     },
     "execution_count": 10,
     "metadata": {},
     "output_type": "execute_result"
    }
   ],
   "source": [
    "s"
   ]
  },
  {
   "cell_type": "code",
   "execution_count": 11,
   "metadata": {},
   "outputs": [
    {
     "ename": "IndentationError",
     "evalue": "unexpected indent (<ipython-input-11-e0ea5478f990>, line 2)",
     "output_type": "error",
     "traceback": [
      "\u001b[0;36m  File \u001b[0;32m\"<ipython-input-11-e0ea5478f990>\"\u001b[0;36m, line \u001b[0;32m2\u001b[0m\n\u001b[0;31m    + 'yyyyyyyyyyyyyyyyyyyyyyyyyyyyyyyyyyyyyy'\u001b[0m\n\u001b[0m    ^\u001b[0m\n\u001b[0;31mIndentationError\u001b[0m\u001b[0;31m:\u001b[0m unexpected indent\n"
     ]
    }
   ],
   "source": [
    "s = 'xxxxxxxxxxxxxxxxxxxxxxxxxxxxxxxx'\n",
    "       + 'yyyyyyyyyyyyyyyyyyyyyyyyyyyyyyyyyyyyyy'"
   ]
  },
  {
   "cell_type": "code",
   "execution_count": 12,
   "metadata": {},
   "outputs": [],
   "source": [
    "s = 'xxxxxxxxxxxxxxxxxxxxxxxxxxxxxxxx' \\\n",
    "       + 'yyyyyyyyyyyyyyyyyyyyyyyyyyyyyyyyyyyyyy'"
   ]
  },
  {
   "cell_type": "code",
   "execution_count": 13,
   "metadata": {},
   "outputs": [
    {
     "data": {
      "text/plain": [
       "'xxxxxxxxxxxxxxxxxxxxxxxxxxxxxxxxyyyyyyyyyyyyyyyyyyyyyyyyyyyyyyyyyyyyyy'"
      ]
     },
     "execution_count": 13,
     "metadata": {},
     "output_type": "execute_result"
    }
   ],
   "source": [
    "s"
   ]
  },
  {
   "cell_type": "code",
   "execution_count": 14,
   "metadata": {},
   "outputs": [],
   "source": [
    "s = ('xxxxxxxxxxxxxxxxxxxxxxxxxxxxxxxx' \n",
    "       + 'yyyyyyyyyyyyyyyyyyyyyyyyyyyyyyyyyyyyyy')"
   ]
  },
  {
   "cell_type": "code",
   "execution_count": 15,
   "metadata": {},
   "outputs": [
    {
     "data": {
      "text/plain": [
       "'xxxxxxxxxxxxxxxxxxxxxxxxxxxxxxxxyyyyyyyyyyyyyyyyyyyyyyyyyyyyyyyyyyyyyy'"
      ]
     },
     "execution_count": 15,
     "metadata": {},
     "output_type": "execute_result"
    }
   ],
   "source": [
    "s"
   ]
  },
  {
   "cell_type": "markdown",
   "metadata": {},
   "source": [
    "# If"
   ]
  },
  {
   "cell_type": "code",
   "execution_count": 16,
   "metadata": {},
   "outputs": [
    {
     "name": "stdout",
     "output_type": "stream",
     "text": [
      "1000000000000000000000\n"
     ]
    }
   ],
   "source": [
    "x = 10\n",
    "\n",
    "if x < 0:\n",
    "    print('negative')\n",
    "elif x == 0:\n",
    "    print('zero')\n",
    "elif x == 10:\n",
    "    print('1000000000000000000000')\n",
    "elif x == 10:\n",
    "    print('10')\n",
    "else: \n",
    "    print('positive')"
   ]
  },
  {
   "cell_type": "markdown",
   "metadata": {},
   "source": [
    "############################################################"
   ]
  },
  {
   "cell_type": "code",
   "execution_count": 17,
   "metadata": {},
   "outputs": [
    {
     "name": "stdout",
     "output_type": "stream",
     "text": [
      "OK!\n"
     ]
    }
   ],
   "source": [
    "is_ok = True\n",
    "\n",
    "if is_ok:\n",
    "    print('OK!')"
   ]
  },
  {
   "cell_type": "code",
   "execution_count": 18,
   "metadata": {},
   "outputs": [
    {
     "name": "stdout",
     "output_type": "stream",
     "text": [
      "OK!\n"
     ]
    }
   ],
   "source": [
    "is_ok = 1\n",
    "\n",
    "if is_ok:\n",
    "    print('OK!')"
   ]
  },
  {
   "cell_type": "code",
   "execution_count": 19,
   "metadata": {},
   "outputs": [
    {
     "name": "stdout",
     "output_type": "stream",
     "text": [
      "NO!\n"
     ]
    }
   ],
   "source": [
    "is_ok = 0\n",
    "\n",
    "if is_ok:\n",
    "    print('OK!')\n",
    "else:\n",
    "    print('NO!')"
   ]
  },
  {
   "cell_type": "code",
   "execution_count": 20,
   "metadata": {},
   "outputs": [
    {
     "name": "stdout",
     "output_type": "stream",
     "text": [
      "NO!\n"
     ]
    }
   ],
   "source": [
    "is_ok = \"\"\n",
    "\n",
    "if is_ok:\n",
    "    print('OK!')\n",
    "else:\n",
    "    print('NO!')"
   ]
  },
  {
   "cell_type": "code",
   "execution_count": 21,
   "metadata": {},
   "outputs": [
    {
     "name": "stdout",
     "output_type": "stream",
     "text": [
      "OK!\n"
     ]
    }
   ],
   "source": [
    "is_ok = \"abcdef\"\n",
    "\n",
    "if is_ok:\n",
    "    print('OK!')\n",
    "else:\n",
    "    print('NO!')"
   ]
  },
  {
   "cell_type": "code",
   "execution_count": 22,
   "metadata": {},
   "outputs": [
    {
     "name": "stdout",
     "output_type": "stream",
     "text": [
      "NO!\n"
     ]
    }
   ],
   "source": [
    "is_ok = []\n",
    "\n",
    "if is_ok:\n",
    "    print('OK!')\n",
    "else:\n",
    "    print('NO!')"
   ]
  },
  {
   "cell_type": "code",
   "execution_count": 23,
   "metadata": {},
   "outputs": [
    {
     "name": "stdout",
     "output_type": "stream",
     "text": [
      "OK!\n"
     ]
    }
   ],
   "source": [
    "is_ok = [1,2,3,4]\n",
    "\n",
    "if is_ok:\n",
    "    print('OK!')\n",
    "else:\n",
    "    print('NO!')"
   ]
  },
  {
   "cell_type": "markdown",
   "metadata": {},
   "source": [
    "############################################################"
   ]
  },
  {
   "cell_type": "code",
   "execution_count": 24,
   "metadata": {},
   "outputs": [],
   "source": [
    "is_empty = None"
   ]
  },
  {
   "cell_type": "code",
   "execution_count": 25,
   "metadata": {},
   "outputs": [],
   "source": [
    "is_empty"
   ]
  },
  {
   "cell_type": "code",
   "execution_count": 26,
   "metadata": {},
   "outputs": [
    {
     "data": {
      "text/plain": [
       "NoneType"
      ]
     },
     "execution_count": 26,
     "metadata": {},
     "output_type": "execute_result"
    }
   ],
   "source": [
    "type(is_empty)"
   ]
  },
  {
   "cell_type": "code",
   "execution_count": 27,
   "metadata": {},
   "outputs": [
    {
     "name": "stdout",
     "output_type": "stream",
     "text": [
      "Help on NoneType object:\n",
      "\n",
      "class NoneType(object)\n",
      " |  Methods defined here:\n",
      " |  \n",
      " |  __bool__(self, /)\n",
      " |      self != 0\n",
      " |  \n",
      " |  __new__(*args, **kwargs) from builtins.type\n",
      " |      Create and return a new object.  See help(type) for accurate signature.\n",
      " |  \n",
      " |  __repr__(self, /)\n",
      " |      Return repr(self).\n",
      "\n"
     ]
    }
   ],
   "source": [
    "help(None)"
   ]
  },
  {
   "cell_type": "code",
   "execution_count": 28,
   "metadata": {},
   "outputs": [
    {
     "name": "stdout",
     "output_type": "stream",
     "text": [
      "None!!!\n"
     ]
    }
   ],
   "source": [
    "if is_empty == None:\n",
    "    print('None!!!')"
   ]
  },
  {
   "cell_type": "code",
   "execution_count": 29,
   "metadata": {},
   "outputs": [
    {
     "name": "stdout",
     "output_type": "stream",
     "text": [
      "None!!!\n"
     ]
    }
   ],
   "source": [
    "if is_empty is None:\n",
    "    print('None!!!')"
   ]
  },
  {
   "cell_type": "code",
   "execution_count": 31,
   "metadata": {},
   "outputs": [
    {
     "data": {
      "text/plain": [
       "True"
      ]
     },
     "execution_count": 31,
     "metadata": {},
     "output_type": "execute_result"
    }
   ],
   "source": [
    "1 == True"
   ]
  },
  {
   "cell_type": "code",
   "execution_count": 32,
   "metadata": {},
   "outputs": [
    {
     "data": {
      "text/plain": [
       "False"
      ]
     },
     "execution_count": 32,
     "metadata": {},
     "output_type": "execute_result"
    }
   ],
   "source": [
    "1 is True"
   ]
  },
  {
   "cell_type": "code",
   "execution_count": 33,
   "metadata": {},
   "outputs": [
    {
     "data": {
      "text/plain": [
       "True"
      ]
     },
     "execution_count": 33,
     "metadata": {},
     "output_type": "execute_result"
    }
   ],
   "source": [
    "True is True"
   ]
  },
  {
   "cell_type": "code",
   "execution_count": 34,
   "metadata": {},
   "outputs": [
    {
     "data": {
      "text/plain": [
       "True"
      ]
     },
     "execution_count": 34,
     "metadata": {},
     "output_type": "execute_result"
    }
   ],
   "source": [
    "None is None"
   ]
  },
  {
   "cell_type": "markdown",
   "metadata": {},
   "source": [
    "# While, For"
   ]
  },
  {
   "cell_type": "code",
   "execution_count": 35,
   "metadata": {},
   "outputs": [
    {
     "name": "stdout",
     "output_type": "stream",
     "text": [
      "0\n",
      "1\n",
      "2\n",
      "3\n",
      "4\n",
      "done\n"
     ]
    }
   ],
   "source": [
    "count = 0\n",
    "\n",
    "while count < 5:\n",
    "    print(count)\n",
    "    count += 1\n",
    "else:\n",
    "    print('done')"
   ]
  },
  {
   "cell_type": "code",
   "execution_count": 36,
   "metadata": {},
   "outputs": [
    {
     "name": "stdout",
     "output_type": "stream",
     "text": [
      "0\n"
     ]
    }
   ],
   "source": [
    "count = 0\n",
    "\n",
    "while count < 5:\n",
    "    if count == 1:\n",
    "        break\n",
    "    print(count)\n",
    "    count += 1\n",
    "else:\n",
    "    print('done')"
   ]
  },
  {
   "cell_type": "code",
   "execution_count": 37,
   "metadata": {},
   "outputs": [
    {
     "name": "stdout",
     "output_type": "stream",
     "text": [
      "Enter: ok\n"
     ]
    }
   ],
   "source": [
    "while True:\n",
    "    word = input('Enter: ')\n",
    "    if word == 'ok':\n",
    "        break\n",
    "    print('next')"
   ]
  },
  {
   "cell_type": "code",
   "execution_count": 38,
   "metadata": {},
   "outputs": [
    {
     "name": "stdout",
     "output_type": "stream",
     "text": [
      "Enter: a\n",
      "next\n",
      "Enter: a\n",
      "next\n",
      "Enter: b\n",
      "next\n",
      "Enter: ok\n"
     ]
    }
   ],
   "source": [
    "while True:\n",
    "    word = input('Enter: ')\n",
    "    if word == 'ok':\n",
    "        break\n",
    "    print('next')"
   ]
  },
  {
   "cell_type": "code",
   "execution_count": 39,
   "metadata": {},
   "outputs": [
    {
     "name": "stdout",
     "output_type": "stream",
     "text": [
      "Enter: a\n"
     ]
    },
    {
     "ename": "ValueError",
     "evalue": "invalid literal for int() with base 10: 'a'",
     "output_type": "error",
     "traceback": [
      "\u001b[0;31m---------------------------------------------------------------------------\u001b[0m",
      "\u001b[0;31mValueError\u001b[0m                                Traceback (most recent call last)",
      "\u001b[0;32m<ipython-input-39-5178634d024b>\u001b[0m in \u001b[0;36m<module>\u001b[0;34m()\u001b[0m\n\u001b[1;32m      1\u001b[0m \u001b[0;32mwhile\u001b[0m \u001b[0;32mTrue\u001b[0m\u001b[0;34m:\u001b[0m\u001b[0;34m\u001b[0m\u001b[0m\n\u001b[1;32m      2\u001b[0m     \u001b[0mword\u001b[0m \u001b[0;34m=\u001b[0m \u001b[0minput\u001b[0m\u001b[0;34m(\u001b[0m\u001b[0;34m'Enter: '\u001b[0m\u001b[0;34m)\u001b[0m\u001b[0;34m\u001b[0m\u001b[0m\n\u001b[0;32m----> 3\u001b[0;31m     \u001b[0mnum\u001b[0m \u001b[0;34m=\u001b[0m \u001b[0mint\u001b[0m\u001b[0;34m(\u001b[0m\u001b[0mword\u001b[0m\u001b[0;34m)\u001b[0m\u001b[0;34m\u001b[0m\u001b[0m\n\u001b[0m\u001b[1;32m      4\u001b[0m     \u001b[0;32mif\u001b[0m \u001b[0mnum\u001b[0m \u001b[0;34m==\u001b[0m \u001b[0;36m100\u001b[0m\u001b[0;34m:\u001b[0m\u001b[0;34m\u001b[0m\u001b[0m\n\u001b[1;32m      5\u001b[0m         \u001b[0;32mbreak\u001b[0m\u001b[0;34m\u001b[0m\u001b[0m\n",
      "\u001b[0;31mValueError\u001b[0m: invalid literal for int() with base 10: 'a'"
     ]
    }
   ],
   "source": [
    "while True:\n",
    "    word = input('Enter: ')\n",
    "    num = int(word)\n",
    "    if num == 100:\n",
    "        break\n",
    "    print('next')"
   ]
  },
  {
   "cell_type": "code",
   "execution_count": 40,
   "metadata": {},
   "outputs": [
    {
     "name": "stdout",
     "output_type": "stream",
     "text": [
      "Enter: 1\n",
      "next\n",
      "Enter: 10\n",
      "next\n",
      "Enter: 100\n"
     ]
    }
   ],
   "source": [
    "while True:\n",
    "    word = input('Enter: ')\n",
    "    num = int(word)\n",
    "    if num == 100:\n",
    "        break\n",
    "    print('next')"
   ]
  },
  {
   "cell_type": "code",
   "execution_count": 41,
   "metadata": {},
   "outputs": [],
   "source": [
    "some_list = [1,2,3,4,5]"
   ]
  },
  {
   "cell_type": "code",
   "execution_count": 42,
   "metadata": {},
   "outputs": [
    {
     "name": "stdout",
     "output_type": "stream",
     "text": [
      "1\n",
      "2\n",
      "3\n",
      "4\n",
      "5\n"
     ]
    }
   ],
   "source": [
    "for i in some_list:\n",
    "    print(i)"
   ]
  },
  {
   "cell_type": "code",
   "execution_count": 44,
   "metadata": {},
   "outputs": [
    {
     "name": "stdout",
     "output_type": "stream",
     "text": [
      "a\n",
      "b\n",
      "c\n",
      "d\n",
      "e\n",
      "f\n"
     ]
    }
   ],
   "source": [
    "for s in 'abcdef':\n",
    "    print(s)"
   ]
  },
  {
   "cell_type": "code",
   "execution_count": 45,
   "metadata": {},
   "outputs": [
    {
     "name": "stdout",
     "output_type": "stream",
     "text": [
      "My\n",
      "name\n",
      "is\n",
      "Mike\n"
     ]
    }
   ],
   "source": [
    "for word in ['My', 'name', 'is', 'Mike']:\n",
    "    print(word)"
   ]
  },
  {
   "cell_type": "code",
   "execution_count": 46,
   "metadata": {},
   "outputs": [
    {
     "name": "stdout",
     "output_type": "stream",
     "text": [
      "My\n"
     ]
    }
   ],
   "source": [
    "for word in ['My', 'name', 'is', 'Mike']:\n",
    "    if word == 'name':\n",
    "        break\n",
    "    print(word)"
   ]
  },
  {
   "cell_type": "code",
   "execution_count": 47,
   "metadata": {},
   "outputs": [
    {
     "name": "stdout",
     "output_type": "stream",
     "text": [
      "My\n",
      "is\n",
      "Mike\n"
     ]
    }
   ],
   "source": [
    "for word in ['My', 'name', 'is', 'Mike']:\n",
    "    if word == 'name':\n",
    "        continue\n",
    "    print(word)"
   ]
  },
  {
   "cell_type": "code",
   "execution_count": 48,
   "metadata": {},
   "outputs": [
    {
     "name": "stdout",
     "output_type": "stream",
     "text": [
      "apple\n",
      "banana\n",
      "orange\n",
      "I ate all!\n"
     ]
    }
   ],
   "source": [
    "for fruit in ['apple', 'banana', 'orange']:\n",
    "    print(fruit)\n",
    "else:\n",
    "    print('I ate all!')"
   ]
  },
  {
   "cell_type": "code",
   "execution_count": 49,
   "metadata": {},
   "outputs": [
    {
     "name": "stdout",
     "output_type": "stream",
     "text": [
      "apple\n",
      "stop eating\n"
     ]
    }
   ],
   "source": [
    "for fruit in ['apple', 'banana', 'orange']:\n",
    "    if fruit == 'banana':\n",
    "        print('stop eating')\n",
    "        break\n",
    "    print(fruit)\n",
    "else:\n",
    "    print('I ate all!')"
   ]
  },
  {
   "cell_type": "markdown",
   "metadata": {},
   "source": [
    "############################################################"
   ]
  },
  {
   "cell_type": "code",
   "execution_count": 50,
   "metadata": {},
   "outputs": [
    {
     "name": "stdout",
     "output_type": "stream",
     "text": [
      "0\n",
      "1\n",
      "2\n",
      "3\n",
      "4\n",
      "5\n",
      "6\n",
      "7\n",
      "8\n",
      "9\n"
     ]
    }
   ],
   "source": [
    "for i in range(10):\n",
    "    print(i)"
   ]
  },
  {
   "cell_type": "code",
   "execution_count": 51,
   "metadata": {},
   "outputs": [
    {
     "name": "stdout",
     "output_type": "stream",
     "text": [
      "2\n",
      "3\n",
      "4\n",
      "5\n",
      "6\n",
      "7\n",
      "8\n",
      "9\n"
     ]
    }
   ],
   "source": [
    "for i in range(2, 10):\n",
    "    print(i)"
   ]
  },
  {
   "cell_type": "code",
   "execution_count": 52,
   "metadata": {},
   "outputs": [
    {
     "name": "stdout",
     "output_type": "stream",
     "text": [
      "2\n",
      "5\n",
      "8\n"
     ]
    }
   ],
   "source": [
    "for i in range(2, 10, 3):\n",
    "    print(i)"
   ]
  },
  {
   "cell_type": "code",
   "execution_count": 53,
   "metadata": {},
   "outputs": [
    {
     "name": "stdout",
     "output_type": "stream",
     "text": [
      "hello\n",
      "hello\n",
      "hello\n",
      "hello\n",
      "hello\n",
      "hello\n",
      "hello\n",
      "hello\n",
      "hello\n",
      "hello\n"
     ]
    }
   ],
   "source": [
    "for i in range(10):\n",
    "    print('hello')"
   ]
  },
  {
   "cell_type": "code",
   "execution_count": 54,
   "metadata": {},
   "outputs": [
    {
     "name": "stdout",
     "output_type": "stream",
     "text": [
      "0 hello\n",
      "1 hello\n",
      "2 hello\n",
      "3 hello\n",
      "4 hello\n",
      "5 hello\n",
      "6 hello\n",
      "7 hello\n",
      "8 hello\n",
      "9 hello\n"
     ]
    }
   ],
   "source": [
    "for i in range(10):\n",
    "    print(i, 'hello')"
   ]
  },
  {
   "cell_type": "code",
   "execution_count": 55,
   "metadata": {},
   "outputs": [
    {
     "name": "stdout",
     "output_type": "stream",
     "text": [
      "hello\n",
      "hello\n",
      "hello\n",
      "hello\n",
      "hello\n",
      "hello\n",
      "hello\n",
      "hello\n",
      "hello\n",
      "hello\n"
     ]
    }
   ],
   "source": [
    "for _ in range(10):\n",
    "    print('hello')"
   ]
  },
  {
   "cell_type": "markdown",
   "metadata": {},
   "source": [
    "# Enumerate"
   ]
  },
  {
   "cell_type": "code",
   "execution_count": 56,
   "metadata": {},
   "outputs": [
    {
     "name": "stdout",
     "output_type": "stream",
     "text": [
      "0 apple\n",
      "1 banana\n",
      "2 orange\n"
     ]
    }
   ],
   "source": [
    "for i, fruit in enumerate(['apple', 'banana', 'orange']):\n",
    "    print(i, fruit)"
   ]
  },
  {
   "cell_type": "code",
   "execution_count": 57,
   "metadata": {},
   "outputs": [
    {
     "name": "stdout",
     "output_type": "stream",
     "text": [
      "apple 0\n",
      "banana 1\n",
      "orange 2\n"
     ]
    }
   ],
   "source": [
    "for fruit, i in enumerate(['apple', 'banana', 'orange']):\n",
    "    print(i, fruit)"
   ]
  },
  {
   "cell_type": "markdown",
   "metadata": {},
   "source": [
    "# Zip"
   ]
  },
  {
   "cell_type": "code",
   "execution_count": 66,
   "metadata": {},
   "outputs": [
    {
     "name": "stdout",
     "output_type": "stream",
     "text": [
      "Mon apple coffee\n",
      "Tue banana tea\n",
      "Wed orange beer\n"
     ]
    }
   ],
   "source": [
    "days = ['Mon', 'Tue', 'Wed']\n",
    "fruits = ['apple', 'banana', 'orange']\n",
    "drinks = ['coffee', 'tea', 'beer']\n",
    "\n",
    "for day, fruit, drink in zip(days, fruits, drinks):\n",
    "    print(day, fruit, drink)"
   ]
  },
  {
   "cell_type": "code",
   "execution_count": 67,
   "metadata": {},
   "outputs": [
    {
     "data": {
      "text/plain": [
       "<zip at 0x109ef3388>"
      ]
     },
     "execution_count": 67,
     "metadata": {},
     "output_type": "execute_result"
    }
   ],
   "source": [
    "zip(days, fruits, drinks)"
   ]
  },
  {
   "cell_type": "markdown",
   "metadata": {},
   "source": [
    "# Dictionary × For"
   ]
  },
  {
   "cell_type": "code",
   "execution_count": 59,
   "metadata": {},
   "outputs": [],
   "source": [
    "d = {'x': 100, 'y': 200}"
   ]
  },
  {
   "cell_type": "code",
   "execution_count": 62,
   "metadata": {},
   "outputs": [
    {
     "name": "stdout",
     "output_type": "stream",
     "text": [
      "x\n",
      "y\n"
     ]
    }
   ],
   "source": [
    "for v in d:\n",
    "    print(v)"
   ]
  },
  {
   "cell_type": "code",
   "execution_count": 63,
   "metadata": {},
   "outputs": [
    {
     "name": "stdout",
     "output_type": "stream",
     "text": [
      "x : 100\n",
      "y : 200\n"
     ]
    }
   ],
   "source": [
    "for k, v in d.items():\n",
    "    print(k, ':', v)"
   ]
  },
  {
   "cell_type": "code",
   "execution_count": 65,
   "metadata": {},
   "outputs": [
    {
     "data": {
      "text/plain": [
       "dict_items([('x', 100), ('y', 200)])"
      ]
     },
     "execution_count": 65,
     "metadata": {},
     "output_type": "execute_result"
    }
   ],
   "source": [
    "d.items()"
   ]
  },
  {
   "cell_type": "markdown",
   "metadata": {},
   "source": [
    "# Function Definition"
   ]
  },
  {
   "cell_type": "code",
   "execution_count": 68,
   "metadata": {},
   "outputs": [],
   "source": [
    "def say_something():\n",
    "    print('hello')"
   ]
  },
  {
   "cell_type": "code",
   "execution_count": 69,
   "metadata": {},
   "outputs": [
    {
     "data": {
      "text/plain": [
       "<function __main__.say_something()>"
      ]
     },
     "execution_count": 69,
     "metadata": {},
     "output_type": "execute_result"
    }
   ],
   "source": [
    "say_something"
   ]
  },
  {
   "cell_type": "code",
   "execution_count": 70,
   "metadata": {},
   "outputs": [
    {
     "name": "stdout",
     "output_type": "stream",
     "text": [
      "hello\n"
     ]
    }
   ],
   "source": [
    "say_something()"
   ]
  },
  {
   "cell_type": "code",
   "execution_count": 71,
   "metadata": {},
   "outputs": [
    {
     "ename": "NameError",
     "evalue": "name 'say_hi' is not defined",
     "output_type": "error",
     "traceback": [
      "\u001b[0;31m---------------------------------------------------------------------------\u001b[0m",
      "\u001b[0;31mNameError\u001b[0m                                 Traceback (most recent call last)",
      "\u001b[0;32m<ipython-input-71-be23cb8f71ab>\u001b[0m in \u001b[0;36m<module>\u001b[0;34m()\u001b[0m\n\u001b[0;32m----> 1\u001b[0;31m \u001b[0msay_hi\u001b[0m\u001b[0;34m(\u001b[0m\u001b[0;34m)\u001b[0m\u001b[0;34m\u001b[0m\u001b[0m\n\u001b[0m\u001b[1;32m      2\u001b[0m \u001b[0;32mdef\u001b[0m \u001b[0msay_hi\u001b[0m\u001b[0;34m(\u001b[0m\u001b[0;34m)\u001b[0m\u001b[0;34m:\u001b[0m\u001b[0;34m\u001b[0m\u001b[0m\n\u001b[1;32m      3\u001b[0m     \u001b[0mprint\u001b[0m\u001b[0;34m(\u001b[0m\u001b[0;34m'hi'\u001b[0m\u001b[0;34m)\u001b[0m\u001b[0;34m\u001b[0m\u001b[0m\n",
      "\u001b[0;31mNameError\u001b[0m: name 'say_hi' is not defined"
     ]
    }
   ],
   "source": [
    "say_hi()\n",
    "def say_hi():\n",
    "    print('hi')"
   ]
  },
  {
   "cell_type": "code",
   "execution_count": 72,
   "metadata": {},
   "outputs": [
    {
     "data": {
      "text/plain": [
       "function"
      ]
     },
     "execution_count": 72,
     "metadata": {},
     "output_type": "execute_result"
    }
   ],
   "source": [
    "type(say_something)"
   ]
  },
  {
   "cell_type": "code",
   "execution_count": 73,
   "metadata": {},
   "outputs": [],
   "source": [
    "F = say_something"
   ]
  },
  {
   "cell_type": "code",
   "execution_count": 74,
   "metadata": {},
   "outputs": [
    {
     "name": "stdout",
     "output_type": "stream",
     "text": [
      "hello\n"
     ]
    }
   ],
   "source": [
    "F()"
   ]
  },
  {
   "cell_type": "code",
   "execution_count": 75,
   "metadata": {},
   "outputs": [],
   "source": [
    "def say_something():\n",
    "    return 'hello'"
   ]
  },
  {
   "cell_type": "code",
   "execution_count": 76,
   "metadata": {},
   "outputs": [],
   "source": [
    "result = say_something()"
   ]
  },
  {
   "cell_type": "code",
   "execution_count": 77,
   "metadata": {},
   "outputs": [
    {
     "data": {
      "text/plain": [
       "'hello'"
      ]
     },
     "execution_count": 77,
     "metadata": {},
     "output_type": "execute_result"
    }
   ],
   "source": [
    "result"
   ]
  },
  {
   "cell_type": "code",
   "execution_count": 78,
   "metadata": {},
   "outputs": [],
   "source": [
    "def what_is_this(color):\n",
    "    if color == 'red':\n",
    "        return 'tomato'\n",
    "    elif color == 'green':\n",
    "        return 'green pepper'\n",
    "    else:\n",
    "        return \"I don't know\""
   ]
  },
  {
   "cell_type": "code",
   "execution_count": 79,
   "metadata": {},
   "outputs": [],
   "source": [
    "result = what_is_this('red')"
   ]
  },
  {
   "cell_type": "code",
   "execution_count": 80,
   "metadata": {},
   "outputs": [
    {
     "data": {
      "text/plain": [
       "'tomato'"
      ]
     },
     "execution_count": 80,
     "metadata": {},
     "output_type": "execute_result"
    }
   ],
   "source": [
    "result"
   ]
  },
  {
   "cell_type": "code",
   "execution_count": 81,
   "metadata": {},
   "outputs": [],
   "source": [
    "result = what_is_this('green')"
   ]
  },
  {
   "cell_type": "code",
   "execution_count": 82,
   "metadata": {},
   "outputs": [
    {
     "data": {
      "text/plain": [
       "'green pepper'"
      ]
     },
     "execution_count": 82,
     "metadata": {},
     "output_type": "execute_result"
    }
   ],
   "source": [
    "result"
   ]
  },
  {
   "cell_type": "code",
   "execution_count": 83,
   "metadata": {},
   "outputs": [],
   "source": [
    "result = what_is_this('yellow')"
   ]
  },
  {
   "cell_type": "code",
   "execution_count": 84,
   "metadata": {},
   "outputs": [
    {
     "data": {
      "text/plain": [
       "\"I don't know\""
      ]
     },
     "execution_count": 84,
     "metadata": {},
     "output_type": "execute_result"
    }
   ],
   "source": [
    "result"
   ]
  },
  {
   "cell_type": "markdown",
   "metadata": {},
   "source": [
    "############################################################"
   ]
  },
  {
   "cell_type": "code",
   "execution_count": 85,
   "metadata": {},
   "outputs": [],
   "source": [
    "def menu(entree, drink, dessert):\n",
    "    print('entree = ', entree)\n",
    "    print('drink = ', drink)\n",
    "    print('dessert = ', dessert)"
   ]
  },
  {
   "cell_type": "code",
   "execution_count": 86,
   "metadata": {},
   "outputs": [
    {
     "name": "stdout",
     "output_type": "stream",
     "text": [
      "entree =  beef\n",
      "drink =  beer\n",
      "dessert =  ice\n"
     ]
    }
   ],
   "source": [
    "menu(entree='beef', dessert='ice', drink='beer')"
   ]
  },
  {
   "cell_type": "code",
   "execution_count": 87,
   "metadata": {},
   "outputs": [
    {
     "name": "stdout",
     "output_type": "stream",
     "text": [
      "entree =  beef\n",
      "drink =  beer\n",
      "dessert =  ice\n"
     ]
    }
   ],
   "source": [
    "menu('beef', dessert='ice', drink='beer')"
   ]
  },
  {
   "cell_type": "code",
   "execution_count": 88,
   "metadata": {},
   "outputs": [
    {
     "ename": "SyntaxError",
     "evalue": "positional argument follows keyword argument (<ipython-input-88-ad819955684d>, line 1)",
     "output_type": "error",
     "traceback": [
      "\u001b[0;36m  File \u001b[0;32m\"<ipython-input-88-ad819955684d>\"\u001b[0;36m, line \u001b[0;32m1\u001b[0m\n\u001b[0;31m    menu(dessert='ice', 'beef', drink='beer')\u001b[0m\n\u001b[0m                       ^\u001b[0m\n\u001b[0;31mSyntaxError\u001b[0m\u001b[0;31m:\u001b[0m positional argument follows keyword argument\n"
     ]
    }
   ],
   "source": [
    "menu(dessert='ice', 'beef', drink='beer')"
   ]
  },
  {
   "cell_type": "code",
   "execution_count": 89,
   "metadata": {},
   "outputs": [
    {
     "ename": "SyntaxError",
     "evalue": "positional argument follows keyword argument (<ipython-input-89-3b776f49230c>, line 1)",
     "output_type": "error",
     "traceback": [
      "\u001b[0;36m  File \u001b[0;32m\"<ipython-input-89-3b776f49230c>\"\u001b[0;36m, line \u001b[0;32m1\u001b[0m\n\u001b[0;31m    menu(dessert='ice', 'beef', 'beer')\u001b[0m\n\u001b[0m                       ^\u001b[0m\n\u001b[0;31mSyntaxError\u001b[0m\u001b[0;31m:\u001b[0m positional argument follows keyword argument\n"
     ]
    }
   ],
   "source": [
    "menu(dessert='ice', 'beef', 'beer')"
   ]
  },
  {
   "cell_type": "code",
   "execution_count": 90,
   "metadata": {},
   "outputs": [
    {
     "name": "stdout",
     "output_type": "stream",
     "text": [
      "entree =  beef\n",
      "drink =  beer\n",
      "dessert =  ice\n"
     ]
    }
   ],
   "source": [
    "menu('beef', 'beer', dessert='ice')"
   ]
  },
  {
   "cell_type": "code",
   "execution_count": 91,
   "metadata": {},
   "outputs": [],
   "source": [
    "def menu(entree='beef', drink='wine', dessert='ice'):\n",
    "    print('entree = ', entree)\n",
    "    print('drink = ', drink)\n",
    "    print('dessert = ', dessert)"
   ]
  },
  {
   "cell_type": "code",
   "execution_count": 92,
   "metadata": {},
   "outputs": [
    {
     "name": "stdout",
     "output_type": "stream",
     "text": [
      "entree =  beef\n",
      "drink =  wine\n",
      "dessert =  ice\n"
     ]
    }
   ],
   "source": [
    "menu()"
   ]
  },
  {
   "cell_type": "code",
   "execution_count": 93,
   "metadata": {},
   "outputs": [
    {
     "name": "stdout",
     "output_type": "stream",
     "text": [
      "entree =  chicken\n",
      "drink =  wine\n",
      "dessert =  ice\n"
     ]
    }
   ],
   "source": [
    "menu(entree='chicken')"
   ]
  },
  {
   "cell_type": "code",
   "execution_count": 94,
   "metadata": {},
   "outputs": [
    {
     "name": "stdout",
     "output_type": "stream",
     "text": [
      "entree =  beef\n",
      "drink =  beer\n",
      "dessert =  ice\n"
     ]
    }
   ],
   "source": [
    "menu(drink='beer')"
   ]
  },
  {
   "cell_type": "code",
   "execution_count": 95,
   "metadata": {},
   "outputs": [
    {
     "name": "stdout",
     "output_type": "stream",
     "text": [
      "entree =  chicken\n",
      "drink =  wine\n",
      "dessert =  nohting\n"
     ]
    }
   ],
   "source": [
    "menu(entree='chicken', dessert='nohting')"
   ]
  },
  {
   "cell_type": "code",
   "execution_count": 97,
   "metadata": {},
   "outputs": [
    {
     "name": "stdout",
     "output_type": "stream",
     "text": [
      "entree =  chicken\n",
      "drink =  beer\n",
      "dessert =  ice\n"
     ]
    }
   ],
   "source": [
    "menu('chicken', drink='beer')"
   ]
  },
  {
   "cell_type": "markdown",
   "metadata": {},
   "source": [
    "############################################################"
   ]
  },
  {
   "cell_type": "code",
   "execution_count": 98,
   "metadata": {},
   "outputs": [],
   "source": [
    "def test_func(x, l=[]):\n",
    "    l.append(x)\n",
    "    return l"
   ]
  },
  {
   "cell_type": "code",
   "execution_count": 99,
   "metadata": {},
   "outputs": [
    {
     "name": "stdout",
     "output_type": "stream",
     "text": [
      "[1, 2, 3, 100]\n"
     ]
    }
   ],
   "source": [
    "y = [1,2,3]\n",
    "r = test_func(100, y)\n",
    "print(r)"
   ]
  },
  {
   "cell_type": "code",
   "execution_count": 100,
   "metadata": {},
   "outputs": [
    {
     "name": "stdout",
     "output_type": "stream",
     "text": [
      "[1, 2, 3, 200]\n"
     ]
    }
   ],
   "source": [
    "y = [1,2,3]\n",
    "r = test_func(200, y)\n",
    "print(r)"
   ]
  },
  {
   "cell_type": "code",
   "execution_count": 101,
   "metadata": {},
   "outputs": [
    {
     "name": "stdout",
     "output_type": "stream",
     "text": [
      "[100]\n"
     ]
    }
   ],
   "source": [
    "r = test_func(100)\n",
    "print(r)"
   ]
  },
  {
   "cell_type": "code",
   "execution_count": 102,
   "metadata": {},
   "outputs": [
    {
     "name": "stdout",
     "output_type": "stream",
     "text": [
      "[100, 100]\n"
     ]
    }
   ],
   "source": [
    "r = test_func(100)\n",
    "print(r)"
   ]
  },
  {
   "cell_type": "code",
   "execution_count": 103,
   "metadata": {},
   "outputs": [],
   "source": [
    "def test_func(x, l=None):\n",
    "    if l is None:\n",
    "        l = []\n",
    "    l.append(x)\n",
    "    return l"
   ]
  },
  {
   "cell_type": "code",
   "execution_count": 104,
   "metadata": {},
   "outputs": [
    {
     "name": "stdout",
     "output_type": "stream",
     "text": [
      "[100]\n"
     ]
    }
   ],
   "source": [
    "r = test_func(100)\n",
    "print(r)"
   ]
  },
  {
   "cell_type": "code",
   "execution_count": 105,
   "metadata": {},
   "outputs": [
    {
     "name": "stdout",
     "output_type": "stream",
     "text": [
      "[100]\n"
     ]
    }
   ],
   "source": [
    "r = test_func(100)\n",
    "print(r)"
   ]
  },
  {
   "cell_type": "markdown",
   "metadata": {},
   "source": [
    "############################################################"
   ]
  },
  {
   "cell_type": "code",
   "execution_count": 106,
   "metadata": {},
   "outputs": [],
   "source": [
    "def say_something(*args):\n",
    "    print(args)"
   ]
  },
  {
   "cell_type": "code",
   "execution_count": 107,
   "metadata": {},
   "outputs": [
    {
     "name": "stdout",
     "output_type": "stream",
     "text": [
      "('Hi!', 'Mike', 'Nancy')\n"
     ]
    }
   ],
   "source": [
    "say_something('Hi!', 'Mike', 'Nancy')"
   ]
  },
  {
   "cell_type": "code",
   "execution_count": 108,
   "metadata": {},
   "outputs": [],
   "source": [
    "def say_something(*args):\n",
    "    for arg in args:\n",
    "        print(arg)"
   ]
  },
  {
   "cell_type": "code",
   "execution_count": 109,
   "metadata": {},
   "outputs": [
    {
     "name": "stdout",
     "output_type": "stream",
     "text": [
      "Hi!\n",
      "Mike\n",
      "Nancy\n"
     ]
    }
   ],
   "source": [
    "say_something('Hi!', 'Mike', 'Nancy')"
   ]
  },
  {
   "cell_type": "code",
   "execution_count": 110,
   "metadata": {},
   "outputs": [],
   "source": [
    "def say_something(word, *args):\n",
    "    print('word = ', word)\n",
    "    for arg in args:\n",
    "        print(arg)"
   ]
  },
  {
   "cell_type": "code",
   "execution_count": 111,
   "metadata": {},
   "outputs": [
    {
     "name": "stdout",
     "output_type": "stream",
     "text": [
      "word =  Hi!\n",
      "Mike\n",
      "Nancy\n"
     ]
    }
   ],
   "source": [
    "say_something('Hi!', 'Mike', 'Nancy')"
   ]
  },
  {
   "cell_type": "code",
   "execution_count": 112,
   "metadata": {},
   "outputs": [
    {
     "name": "stdout",
     "output_type": "stream",
     "text": [
      "word =  Hi!\n",
      "Mike\n",
      "Nancy\n"
     ]
    }
   ],
   "source": [
    "t = ('Mike', 'Nancy')\n",
    "say_something('Hi!', *t)"
   ]
  },
  {
   "cell_type": "markdown",
   "metadata": {},
   "source": [
    "############################################################"
   ]
  },
  {
   "cell_type": "code",
   "execution_count": 113,
   "metadata": {},
   "outputs": [],
   "source": [
    "def menu(**kwargs):\n",
    "    print(kwargs)"
   ]
  },
  {
   "cell_type": "code",
   "execution_count": 114,
   "metadata": {},
   "outputs": [
    {
     "name": "stdout",
     "output_type": "stream",
     "text": [
      "{'entree': 'beef', 'drink': 'coffee'}\n"
     ]
    }
   ],
   "source": [
    "menu(entree='beef', drink='coffee')"
   ]
  },
  {
   "cell_type": "code",
   "execution_count": 115,
   "metadata": {},
   "outputs": [],
   "source": [
    "def menu(**kwargs):\n",
    "    for k, v in kwargs.items():\n",
    "        print(k, v)"
   ]
  },
  {
   "cell_type": "code",
   "execution_count": 116,
   "metadata": {},
   "outputs": [
    {
     "name": "stdout",
     "output_type": "stream",
     "text": [
      "entree beef\n",
      "drink coffee\n"
     ]
    }
   ],
   "source": [
    "menu(entree='beef', drink='coffee')"
   ]
  },
  {
   "cell_type": "code",
   "execution_count": 117,
   "metadata": {},
   "outputs": [
    {
     "name": "stdout",
     "output_type": "stream",
     "text": [
      "entree beef\n",
      "drink ice coffee\n",
      "dessert ice\n"
     ]
    }
   ],
   "source": [
    "d = {\n",
    "    'entree': 'beef',\n",
    "    'drink': 'ice coffee',\n",
    "    'dessert': 'ice'\n",
    "}\n",
    "menu(**d)"
   ]
  },
  {
   "cell_type": "code",
   "execution_count": 120,
   "metadata": {},
   "outputs": [],
   "source": [
    "def menu(food, *args, **kwargs):\n",
    "    print(food)\n",
    "    print(args)\n",
    "    print(kwargs)"
   ]
  },
  {
   "cell_type": "code",
   "execution_count": 121,
   "metadata": {},
   "outputs": [
    {
     "name": "stdout",
     "output_type": "stream",
     "text": [
      "banana\n",
      "('apple', 'orange')\n",
      "{'entree': 'beef', 'drink': 'coffee'}\n"
     ]
    }
   ],
   "source": [
    "menu('banana', 'apple', 'orange', entree='beef', drink='coffee')"
   ]
  },
  {
   "cell_type": "code",
   "execution_count": 122,
   "metadata": {},
   "outputs": [
    {
     "ename": "SyntaxError",
     "evalue": "invalid syntax (<ipython-input-122-b154e7d764ea>, line 1)",
     "output_type": "error",
     "traceback": [
      "\u001b[0;36m  File \u001b[0;32m\"<ipython-input-122-b154e7d764ea>\"\u001b[0;36m, line \u001b[0;32m1\u001b[0m\n\u001b[0;31m    def menu(food, **kwargs, *args):\u001b[0m\n\u001b[0m                             ^\u001b[0m\n\u001b[0;31mSyntaxError\u001b[0m\u001b[0;31m:\u001b[0m invalid syntax\n"
     ]
    }
   ],
   "source": [
    "def menu(food, **kwargs, *args):\n",
    "    print(food)\n",
    "    print(args)\n",
    "    print(kwargs)"
   ]
  },
  {
   "cell_type": "markdown",
   "metadata": {},
   "source": [
    "# Docstrings"
   ]
  },
  {
   "cell_type": "code",
   "execution_count": 123,
   "metadata": {},
   "outputs": [],
   "source": [
    "def example_func(param1, param2):\n",
    "    \"\"\"Example function with types documented in the docstring.\n",
    "    \n",
    "    Args:\n",
    "            param1 (int): The first parameter.\n",
    "            param2 (str): The second parameter.\n",
    "    Returns:\n",
    "            bool: The return value. True for success, False otherwise.\n",
    "            \n",
    "    \"\"\"\n",
    "    print(param1)\n",
    "    print(param2)\n",
    "    return True"
   ]
  },
  {
   "cell_type": "code",
   "execution_count": 124,
   "metadata": {},
   "outputs": [
    {
     "data": {
      "text/plain": [
       "'Example function with types documented in the docstring.\\n    \\n    Args:\\n            param1 (int): The first parameter.\\n            param2 (str): The second parameter.\\n    Returns:\\n            bool: The return value. True for success, False otherwise.\\n            \\n    '"
      ]
     },
     "execution_count": 124,
     "metadata": {},
     "output_type": "execute_result"
    }
   ],
   "source": [
    "example_func.__doc__"
   ]
  },
  {
   "cell_type": "code",
   "execution_count": 125,
   "metadata": {},
   "outputs": [
    {
     "name": "stdout",
     "output_type": "stream",
     "text": [
      "Example function with types documented in the docstring.\n",
      "    \n",
      "    Args:\n",
      "            param1 (int): The first parameter.\n",
      "            param2 (str): The second parameter.\n",
      "    Returns:\n",
      "            bool: The return value. True for success, False otherwise.\n",
      "            \n",
      "    \n"
     ]
    }
   ],
   "source": [
    "print(example_func.__doc__)"
   ]
  },
  {
   "cell_type": "markdown",
   "metadata": {},
   "source": [
    "# Closure"
   ]
  },
  {
   "cell_type": "code",
   "execution_count": 126,
   "metadata": {},
   "outputs": [],
   "source": [
    "def outer(a, b):\n",
    "    \n",
    "    def inner():\n",
    "        return a + b\n",
    "    \n",
    "    return inner"
   ]
  },
  {
   "cell_type": "code",
   "execution_count": 127,
   "metadata": {},
   "outputs": [
    {
     "name": "stdout",
     "output_type": "stream",
     "text": [
      "<function outer.<locals>.inner at 0x109ff5d08>\n"
     ]
    }
   ],
   "source": [
    "print(outer(1, 2))"
   ]
  },
  {
   "cell_type": "code",
   "execution_count": 128,
   "metadata": {},
   "outputs": [],
   "source": [
    "f = outer(1, 2)\n",
    "r = f()"
   ]
  },
  {
   "cell_type": "code",
   "execution_count": 129,
   "metadata": {},
   "outputs": [
    {
     "data": {
      "text/plain": [
       "3"
      ]
     },
     "execution_count": 129,
     "metadata": {},
     "output_type": "execute_result"
    }
   ],
   "source": [
    "r"
   ]
  },
  {
   "cell_type": "code",
   "execution_count": 130,
   "metadata": {},
   "outputs": [],
   "source": [
    "def circle_area_func(pi):\n",
    "    def circle_area(radius):\n",
    "        return pi * radius * radius\n",
    "    \n",
    "    return circle_area"
   ]
  },
  {
   "cell_type": "code",
   "execution_count": 131,
   "metadata": {},
   "outputs": [],
   "source": [
    "ca1 = circle_area_func(3.14)\n",
    "ca2 = circle_area_func(3.141592)"
   ]
  },
  {
   "cell_type": "code",
   "execution_count": 132,
   "metadata": {},
   "outputs": [
    {
     "data": {
      "text/plain": [
       "314.0"
      ]
     },
     "execution_count": 132,
     "metadata": {},
     "output_type": "execute_result"
    }
   ],
   "source": [
    "ca1(10)"
   ]
  },
  {
   "cell_type": "code",
   "execution_count": 133,
   "metadata": {},
   "outputs": [
    {
     "data": {
      "text/plain": [
       "314.1592"
      ]
     },
     "execution_count": 133,
     "metadata": {},
     "output_type": "execute_result"
    }
   ],
   "source": [
    "ca2(10)"
   ]
  },
  {
   "cell_type": "markdown",
   "metadata": {},
   "source": [
    "# Decorator"
   ]
  },
  {
   "cell_type": "code",
   "execution_count": 134,
   "metadata": {},
   "outputs": [],
   "source": [
    "def print_info(func):\n",
    "    def wrapper(*args, **kwargs):\n",
    "        print('start')\n",
    "        result = func(*args, **kwargs)\n",
    "        print('end')\n",
    "        return result\n",
    "    return wrapper\n",
    "\n",
    "def add_num(a, b):\n",
    "    return a + b"
   ]
  },
  {
   "cell_type": "code",
   "execution_count": 135,
   "metadata": {},
   "outputs": [
    {
     "name": "stdout",
     "output_type": "stream",
     "text": [
      "start\n",
      "end\n",
      "30\n"
     ]
    }
   ],
   "source": [
    "f = print_info(add_num)\n",
    "r = f(10, 20)\n",
    "print(r)"
   ]
  },
  {
   "cell_type": "code",
   "execution_count": 136,
   "metadata": {},
   "outputs": [],
   "source": [
    "def print_info(func):\n",
    "    def wrapper(*args, **kwargs):\n",
    "        print('start')\n",
    "        result = func(*args, **kwargs)\n",
    "        print('end')\n",
    "        return result\n",
    "    return wrapper\n",
    "\n",
    "@print_info\n",
    "def add_num(a, b):\n",
    "    return a + b"
   ]
  },
  {
   "cell_type": "code",
   "execution_count": 137,
   "metadata": {},
   "outputs": [
    {
     "name": "stdout",
     "output_type": "stream",
     "text": [
      "start\n",
      "end\n",
      "30\n"
     ]
    }
   ],
   "source": [
    "r = add_num(10, 20)\n",
    "print(r)"
   ]
  },
  {
   "cell_type": "code",
   "execution_count": 138,
   "metadata": {},
   "outputs": [],
   "source": [
    "@print_info\n",
    "def sub_num(a, b):\n",
    "    return a - b"
   ]
  },
  {
   "cell_type": "code",
   "execution_count": 146,
   "metadata": {},
   "outputs": [
    {
     "name": "stdout",
     "output_type": "stream",
     "text": [
      "start\n",
      "end\n"
     ]
    }
   ],
   "source": [
    "r = sub_num(50, 30)"
   ]
  },
  {
   "cell_type": "code",
   "execution_count": 147,
   "metadata": {},
   "outputs": [
    {
     "name": "stdout",
     "output_type": "stream",
     "text": [
      "20\n"
     ]
    }
   ],
   "source": [
    "print(r)"
   ]
  },
  {
   "cell_type": "code",
   "execution_count": 148,
   "metadata": {},
   "outputs": [
    {
     "data": {
      "text/plain": [
       "20"
      ]
     },
     "execution_count": 148,
     "metadata": {},
     "output_type": "execute_result"
    }
   ],
   "source": [
    "r"
   ]
  },
  {
   "cell_type": "code",
   "execution_count": 149,
   "metadata": {},
   "outputs": [
    {
     "name": "stdout",
     "output_type": "stream",
     "text": [
      "start\n",
      "end\n",
      "20\n"
     ]
    }
   ],
   "source": [
    "r = sub_num(50, 30)\n",
    "print(r)"
   ]
  },
  {
   "cell_type": "code",
   "execution_count": 150,
   "metadata": {},
   "outputs": [
    {
     "name": "stdout",
     "output_type": "stream",
     "text": [
      "20\n"
     ]
    }
   ],
   "source": [
    "print(r)"
   ]
  },
  {
   "cell_type": "code",
   "execution_count": 151,
   "metadata": {},
   "outputs": [
    {
     "data": {
      "text/plain": [
       "20"
      ]
     },
     "execution_count": 151,
     "metadata": {},
     "output_type": "execute_result"
    }
   ],
   "source": [
    "r"
   ]
  },
  {
   "cell_type": "code",
   "execution_count": 152,
   "metadata": {},
   "outputs": [],
   "source": [
    "def print_more(func):\n",
    "    def wrapper(*args, **kwargs):\n",
    "        print('func:', func.__name__)\n",
    "        print('args:', args)\n",
    "        print('kwargs:', kwargs)\n",
    "        result = func(*args, **kwargs)\n",
    "        print('result:', result)\n",
    "        return result\n",
    "    return wrapper"
   ]
  },
  {
   "cell_type": "code",
   "execution_count": 153,
   "metadata": {},
   "outputs": [],
   "source": [
    "@print_more\n",
    "def add_num(a, b):\n",
    "    return a + b"
   ]
  },
  {
   "cell_type": "code",
   "execution_count": 154,
   "metadata": {},
   "outputs": [
    {
     "name": "stdout",
     "output_type": "stream",
     "text": [
      "func: add_num\n",
      "args: (10, 20)\n",
      "kwargs: {}\n",
      "result: 30\n",
      "30\n"
     ]
    }
   ],
   "source": [
    "r = add_num(10, 20)\n",
    "print(r)"
   ]
  },
  {
   "cell_type": "code",
   "execution_count": 155,
   "metadata": {},
   "outputs": [],
   "source": [
    "@print_info\n",
    "@print_more\n",
    "def add_num(a, b):\n",
    "    return a + b"
   ]
  },
  {
   "cell_type": "code",
   "execution_count": 157,
   "metadata": {},
   "outputs": [
    {
     "name": "stdout",
     "output_type": "stream",
     "text": [
      "start\n",
      "func: add_num\n",
      "args: (10, 20)\n",
      "kwargs: {}\n",
      "result: 30\n",
      "end\n",
      "30\n"
     ]
    }
   ],
   "source": [
    "r = add_num(10, 20)\n",
    "print(r)"
   ]
  },
  {
   "cell_type": "code",
   "execution_count": 158,
   "metadata": {},
   "outputs": [],
   "source": [
    "@print_more\n",
    "@print_info\n",
    "def add_num(a, b):\n",
    "    return a + b"
   ]
  },
  {
   "cell_type": "code",
   "execution_count": 159,
   "metadata": {},
   "outputs": [
    {
     "name": "stdout",
     "output_type": "stream",
     "text": [
      "func: wrapper\n",
      "args: (10, 20)\n",
      "kwargs: {}\n",
      "start\n",
      "end\n",
      "result: 30\n",
      "30\n"
     ]
    }
   ],
   "source": [
    "r = add_num(10, 20)\n",
    "print(r)"
   ]
  },
  {
   "cell_type": "markdown",
   "metadata": {},
   "source": [
    "# Lambda"
   ]
  },
  {
   "cell_type": "code",
   "execution_count": 160,
   "metadata": {},
   "outputs": [],
   "source": [
    "l = ['Mon', 'tue', 'Wed', 'Thu', 'fri', 'sat', 'Sun']"
   ]
  },
  {
   "cell_type": "code",
   "execution_count": 161,
   "metadata": {},
   "outputs": [],
   "source": [
    "def change_words(words, func):\n",
    "    for word in words:\n",
    "        print(func(word))\n",
    "\n",
    "def sample_func(word):\n",
    "    return word.capitalize()"
   ]
  },
  {
   "cell_type": "code",
   "execution_count": 162,
   "metadata": {},
   "outputs": [
    {
     "name": "stdout",
     "output_type": "stream",
     "text": [
      "Mon\n",
      "Tue\n",
      "Wed\n",
      "Thu\n",
      "Fri\n",
      "Sat\n",
      "Sun\n"
     ]
    }
   ],
   "source": [
    "change_words(l, sample_func)"
   ]
  },
  {
   "cell_type": "code",
   "execution_count": 164,
   "metadata": {},
   "outputs": [],
   "source": [
    "sample_func = lambda word: word.capitalize()"
   ]
  },
  {
   "cell_type": "code",
   "execution_count": 165,
   "metadata": {},
   "outputs": [
    {
     "name": "stdout",
     "output_type": "stream",
     "text": [
      "Mon\n",
      "Tue\n",
      "Wed\n",
      "Thu\n",
      "Fri\n",
      "Sat\n",
      "Sun\n"
     ]
    }
   ],
   "source": [
    "change_words(l, sample_func)"
   ]
  },
  {
   "cell_type": "code",
   "execution_count": 166,
   "metadata": {},
   "outputs": [
    {
     "name": "stdout",
     "output_type": "stream",
     "text": [
      "Mon\n",
      "Tue\n",
      "Wed\n",
      "Thu\n",
      "Fri\n",
      "Sat\n",
      "Sun\n"
     ]
    }
   ],
   "source": [
    "change_words(l, lambda word: word.capitalize())"
   ]
  },
  {
   "cell_type": "code",
   "execution_count": 167,
   "metadata": {},
   "outputs": [
    {
     "name": "stdout",
     "output_type": "stream",
     "text": [
      "mon\n",
      "tue\n",
      "wed\n",
      "thu\n",
      "fri\n",
      "sat\n",
      "sun\n"
     ]
    }
   ],
   "source": [
    "change_words(l, lambda word: word.lower())"
   ]
  },
  {
   "cell_type": "markdown",
   "metadata": {},
   "source": [
    "# Generator"
   ]
  },
  {
   "cell_type": "code",
   "execution_count": 168,
   "metadata": {},
   "outputs": [],
   "source": [
    "l = ['Good morning', 'Good afternoon', 'Good night']"
   ]
  },
  {
   "cell_type": "code",
   "execution_count": 169,
   "metadata": {},
   "outputs": [
    {
     "name": "stdout",
     "output_type": "stream",
     "text": [
      "Good morning\n",
      "Good afternoon\n",
      "Good night\n"
     ]
    }
   ],
   "source": [
    "for i in l:\n",
    "    print(i)"
   ]
  },
  {
   "cell_type": "code",
   "execution_count": 170,
   "metadata": {},
   "outputs": [],
   "source": [
    "def greeting():\n",
    "    yield 'Good morning'\n",
    "    yield 'Good afternoon'\n",
    "    yield 'Good night'"
   ]
  },
  {
   "cell_type": "code",
   "execution_count": 171,
   "metadata": {},
   "outputs": [
    {
     "name": "stdout",
     "output_type": "stream",
     "text": [
      "Good morning\n",
      "Good afternoon\n",
      "Good night\n"
     ]
    }
   ],
   "source": [
    "for g in greeting():\n",
    "    print(g)"
   ]
  },
  {
   "cell_type": "code",
   "execution_count": 172,
   "metadata": {},
   "outputs": [],
   "source": [
    "g = greeting()"
   ]
  },
  {
   "cell_type": "code",
   "execution_count": 173,
   "metadata": {},
   "outputs": [
    {
     "data": {
      "text/plain": [
       "'Good morning'"
      ]
     },
     "execution_count": 173,
     "metadata": {},
     "output_type": "execute_result"
    }
   ],
   "source": [
    "next(g)"
   ]
  },
  {
   "cell_type": "code",
   "execution_count": 174,
   "metadata": {},
   "outputs": [
    {
     "data": {
      "text/plain": [
       "'Good afternoon'"
      ]
     },
     "execution_count": 174,
     "metadata": {},
     "output_type": "execute_result"
    }
   ],
   "source": [
    "next(g)"
   ]
  },
  {
   "cell_type": "code",
   "execution_count": 175,
   "metadata": {},
   "outputs": [
    {
     "data": {
      "text/plain": [
       "'Good night'"
      ]
     },
     "execution_count": 175,
     "metadata": {},
     "output_type": "execute_result"
    }
   ],
   "source": [
    "next(g)"
   ]
  },
  {
   "cell_type": "code",
   "execution_count": 176,
   "metadata": {},
   "outputs": [
    {
     "ename": "StopIteration",
     "evalue": "",
     "output_type": "error",
     "traceback": [
      "\u001b[0;31m---------------------------------------------------------------------------\u001b[0m",
      "\u001b[0;31mStopIteration\u001b[0m                             Traceback (most recent call last)",
      "\u001b[0;32m<ipython-input-176-e734f8aca5ac>\u001b[0m in \u001b[0;36m<module>\u001b[0;34m()\u001b[0m\n\u001b[0;32m----> 1\u001b[0;31m \u001b[0mnext\u001b[0m\u001b[0;34m(\u001b[0m\u001b[0mg\u001b[0m\u001b[0;34m)\u001b[0m\u001b[0;34m\u001b[0m\u001b[0m\n\u001b[0m",
      "\u001b[0;31mStopIteration\u001b[0m: "
     ]
    }
   ],
   "source": [
    "next(g)"
   ]
  },
  {
   "cell_type": "code",
   "execution_count": 177,
   "metadata": {},
   "outputs": [],
   "source": [
    "def counter(num=10):\n",
    "    for _ in range(num):\n",
    "        yield 'run'"
   ]
  },
  {
   "cell_type": "code",
   "execution_count": 178,
   "metadata": {},
   "outputs": [
    {
     "name": "stdout",
     "output_type": "stream",
     "text": [
      "Good morning\n",
      "run\n",
      "run\n",
      "run\n",
      "run\n",
      "run\n",
      "Good afternoon\n",
      "run\n",
      "run\n",
      "run\n",
      "run\n",
      "run\n",
      "Good night\n"
     ]
    }
   ],
   "source": [
    "g = greeting()\n",
    "c = counter()\n",
    "\n",
    "print(next(g))\n",
    "\n",
    "print(next(c))\n",
    "print(next(c))\n",
    "print(next(c))\n",
    "print(next(c))\n",
    "print(next(c))\n",
    "\n",
    "print(next(g))\n",
    "\n",
    "print(next(c))\n",
    "print(next(c))\n",
    "print(next(c))\n",
    "print(next(c))\n",
    "print(next(c))\n",
    "\n",
    "print(next(g))"
   ]
  },
  {
   "cell_type": "markdown",
   "metadata": {},
   "source": [
    "# List Comprehension"
   ]
  },
  {
   "cell_type": "code",
   "execution_count": 179,
   "metadata": {},
   "outputs": [
    {
     "name": "stdout",
     "output_type": "stream",
     "text": [
      "[1, 2, 3, 4, 5]\n"
     ]
    }
   ],
   "source": [
    "t = (1,2,3,4,5)\n",
    "\n",
    "r = []\n",
    "for i in t:\n",
    "    r.append(i)\n",
    "\n",
    "print(r)"
   ]
  },
  {
   "cell_type": "code",
   "execution_count": 183,
   "metadata": {},
   "outputs": [
    {
     "name": "stdout",
     "output_type": "stream",
     "text": [
      "[1, 2, 3, 4, 5]\n"
     ]
    }
   ],
   "source": [
    "r = [i for i in t]\n",
    "print(r)"
   ]
  },
  {
   "cell_type": "code",
   "execution_count": 181,
   "metadata": {},
   "outputs": [
    {
     "name": "stdout",
     "output_type": "stream",
     "text": [
      "[2, 4]\n"
     ]
    }
   ],
   "source": [
    "r = []\n",
    "for i in t:\n",
    "    if i % 2 ==0:\n",
    "        r.append(i)\n",
    "\n",
    "print(r)"
   ]
  },
  {
   "cell_type": "code",
   "execution_count": 184,
   "metadata": {},
   "outputs": [
    {
     "name": "stdout",
     "output_type": "stream",
     "text": [
      "[2, 4]\n"
     ]
    }
   ],
   "source": [
    "r = [i for i in t if i % 2 == 0]\n",
    "print(r)"
   ]
  },
  {
   "cell_type": "code",
   "execution_count": 185,
   "metadata": {},
   "outputs": [
    {
     "name": "stdout",
     "output_type": "stream",
     "text": [
      "[5, 6, 7, 8, 9, 10, 10, 12, 14, 16, 18, 20, 15, 18, 21, 24, 27, 30, 20, 24, 28, 32, 36, 40, 25, 30, 35, 40, 45, 50]\n"
     ]
    }
   ],
   "source": [
    "t2 = (5,6,7,8,9,10)\n",
    "\n",
    "r = []\n",
    "for i in t:\n",
    "    for j in t2:\n",
    "        r.append(i * j)\n",
    "\n",
    "print(r)"
   ]
  },
  {
   "cell_type": "code",
   "execution_count": 187,
   "metadata": {},
   "outputs": [
    {
     "name": "stdout",
     "output_type": "stream",
     "text": [
      "[5, 6, 7, 8, 9, 10, 10, 12, 14, 16, 18, 20, 15, 18, 21, 24, 27, 30, 20, 24, 28, 32, 36, 40, 25, 30, 35, 40, 45, 50]\n"
     ]
    }
   ],
   "source": [
    "r = [i * j for i in t for j in t2]\n",
    "print(r)"
   ]
  },
  {
   "cell_type": "markdown",
   "metadata": {},
   "source": [
    "# Dictionary Comprehension"
   ]
  },
  {
   "cell_type": "code",
   "execution_count": 188,
   "metadata": {},
   "outputs": [],
   "source": [
    "w = {'mon', 'tue', 'wed'}\n",
    "f = {'coffee', 'milk', 'water'}"
   ]
  },
  {
   "cell_type": "code",
   "execution_count": 189,
   "metadata": {},
   "outputs": [],
   "source": [
    "d = {}\n",
    "for x, y in zip(w, f):\n",
    "    d[x] = y"
   ]
  },
  {
   "cell_type": "code",
   "execution_count": 190,
   "metadata": {},
   "outputs": [
    {
     "name": "stdout",
     "output_type": "stream",
     "text": [
      "{'mon': 'milk', 'tue': 'coffee', 'wed': 'water'}\n"
     ]
    }
   ],
   "source": [
    "print(d)"
   ]
  },
  {
   "cell_type": "code",
   "execution_count": 191,
   "metadata": {},
   "outputs": [
    {
     "name": "stdout",
     "output_type": "stream",
     "text": [
      "{'mon': 'milk', 'tue': 'coffee', 'wed': 'water'}\n"
     ]
    }
   ],
   "source": [
    "d = {x: y for x ,y in zip(w, f)}\n",
    "print(d)"
   ]
  },
  {
   "cell_type": "markdown",
   "metadata": {},
   "source": [
    "# Set Comprehension"
   ]
  },
  {
   "cell_type": "code",
   "execution_count": 193,
   "metadata": {},
   "outputs": [
    {
     "name": "stdout",
     "output_type": "stream",
     "text": [
      "{0, 1, 2, 3, 4, 5, 6, 7, 8, 9}\n"
     ]
    }
   ],
   "source": [
    "s = {i for i in range(10)}\n",
    "print(s)"
   ]
  },
  {
   "cell_type": "code",
   "execution_count": 196,
   "metadata": {},
   "outputs": [
    {
     "name": "stdout",
     "output_type": "stream",
     "text": [
      "{0, 2, 4, 6, 8}\n"
     ]
    }
   ],
   "source": [
    "s = {i for i in range(10) if i % 2 == 0}\n",
    "print(s)"
   ]
  },
  {
   "cell_type": "markdown",
   "metadata": {},
   "source": [
    "# Generator Comprehension"
   ]
  },
  {
   "cell_type": "code",
   "execution_count": 197,
   "metadata": {},
   "outputs": [],
   "source": [
    "def g():\n",
    "    for i in range(10):\n",
    "        yield i"
   ]
  },
  {
   "cell_type": "code",
   "execution_count": 198,
   "metadata": {},
   "outputs": [
    {
     "data": {
      "text/plain": [
       "generator"
      ]
     },
     "execution_count": 198,
     "metadata": {},
     "output_type": "execute_result"
    }
   ],
   "source": [
    "g = g()\n",
    "type(g)"
   ]
  },
  {
   "cell_type": "code",
   "execution_count": 199,
   "metadata": {},
   "outputs": [
    {
     "name": "stdout",
     "output_type": "stream",
     "text": [
      "0\n"
     ]
    }
   ],
   "source": [
    "print(next(g))"
   ]
  },
  {
   "cell_type": "code",
   "execution_count": 200,
   "metadata": {},
   "outputs": [
    {
     "name": "stdout",
     "output_type": "stream",
     "text": [
      "1\n",
      "2\n",
      "3\n",
      "4\n"
     ]
    }
   ],
   "source": [
    "print(next(g))\n",
    "print(next(g))\n",
    "print(next(g))\n",
    "print(next(g))"
   ]
  },
  {
   "cell_type": "code",
   "execution_count": 201,
   "metadata": {},
   "outputs": [],
   "source": [
    "g = (i for i in range(10))"
   ]
  },
  {
   "cell_type": "code",
   "execution_count": 202,
   "metadata": {},
   "outputs": [
    {
     "name": "stdout",
     "output_type": "stream",
     "text": [
      "0\n",
      "1\n",
      "2\n",
      "3\n"
     ]
    }
   ],
   "source": [
    "print(next(g))\n",
    "print(next(g))\n",
    "print(next(g))\n",
    "print(next(g))"
   ]
  },
  {
   "cell_type": "code",
   "execution_count": 203,
   "metadata": {},
   "outputs": [
    {
     "data": {
      "text/plain": [
       "generator"
      ]
     },
     "execution_count": 203,
     "metadata": {},
     "output_type": "execute_result"
    }
   ],
   "source": [
    "type(g)"
   ]
  },
  {
   "cell_type": "code",
   "execution_count": 204,
   "metadata": {},
   "outputs": [],
   "source": [
    "g = (i for i in range(10) if i % 2 == 0)"
   ]
  },
  {
   "cell_type": "code",
   "execution_count": 205,
   "metadata": {},
   "outputs": [
    {
     "name": "stdout",
     "output_type": "stream",
     "text": [
      "0\n",
      "2\n",
      "4\n",
      "6\n"
     ]
    }
   ],
   "source": [
    "print(next(g))\n",
    "print(next(g))\n",
    "print(next(g))\n",
    "print(next(g))"
   ]
  },
  {
   "cell_type": "markdown",
   "metadata": {},
   "source": [
    "# Tuple Comprehension"
   ]
  },
  {
   "cell_type": "code",
   "execution_count": 206,
   "metadata": {},
   "outputs": [
    {
     "name": "stdout",
     "output_type": "stream",
     "text": [
      "<class 'tuple'>\n",
      "(0, 1, 2, 3, 4, 5, 6, 7, 8, 9)\n"
     ]
    }
   ],
   "source": [
    "t = tuple(i for i in range(10))\n",
    "print(type(t))\n",
    "print(t)"
   ]
  },
  {
   "cell_type": "markdown",
   "metadata": {},
   "source": [
    "# Name space, Scope"
   ]
  },
  {
   "cell_type": "code",
   "execution_count": 207,
   "metadata": {},
   "outputs": [],
   "source": [
    "animal = 'cat'\n",
    "\n",
    "def f():\n",
    "    print(animal)"
   ]
  },
  {
   "cell_type": "code",
   "execution_count": 208,
   "metadata": {},
   "outputs": [
    {
     "name": "stdout",
     "output_type": "stream",
     "text": [
      "cat\n"
     ]
    }
   ],
   "source": [
    "f()"
   ]
  },
  {
   "cell_type": "code",
   "execution_count": 211,
   "metadata": {},
   "outputs": [],
   "source": [
    "animal = 'cat'\n",
    "\n",
    "def f():\n",
    "    animal = 'dog'\n",
    "    print('local: ', animal)"
   ]
  },
  {
   "cell_type": "code",
   "execution_count": 215,
   "metadata": {},
   "outputs": [
    {
     "name": "stdout",
     "output_type": "stream",
     "text": [
      "local:  dog\n",
      "global:  cat\n"
     ]
    }
   ],
   "source": [
    "f()\n",
    "print('global: ', animal)"
   ]
  },
  {
   "cell_type": "code",
   "execution_count": 216,
   "metadata": {},
   "outputs": [],
   "source": [
    "animal = 'cat'\n",
    "\n",
    "def f():\n",
    "    print(animal)\n",
    "    animal = 'dog'\n",
    "    print('local: ', animal)"
   ]
  },
  {
   "cell_type": "code",
   "execution_count": 217,
   "metadata": {},
   "outputs": [
    {
     "ename": "UnboundLocalError",
     "evalue": "local variable 'animal' referenced before assignment",
     "output_type": "error",
     "traceback": [
      "\u001b[0;31m---------------------------------------------------------------------------\u001b[0m",
      "\u001b[0;31mUnboundLocalError\u001b[0m                         Traceback (most recent call last)",
      "\u001b[0;32m<ipython-input-217-c43e34e6d405>\u001b[0m in \u001b[0;36m<module>\u001b[0;34m()\u001b[0m\n\u001b[0;32m----> 1\u001b[0;31m \u001b[0mf\u001b[0m\u001b[0;34m(\u001b[0m\u001b[0;34m)\u001b[0m\u001b[0;34m\u001b[0m\u001b[0m\n\u001b[0m",
      "\u001b[0;32m<ipython-input-216-660f4d4fe72c>\u001b[0m in \u001b[0;36mf\u001b[0;34m()\u001b[0m\n\u001b[1;32m      2\u001b[0m \u001b[0;34m\u001b[0m\u001b[0m\n\u001b[1;32m      3\u001b[0m \u001b[0;32mdef\u001b[0m \u001b[0mf\u001b[0m\u001b[0;34m(\u001b[0m\u001b[0;34m)\u001b[0m\u001b[0;34m:\u001b[0m\u001b[0;34m\u001b[0m\u001b[0m\n\u001b[0;32m----> 4\u001b[0;31m     \u001b[0mprint\u001b[0m\u001b[0;34m(\u001b[0m\u001b[0manimal\u001b[0m\u001b[0;34m)\u001b[0m\u001b[0;34m\u001b[0m\u001b[0m\n\u001b[0m\u001b[1;32m      5\u001b[0m     \u001b[0manimal\u001b[0m \u001b[0;34m=\u001b[0m \u001b[0;34m'dog'\u001b[0m\u001b[0;34m\u001b[0m\u001b[0m\n\u001b[1;32m      6\u001b[0m     \u001b[0mprint\u001b[0m\u001b[0;34m(\u001b[0m\u001b[0;34m'local: '\u001b[0m\u001b[0;34m,\u001b[0m \u001b[0manimal\u001b[0m\u001b[0;34m)\u001b[0m\u001b[0;34m\u001b[0m\u001b[0m\n",
      "\u001b[0;31mUnboundLocalError\u001b[0m: local variable 'animal' referenced before assignment"
     ]
    }
   ],
   "source": [
    "f()"
   ]
  },
  {
   "cell_type": "code",
   "execution_count": 218,
   "metadata": {},
   "outputs": [
    {
     "name": "stdout",
     "output_type": "stream",
     "text": [
      "local:  dog\n",
      "global:  dog\n"
     ]
    }
   ],
   "source": [
    "animal = 'cat'\n",
    "\n",
    "def f():\n",
    "    global animal\n",
    "    animal = 'dog'\n",
    "    print('local: ', animal)\n",
    "    \n",
    "f()\n",
    "print('global: ', animal)"
   ]
  },
  {
   "cell_type": "code",
   "execution_count": 219,
   "metadata": {},
   "outputs": [
    {
     "name": "stdout",
     "output_type": "stream",
     "text": [
      "local:  {'animal': 'dog'}\n",
      "global:  cat\n"
     ]
    }
   ],
   "source": [
    "animal = 'cat'\n",
    "\n",
    "def f():\n",
    "    animal = 'dog'\n",
    "    print('local: ', locals())\n",
    "    \n",
    "f()\n",
    "print('global: ', animal)"
   ]
  },
  {
   "cell_type": "code",
   "execution_count": 220,
   "metadata": {},
   "outputs": [
    {
     "name": "stdout",
     "output_type": "stream",
     "text": [
      "local:  {'animal': 'dog'}\n",
      "global:  {'__name__': '__main__', '__doc__': '\\ntest\\ntest\\ntest\\ntest\\n', '__package__': None, '__loader__': None, '__spec__': None, '__builtin__': <module 'builtins' (built-in)>, '__builtins__': <module 'builtins' (built-in)>, '_ih': ['', \"print('XXXX')\", \"print('XXXX')\\nprint('XXXX')\", \"print('XXXX')\\n# test\\nprint('XXXX')\", 'print(\\'XXXX\\')\\n\"\"\"\\ntest\\ntest\\ntest\\ntest\\n\"\"\"\\nprint(\\'XXXX\\')', '# Apple price\\nsample_value = 100', 'sample_value', 'sample_value = 200 # Apple price', 'sample_value', \"s = 'aaaaaaaaaaaaaaaaaaaaaaa' + 'bbbbbbbbbbbbbbbbbbbbbbbbb'\", 's', \"s = 'xxxxxxxxxxxxxxxxxxxxxxxxxxxxxxxx'\\n       + 'yyyyyyyyyyyyyyyyyyyyyyyyyyyyyyyyyyyyyy'\", \"s = 'xxxxxxxxxxxxxxxxxxxxxxxxxxxxxxxx'        + 'yyyyyyyyyyyyyyyyyyyyyyyyyyyyyyyyyyyyyy'\", 's', \"s = ('xxxxxxxxxxxxxxxxxxxxxxxxxxxxxxxx' \\n       + 'yyyyyyyyyyyyyyyyyyyyyyyyyyyyyyyyyyyyyy')\", 's', \"x = 10\\n\\nif x < 0:\\n    print('negative')\\nelif x == 0:\\n    print('zero')\\nelif x == 10:\\n    print('1000000000000000000000')\\nelif x == 10:\\n    print('10')\\nelse: \\n    print('positive')\", \"is_ok = True\\n\\nif is_ok:\\n    print('OK!')\", \"is_ok = 1\\n\\nif is_ok:\\n    print('OK!')\", \"is_ok = 0\\n\\nif is_ok:\\n    print('OK!')\\nelse:\\n    print('NO!')\", 'is_ok = \"\"\\n\\nif is_ok:\\n    print(\\'OK!\\')\\nelse:\\n    print(\\'NO!\\')', 'is_ok = \"abcdef\"\\n\\nif is_ok:\\n    print(\\'OK!\\')\\nelse:\\n    print(\\'NO!\\')', \"is_ok = []\\n\\nif is_ok:\\n    print('OK!')\\nelse:\\n    print('NO!')\", \"is_ok = [1,2,3,4]\\n\\nif is_ok:\\n    print('OK!')\\nelse:\\n    print('NO!')\", 'is_empty = None', 'is_empty', 'type(is_empty)', 'help(None)', \"if is_empty == None:\\n    print('None!!!')\", \"if is_empty is None:\\n    print('None!!!')\", '1 == true', '1 == True', '1 is True', 'True is True', 'None is None', \"count = 0\\n\\nwhile count < 5:\\n    print(count)\\n    count += 1\\nelse:\\n    print('done')\", \"count = 0\\n\\nwhile count < 5:\\n    if count == 1:\\n        break\\n    print(count)\\n    count += 1\\nelse:\\n    print('done')\", \"while True:\\n    word = input('Enter: ')\\n    if word == 'ok':\\n        break\\n    print('next')\", \"while True:\\n    word = input('Enter: ')\\n    if word == 'ok':\\n        break\\n    print('next')\", \"while True:\\n    word = input('Enter: ')\\n    num = int(word)\\n    if num == 100:\\n        break\\n    print('next')\", \"while True:\\n    word = input('Enter: ')\\n    num = int(word)\\n    if num == 100:\\n        break\\n    print('next')\", 'some_list = [1,2,3,4,5]', 'for i in some_list:\\n    print(i)', \"for s in 'abcdef':\\n    print(sep=)\", \"for s in 'abcdef':\\n    print(s)\", \"for word in ['My', 'name', 'is', 'Mike']:\\n    print(word)\", \"for word in ['My', 'name', 'is', 'Mike']:\\n    if word == 'name':\\n        break\\n    print(word)\", \"for word in ['My', 'name', 'is', 'Mike']:\\n    if word == 'name':\\n        continue\\n    print(word)\", \"for fruit in ['apple', 'banana', 'orange']:\\n    print(fruit)\\nelse:\\n    print('I ate all!')\", \"for fruit in ['apple', 'banana', 'orange']:\\n    if fruit == 'banana':\\n        print('stop eating')\\n        break\\n    print(fruit)\\nelse:\\n    print('I ate all!')\", 'for i in range(10):\\n    print(i)', 'for i in range(2, 10):\\n    print(i)', 'for i in range(2, 10, 3):\\n    print(i)', \"for i in range(10):\\n    print('hello')\", \"for i in range(10):\\n    print(i, 'hello')\", \"for _ in range(10):\\n    print('hello')\", \"for i, fruit in enumerate(['apple', 'banana', 'orange']):\\n    print(i, fruit)\", \"for fruit, i in enumerate(['apple', 'banana', 'orange']):\\n    print(i, fruit)\", \"days = ['Mon', 'Tue', 'Wed']\\nfruits = ['apple', 'banana', 'orange']\\ndrinks = ['coffee', 'tea', 'beer']\\n\\nfor day, fruit, drink in zip(days, fruits, drinks):\\n    print(day, fruit, drink)\", \"d = {'x': 100, 'y': 200}\", 'for v in d:', 'for v in d:\\n    print(vars)', 'for v in d:\\n    print(v)', \"for k, v in d.items():\\n    print(k, ':', v)\", 'd.items', 'd.items()', \"days = ['Mon', 'Tue', 'Wed']\\nfruits = ['apple', 'banana', 'orange']\\ndrinks = ['coffee', 'tea', 'beer']\\n\\nfor day, fruit, drink in zip(days, fruits, drinks):\\n    print(day, fruit, drink)\", 'zip(days, fruits, drinks)', \"def say_something():\\n    print('hello')\", 'say_something', 'say_something()', \"say_hi()\\ndef say_hi():\\n    print('hi')\", 'type(say_something)', 'F = say_something', 'F()', \"def say_something():\\n    return 'hello'\", 'result = say_something()', 'result', 'def what_is_this(color):\\n    if color == \\'red\\':\\n        return \\'tomato\\'\\n    elif color == \\'green\\':\\n        return \\'green pepper\\'\\n    else:\\n        return \"I don\\'t know\"', \"result = what_is_this('red')\", 'result', \"result = what_is_this('green')\", 'result', \"result = what_is_this('yellow')\", 'result', \"def menu(entree, drink, dessert):\\n    print('entree = ', entree)\\n    print('drink = ', drink)\\n    print('dessert = ', dessert)\", \"menu(entree='beef', dessert='ice', drink='beer')\", \"menu('beef', dessert='ice', drink='beer')\", \"menu(dessert='ice', 'beef', drink='beer')\", \"menu(dessert='ice', 'beef', 'beer')\", \"menu('beef', 'beer', dessert='ice')\", \"def menu(entree='beef', drink='wine', dessert='ice'):\\n    print('entree = ', entree)\\n    print('drink = ', drink)\\n    print('dessert = ', dessert)\", 'menu()', \"menu(entree='chicken')\", \"menu(drink='beer')\", \"menu(entree='chicken', dessert='nohting')\", \"menu(chicken, drink='beer')\", \"menu('chicken', drink='beer')\", 'def test_func(x, l=[]):\\n    l.append(x)\\n    return l', 'y = [1,2,3]\\nr = test_func(100, y)\\nprint(r)', 'y = [1,2,3]\\nr = test_func(200, y)\\nprint(r)', 'r = test_func(100)\\nprint(r)', 'r = test_func(100)\\nprint(r)', 'def test_func(x, l=None):\\n    if l is None:\\n        l = []\\n    l.append(x)\\n    return l', 'r = test_func(100)\\nprint(r)', 'r = test_func(100)\\nprint(r)', 'def say_something(*args):\\n    print(args)', \"say_something('Hi!', 'Mike', 'Nancy')\", 'def say_something(*args):\\n    for arg in args:\\n        print(arg)', \"say_something('Hi!', 'Mike', 'Nancy')\", \"def say_something(word, *args):\\n    print('word = ', word)\\n    for arg in args:\\n        print(arg)\", \"say_something('Hi!', 'Mike', 'Nancy')\", \"t = ('Mike', 'Nancy')\\nsay_something('Hi!', *t)\", 'def menu(**kwargs):\\n    print(kwargs)', \"menu(entree='beef', drink='coffee')\", 'def menu(**kwargs):\\n    for k, v in kwargs.items():\\n        print(k, v)', \"menu(entree='beef', drink='coffee')\", \"d = {\\n    'entree': 'beef',\\n    'drink': 'ice coffee',\\n    'dessert': 'ice'\\n}\\nmenu(**d)\", 'def manu(food, *args, **kwargs):\\n    print(food)\\n    print(args)\\n    print(kwargs)', \"menu('banana', 'apple', 'orange', entree='beef', drink='coffee')\", 'def menu(food, *args, **kwargs):\\n    print(food)\\n    print(args)\\n    print(kwargs)', \"menu('banana', 'apple', 'orange', entree='beef', drink='coffee')\", 'def menu(food, **kwargs, *args):\\n    print(food)\\n    print(args)\\n    print(kwargs)', 'def example_func(param1, param2):\\n    \"\"\"Example function with types documented in the docstring.\\n    \\n    Args:\\n            param1 (int): The first parameter.\\n            param2 (str): The second parameter.\\n    Returns:\\n            bool: The return value. True for success, False otherwise.\\n            \\n    \"\"\"\\n    print(param1)\\n    print(param2)\\n    return True', 'example_func.__doc__', 'print(example_func.__doc__)', 'def outer(a, b):\\n    \\n    def inner():\\n        return a + b\\n    \\n    return inner', 'print(outer(1, 2))', 'f = outer(1, 2)\\nr = f()', 'r', 'def circle_area_func(pi):\\n    def circle_area(radius):\\n        return pi * radius * radius\\n    \\n    return circle_area', 'ca1 = circle_area_func(3.14)\\nca2 = circle_area_func(3.141592)', 'ca1(10)', 'ca2(10)', \"def print_info(func):\\n    def wrapper(*args, **kwargs):\\n        print('start')\\n        result = func(*args, **kwargs)\\n        print('end')\\n        return result\\n    return wrapper\\n\\ndef add_num(a, b):\\n    return a + b\", 'f = print_info(add_num)\\nr = f(10, 20)\\nprint(r)', \"def print_info(func):\\n    def wrapper(*args, **kwargs):\\n        print('start')\\n        result = func(*args, **kwargs)\\n        print('end')\\n        return result\\n    return wrapper\\n\\n@print_info\\ndef add_num(a, b):\\n    return a + b\", 'r = add_num(10, 20)\\nprint(r)', '@print_info\\ndef sub_num(a, b):\\n    return a - b', 'r = sub_num(50, 30)', 'r = sub_num(50, 30)\\nprint (r)', 'r', 'r = sub_num(50, 30)\\nr', 'r = sub_num(50, 30)', 'print(r)', 'r', 'r = sub_num(50, 30)', 'print(r)', 'r', 'r = sub_num(50, 30)\\nprint(r)', 'print(r)', 'r', \"def print_more(func):\\n    def wrapper(*args, **kwargs):\\n        print('func:', func.__name__)\\n        print('args:', args)\\n        print('kwargs:', kwargs)\\n        result = func(*args, **kwargs)\\n        print('result:', result)\\n        return result\\n    return wrapper\", '@print_more\\ndef add_num(a, b):\\n    return a + b', 'r = add_num(10, 20)\\nprint(r)', '@print_info\\n@print_more\\ndef add_num(a, b):\\n    return a + b', 'r = add_num(10, 20)', 'r = add_num(10, 20)\\nprint(r)', '@print_more\\n@print_info\\ndef add_num(a, b):\\n    return a + b', 'r = add_num(10, 20)\\nprint(r)', \"l = ['Mon', 'tue', 'Wed', 'Thu', 'fri', 'sat', 'Sun']\", 'def change_words(words, func):\\n    for word in words:\\n        print(func(word))\\n\\ndef sample_func(word):\\n    return word.capitalize()', 'change_words(l, sample_func)', 'def change_words(words, func):\\n    for word in words:\\n        print(func(word))', 'sample_func = lambda word: word.capitalize()', 'change_words(l, sample_func)', 'change_words(l, lambda word: word.capitalize())', 'change_words(l, lambda word: word.lower())', \"l = ['Good morning', 'Good afternoon', 'Good night']\", 'for i in l:\\n    print(i)', \"def greeting():\\n    yield 'Good morning'\\n    yield 'Good afternoon'\\n    yield 'Good night'\", 'for g in greeting():\\n    print(g)', 'g = greeting()', 'next(g)', 'next(g)', 'next(g)', 'next(g)', \"def counter(num=10):\\n    for _ in range(num):\\n        yield 'run'\", 'g = greeting()\\nc = counter()\\n\\nprint(next(g))\\n\\nprint(next(c))\\nprint(next(c))\\nprint(next(c))\\nprint(next(c))\\nprint(next(c))\\n\\nprint(next(g))\\n\\nprint(next(c))\\nprint(next(c))\\nprint(next(c))\\nprint(next(c))\\nprint(next(c))\\n\\nprint(next(g))', 't = (1,2,3,4,5)\\n\\nr = []\\nfor i in t:\\n    r.append(i)\\n\\nprint(r)', 'r = [i for i in t]\\nprint(t)', 'r = []\\nfor i in t:\\n    if i % 2 ==0:\\n        r.append(i)\\n\\nprint(r)', 'r = [i for i in t if i % 2 == 0]\\nprint(t)', 'r = [i for i in t]\\nprint(r)', 'r = [i for i in t if i % 2 == 0]\\nprint(r)', 't2 = (5,6,7,8,9,10)\\n\\nr = []\\nfor i in t:\\n    for j in t2:\\n        r.append(i * j)\\n\\nprint(r)', 'r = [i * j for i in t for j in t2]', 'r = [i * j for i in t for j in t2]\\nprint(r)', \"w = {'mon', 'tue', 'wed'}\\nf = {'coffee', 'milk', 'water'}\", 'd = {}\\nfor x, y in zip(w, f):\\n    d[x] = y', 'print(d)', 'd = {x: y for x ,y in zip(w, f)}\\nprint(d)', 's = {i for i in range(10)}\\nprint(sep=)', 's = {i for i in range(10)}\\nprint(s)', 's = {i for i in range(10) if i % 2 == 0}', 's = {i for i in range(10) if i % 2 == 0}\\nprint(sep=)', 's = {i for i in range(10) if i % 2 == 0}\\nprint(s)', 'def g():\\n    for i in range(10):\\n        yield i', 'g = g()\\ntype(g)', 'print(next(g))', 'print(next(g))\\nprint(next(g))\\nprint(next(g))\\nprint(next(g))', 'g = (i for i in range(10))', 'print(next(g))\\nprint(next(g))\\nprint(next(g))\\nprint(next(g))', 'type(g)', 'g = (i for i in range(10) if i % 2 == 0)', 'print(next(g))\\nprint(next(g))\\nprint(next(g))\\nprint(next(g))', 't = tuple(i for i in range(10))\\nprint(type(t))\\nprint(t)', \"animal = 'cat'\\n\\ndef f():\\n    print(animal)\", 'f()', \"animal = 'cat'\\n\\ndef f():\\n    animal = 'dog'\\n    print('local', animal)\", 'f()', \"animal = 'cat'\\n\\ndef f():\\n    animal = 'dog'\\n    print('local: ', animal)\", 'f()', 'f()\\nprint(animal)', \"f()\\nprint('global', animal)\", \"f()\\nprint('global: ', animal)\", \"animal = 'cat'\\n\\ndef f():\\n    print(animal)\\n    animal = 'dog'\\n    print('local: ', animal)\", 'f()', \"animal = 'cat'\\n\\ndef f():\\n    global animal\\n    animal = 'dog'\\n    print('local: ', animal)\\n    \\nf()\\nprint('global: ', animal)\", \"animal = 'cat'\\n\\ndef f():\\n    animal = 'dog'\\n    print('local: ', locals())\\n    \\nf()\\nprint('global: ', animal)\", \"animal = 'cat'\\n\\ndef f():\\n    animal = 'dog'\\n    print('local: ', locals())\\n    \\nf()\\nprint('global: ', globals())\"], '_oh': {6: 100, 8: 200, 10: 'aaaaaaaaaaaaaaaaaaaaaaabbbbbbbbbbbbbbbbbbbbbbbbb', 13: 'xxxxxxxxxxxxxxxxxxxxxxxxxxxxxxxxyyyyyyyyyyyyyyyyyyyyyyyyyyyyyyyyyyyyyy', 15: 'xxxxxxxxxxxxxxxxxxxxxxxxxxxxxxxxyyyyyyyyyyyyyyyyyyyyyyyyyyyyyyyyyyyyyy', 26: <class 'NoneType'>, 31: True, 32: False, 33: True, 34: True, 64: <built-in method items of dict object at 0x109ffc990>, 65: dict_items([('x', 100), ('y', 200)]), 67: <zip object at 0x109ef3388>, 69: <function say_something at 0x109ff5e18>, 72: <class 'function'>, 77: 'hello', 80: 'tomato', 82: 'green pepper', 84: \"I don't know\", 124: 'Example function with types documented in the docstring.\\n    \\n    Args:\\n            param1 (int): The first parameter.\\n            param2 (str): The second parameter.\\n    Returns:\\n            bool: The return value. True for success, False otherwise.\\n            \\n    ', 129: 3, 132: 314.0, 133: 314.1592, 141: 20, 142: 20, 145: 20, 148: 20, 151: 20, 173: 'Good morning', 174: 'Good afternoon', 175: 'Good night', 198: <class 'generator'>, 203: <class 'generator'>}, '_dh': ['/Users/takahiro/Practice/memo/python/udemy-python3-introductory'], 'In': ['', \"print('XXXX')\", \"print('XXXX')\\nprint('XXXX')\", \"print('XXXX')\\n# test\\nprint('XXXX')\", 'print(\\'XXXX\\')\\n\"\"\"\\ntest\\ntest\\ntest\\ntest\\n\"\"\"\\nprint(\\'XXXX\\')', '# Apple price\\nsample_value = 100', 'sample_value', 'sample_value = 200 # Apple price', 'sample_value', \"s = 'aaaaaaaaaaaaaaaaaaaaaaa' + 'bbbbbbbbbbbbbbbbbbbbbbbbb'\", 's', \"s = 'xxxxxxxxxxxxxxxxxxxxxxxxxxxxxxxx'\\n       + 'yyyyyyyyyyyyyyyyyyyyyyyyyyyyyyyyyyyyyy'\", \"s = 'xxxxxxxxxxxxxxxxxxxxxxxxxxxxxxxx'        + 'yyyyyyyyyyyyyyyyyyyyyyyyyyyyyyyyyyyyyy'\", 's', \"s = ('xxxxxxxxxxxxxxxxxxxxxxxxxxxxxxxx' \\n       + 'yyyyyyyyyyyyyyyyyyyyyyyyyyyyyyyyyyyyyy')\", 's', \"x = 10\\n\\nif x < 0:\\n    print('negative')\\nelif x == 0:\\n    print('zero')\\nelif x == 10:\\n    print('1000000000000000000000')\\nelif x == 10:\\n    print('10')\\nelse: \\n    print('positive')\", \"is_ok = True\\n\\nif is_ok:\\n    print('OK!')\", \"is_ok = 1\\n\\nif is_ok:\\n    print('OK!')\", \"is_ok = 0\\n\\nif is_ok:\\n    print('OK!')\\nelse:\\n    print('NO!')\", 'is_ok = \"\"\\n\\nif is_ok:\\n    print(\\'OK!\\')\\nelse:\\n    print(\\'NO!\\')', 'is_ok = \"abcdef\"\\n\\nif is_ok:\\n    print(\\'OK!\\')\\nelse:\\n    print(\\'NO!\\')', \"is_ok = []\\n\\nif is_ok:\\n    print('OK!')\\nelse:\\n    print('NO!')\", \"is_ok = [1,2,3,4]\\n\\nif is_ok:\\n    print('OK!')\\nelse:\\n    print('NO!')\", 'is_empty = None', 'is_empty', 'type(is_empty)', 'help(None)', \"if is_empty == None:\\n    print('None!!!')\", \"if is_empty is None:\\n    print('None!!!')\", '1 == true', '1 == True', '1 is True', 'True is True', 'None is None', \"count = 0\\n\\nwhile count < 5:\\n    print(count)\\n    count += 1\\nelse:\\n    print('done')\", \"count = 0\\n\\nwhile count < 5:\\n    if count == 1:\\n        break\\n    print(count)\\n    count += 1\\nelse:\\n    print('done')\", \"while True:\\n    word = input('Enter: ')\\n    if word == 'ok':\\n        break\\n    print('next')\", \"while True:\\n    word = input('Enter: ')\\n    if word == 'ok':\\n        break\\n    print('next')\", \"while True:\\n    word = input('Enter: ')\\n    num = int(word)\\n    if num == 100:\\n        break\\n    print('next')\", \"while True:\\n    word = input('Enter: ')\\n    num = int(word)\\n    if num == 100:\\n        break\\n    print('next')\", 'some_list = [1,2,3,4,5]', 'for i in some_list:\\n    print(i)', \"for s in 'abcdef':\\n    print(sep=)\", \"for s in 'abcdef':\\n    print(s)\", \"for word in ['My', 'name', 'is', 'Mike']:\\n    print(word)\", \"for word in ['My', 'name', 'is', 'Mike']:\\n    if word == 'name':\\n        break\\n    print(word)\", \"for word in ['My', 'name', 'is', 'Mike']:\\n    if word == 'name':\\n        continue\\n    print(word)\", \"for fruit in ['apple', 'banana', 'orange']:\\n    print(fruit)\\nelse:\\n    print('I ate all!')\", \"for fruit in ['apple', 'banana', 'orange']:\\n    if fruit == 'banana':\\n        print('stop eating')\\n        break\\n    print(fruit)\\nelse:\\n    print('I ate all!')\", 'for i in range(10):\\n    print(i)', 'for i in range(2, 10):\\n    print(i)', 'for i in range(2, 10, 3):\\n    print(i)', \"for i in range(10):\\n    print('hello')\", \"for i in range(10):\\n    print(i, 'hello')\", \"for _ in range(10):\\n    print('hello')\", \"for i, fruit in enumerate(['apple', 'banana', 'orange']):\\n    print(i, fruit)\", \"for fruit, i in enumerate(['apple', 'banana', 'orange']):\\n    print(i, fruit)\", \"days = ['Mon', 'Tue', 'Wed']\\nfruits = ['apple', 'banana', 'orange']\\ndrinks = ['coffee', 'tea', 'beer']\\n\\nfor day, fruit, drink in zip(days, fruits, drinks):\\n    print(day, fruit, drink)\", \"d = {'x': 100, 'y': 200}\", 'for v in d:', 'for v in d:\\n    print(vars)', 'for v in d:\\n    print(v)', \"for k, v in d.items():\\n    print(k, ':', v)\", 'd.items', 'd.items()', \"days = ['Mon', 'Tue', 'Wed']\\nfruits = ['apple', 'banana', 'orange']\\ndrinks = ['coffee', 'tea', 'beer']\\n\\nfor day, fruit, drink in zip(days, fruits, drinks):\\n    print(day, fruit, drink)\", 'zip(days, fruits, drinks)', \"def say_something():\\n    print('hello')\", 'say_something', 'say_something()', \"say_hi()\\ndef say_hi():\\n    print('hi')\", 'type(say_something)', 'F = say_something', 'F()', \"def say_something():\\n    return 'hello'\", 'result = say_something()', 'result', 'def what_is_this(color):\\n    if color == \\'red\\':\\n        return \\'tomato\\'\\n    elif color == \\'green\\':\\n        return \\'green pepper\\'\\n    else:\\n        return \"I don\\'t know\"', \"result = what_is_this('red')\", 'result', \"result = what_is_this('green')\", 'result', \"result = what_is_this('yellow')\", 'result', \"def menu(entree, drink, dessert):\\n    print('entree = ', entree)\\n    print('drink = ', drink)\\n    print('dessert = ', dessert)\", \"menu(entree='beef', dessert='ice', drink='beer')\", \"menu('beef', dessert='ice', drink='beer')\", \"menu(dessert='ice', 'beef', drink='beer')\", \"menu(dessert='ice', 'beef', 'beer')\", \"menu('beef', 'beer', dessert='ice')\", \"def menu(entree='beef', drink='wine', dessert='ice'):\\n    print('entree = ', entree)\\n    print('drink = ', drink)\\n    print('dessert = ', dessert)\", 'menu()', \"menu(entree='chicken')\", \"menu(drink='beer')\", \"menu(entree='chicken', dessert='nohting')\", \"menu(chicken, drink='beer')\", \"menu('chicken', drink='beer')\", 'def test_func(x, l=[]):\\n    l.append(x)\\n    return l', 'y = [1,2,3]\\nr = test_func(100, y)\\nprint(r)', 'y = [1,2,3]\\nr = test_func(200, y)\\nprint(r)', 'r = test_func(100)\\nprint(r)', 'r = test_func(100)\\nprint(r)', 'def test_func(x, l=None):\\n    if l is None:\\n        l = []\\n    l.append(x)\\n    return l', 'r = test_func(100)\\nprint(r)', 'r = test_func(100)\\nprint(r)', 'def say_something(*args):\\n    print(args)', \"say_something('Hi!', 'Mike', 'Nancy')\", 'def say_something(*args):\\n    for arg in args:\\n        print(arg)', \"say_something('Hi!', 'Mike', 'Nancy')\", \"def say_something(word, *args):\\n    print('word = ', word)\\n    for arg in args:\\n        print(arg)\", \"say_something('Hi!', 'Mike', 'Nancy')\", \"t = ('Mike', 'Nancy')\\nsay_something('Hi!', *t)\", 'def menu(**kwargs):\\n    print(kwargs)', \"menu(entree='beef', drink='coffee')\", 'def menu(**kwargs):\\n    for k, v in kwargs.items():\\n        print(k, v)', \"menu(entree='beef', drink='coffee')\", \"d = {\\n    'entree': 'beef',\\n    'drink': 'ice coffee',\\n    'dessert': 'ice'\\n}\\nmenu(**d)\", 'def manu(food, *args, **kwargs):\\n    print(food)\\n    print(args)\\n    print(kwargs)', \"menu('banana', 'apple', 'orange', entree='beef', drink='coffee')\", 'def menu(food, *args, **kwargs):\\n    print(food)\\n    print(args)\\n    print(kwargs)', \"menu('banana', 'apple', 'orange', entree='beef', drink='coffee')\", 'def menu(food, **kwargs, *args):\\n    print(food)\\n    print(args)\\n    print(kwargs)', 'def example_func(param1, param2):\\n    \"\"\"Example function with types documented in the docstring.\\n    \\n    Args:\\n            param1 (int): The first parameter.\\n            param2 (str): The second parameter.\\n    Returns:\\n            bool: The return value. True for success, False otherwise.\\n            \\n    \"\"\"\\n    print(param1)\\n    print(param2)\\n    return True', 'example_func.__doc__', 'print(example_func.__doc__)', 'def outer(a, b):\\n    \\n    def inner():\\n        return a + b\\n    \\n    return inner', 'print(outer(1, 2))', 'f = outer(1, 2)\\nr = f()', 'r', 'def circle_area_func(pi):\\n    def circle_area(radius):\\n        return pi * radius * radius\\n    \\n    return circle_area', 'ca1 = circle_area_func(3.14)\\nca2 = circle_area_func(3.141592)', 'ca1(10)', 'ca2(10)', \"def print_info(func):\\n    def wrapper(*args, **kwargs):\\n        print('start')\\n        result = func(*args, **kwargs)\\n        print('end')\\n        return result\\n    return wrapper\\n\\ndef add_num(a, b):\\n    return a + b\", 'f = print_info(add_num)\\nr = f(10, 20)\\nprint(r)', \"def print_info(func):\\n    def wrapper(*args, **kwargs):\\n        print('start')\\n        result = func(*args, **kwargs)\\n        print('end')\\n        return result\\n    return wrapper\\n\\n@print_info\\ndef add_num(a, b):\\n    return a + b\", 'r = add_num(10, 20)\\nprint(r)', '@print_info\\ndef sub_num(a, b):\\n    return a - b', 'r = sub_num(50, 30)', 'r = sub_num(50, 30)\\nprint (r)', 'r', 'r = sub_num(50, 30)\\nr', 'r = sub_num(50, 30)', 'print(r)', 'r', 'r = sub_num(50, 30)', 'print(r)', 'r', 'r = sub_num(50, 30)\\nprint(r)', 'print(r)', 'r', \"def print_more(func):\\n    def wrapper(*args, **kwargs):\\n        print('func:', func.__name__)\\n        print('args:', args)\\n        print('kwargs:', kwargs)\\n        result = func(*args, **kwargs)\\n        print('result:', result)\\n        return result\\n    return wrapper\", '@print_more\\ndef add_num(a, b):\\n    return a + b', 'r = add_num(10, 20)\\nprint(r)', '@print_info\\n@print_more\\ndef add_num(a, b):\\n    return a + b', 'r = add_num(10, 20)', 'r = add_num(10, 20)\\nprint(r)', '@print_more\\n@print_info\\ndef add_num(a, b):\\n    return a + b', 'r = add_num(10, 20)\\nprint(r)', \"l = ['Mon', 'tue', 'Wed', 'Thu', 'fri', 'sat', 'Sun']\", 'def change_words(words, func):\\n    for word in words:\\n        print(func(word))\\n\\ndef sample_func(word):\\n    return word.capitalize()', 'change_words(l, sample_func)', 'def change_words(words, func):\\n    for word in words:\\n        print(func(word))', 'sample_func = lambda word: word.capitalize()', 'change_words(l, sample_func)', 'change_words(l, lambda word: word.capitalize())', 'change_words(l, lambda word: word.lower())', \"l = ['Good morning', 'Good afternoon', 'Good night']\", 'for i in l:\\n    print(i)', \"def greeting():\\n    yield 'Good morning'\\n    yield 'Good afternoon'\\n    yield 'Good night'\", 'for g in greeting():\\n    print(g)', 'g = greeting()', 'next(g)', 'next(g)', 'next(g)', 'next(g)', \"def counter(num=10):\\n    for _ in range(num):\\n        yield 'run'\", 'g = greeting()\\nc = counter()\\n\\nprint(next(g))\\n\\nprint(next(c))\\nprint(next(c))\\nprint(next(c))\\nprint(next(c))\\nprint(next(c))\\n\\nprint(next(g))\\n\\nprint(next(c))\\nprint(next(c))\\nprint(next(c))\\nprint(next(c))\\nprint(next(c))\\n\\nprint(next(g))', 't = (1,2,3,4,5)\\n\\nr = []\\nfor i in t:\\n    r.append(i)\\n\\nprint(r)', 'r = [i for i in t]\\nprint(t)', 'r = []\\nfor i in t:\\n    if i % 2 ==0:\\n        r.append(i)\\n\\nprint(r)', 'r = [i for i in t if i % 2 == 0]\\nprint(t)', 'r = [i for i in t]\\nprint(r)', 'r = [i for i in t if i % 2 == 0]\\nprint(r)', 't2 = (5,6,7,8,9,10)\\n\\nr = []\\nfor i in t:\\n    for j in t2:\\n        r.append(i * j)\\n\\nprint(r)', 'r = [i * j for i in t for j in t2]', 'r = [i * j for i in t for j in t2]\\nprint(r)', \"w = {'mon', 'tue', 'wed'}\\nf = {'coffee', 'milk', 'water'}\", 'd = {}\\nfor x, y in zip(w, f):\\n    d[x] = y', 'print(d)', 'd = {x: y for x ,y in zip(w, f)}\\nprint(d)', 's = {i for i in range(10)}\\nprint(sep=)', 's = {i for i in range(10)}\\nprint(s)', 's = {i for i in range(10) if i % 2 == 0}', 's = {i for i in range(10) if i % 2 == 0}\\nprint(sep=)', 's = {i for i in range(10) if i % 2 == 0}\\nprint(s)', 'def g():\\n    for i in range(10):\\n        yield i', 'g = g()\\ntype(g)', 'print(next(g))', 'print(next(g))\\nprint(next(g))\\nprint(next(g))\\nprint(next(g))', 'g = (i for i in range(10))', 'print(next(g))\\nprint(next(g))\\nprint(next(g))\\nprint(next(g))', 'type(g)', 'g = (i for i in range(10) if i % 2 == 0)', 'print(next(g))\\nprint(next(g))\\nprint(next(g))\\nprint(next(g))', 't = tuple(i for i in range(10))\\nprint(type(t))\\nprint(t)', \"animal = 'cat'\\n\\ndef f():\\n    print(animal)\", 'f()', \"animal = 'cat'\\n\\ndef f():\\n    animal = 'dog'\\n    print('local', animal)\", 'f()', \"animal = 'cat'\\n\\ndef f():\\n    animal = 'dog'\\n    print('local: ', animal)\", 'f()', 'f()\\nprint(animal)', \"f()\\nprint('global', animal)\", \"f()\\nprint('global: ', animal)\", \"animal = 'cat'\\n\\ndef f():\\n    print(animal)\\n    animal = 'dog'\\n    print('local: ', animal)\", 'f()', \"animal = 'cat'\\n\\ndef f():\\n    global animal\\n    animal = 'dog'\\n    print('local: ', animal)\\n    \\nf()\\nprint('global: ', animal)\", \"animal = 'cat'\\n\\ndef f():\\n    animal = 'dog'\\n    print('local: ', locals())\\n    \\nf()\\nprint('global: ', animal)\", \"animal = 'cat'\\n\\ndef f():\\n    animal = 'dog'\\n    print('local: ', locals())\\n    \\nf()\\nprint('global: ', globals())\"], 'Out': {6: 100, 8: 200, 10: 'aaaaaaaaaaaaaaaaaaaaaaabbbbbbbbbbbbbbbbbbbbbbbbb', 13: 'xxxxxxxxxxxxxxxxxxxxxxxxxxxxxxxxyyyyyyyyyyyyyyyyyyyyyyyyyyyyyyyyyyyyyy', 15: 'xxxxxxxxxxxxxxxxxxxxxxxxxxxxxxxxyyyyyyyyyyyyyyyyyyyyyyyyyyyyyyyyyyyyyy', 26: <class 'NoneType'>, 31: True, 32: False, 33: True, 34: True, 64: <built-in method items of dict object at 0x109ffc990>, 65: dict_items([('x', 100), ('y', 200)]), 67: <zip object at 0x109ef3388>, 69: <function say_something at 0x109ff5e18>, 72: <class 'function'>, 77: 'hello', 80: 'tomato', 82: 'green pepper', 84: \"I don't know\", 124: 'Example function with types documented in the docstring.\\n    \\n    Args:\\n            param1 (int): The first parameter.\\n            param2 (str): The second parameter.\\n    Returns:\\n            bool: The return value. True for success, False otherwise.\\n            \\n    ', 129: 3, 132: 314.0, 133: 314.1592, 141: 20, 142: 20, 145: 20, 148: 20, 151: 20, 173: 'Good morning', 174: 'Good afternoon', 175: 'Good night', 198: <class 'generator'>, 203: <class 'generator'>}, 'get_ipython': <bound method InteractiveShell.get_ipython of <ipykernel.zmqshell.ZMQInteractiveShell object at 0x109d83320>>, 'exit': <IPython.core.autocall.ZMQExitAutocall object at 0x109dd0d68>, 'quit': <IPython.core.autocall.ZMQExitAutocall object at 0x109dd0d68>, '_': 9, '__': True, '___': False, '_i': \"animal = 'cat'\\n\\ndef f():\\n    animal = 'dog'\\n    print('local: ', locals())\\n    \\nf()\\nprint('global: ', animal)\", '_ii': \"animal = 'cat'\\n\\ndef f():\\n    global animal\\n    animal = 'dog'\\n    print('local: ', animal)\\n    \\nf()\\nprint('global: ', animal)\", '_iii': 'f()', '_i1': \"print('XXXX')\", '_i2': \"print('XXXX')\\nprint('XXXX')\", '_i3': \"print('XXXX')\\n# test\\nprint('XXXX')\", '_i4': 'print(\\'XXXX\\')\\n\"\"\"\\ntest\\ntest\\ntest\\ntest\\n\"\"\"\\nprint(\\'XXXX\\')', '_i5': '# Apple price\\nsample_value = 100', 'sample_value': 200, '_i6': 'sample_value', '_6': 100, '_i7': 'sample_value = 200 # Apple price', '_i8': 'sample_value', '_8': 200, '_i9': \"s = 'aaaaaaaaaaaaaaaaaaaaaaa' + 'bbbbbbbbbbbbbbbbbbbbbbbbb'\", 's': {0, 2, 4, 6, 8}, '_i10': 's', '_10': 'aaaaaaaaaaaaaaaaaaaaaaabbbbbbbbbbbbbbbbbbbbbbbbb', '_i11': \"s = 'xxxxxxxxxxxxxxxxxxxxxxxxxxxxxxxx'\\n       + 'yyyyyyyyyyyyyyyyyyyyyyyyyyyyyyyyyyyyyy'\", '_i12': \"s = 'xxxxxxxxxxxxxxxxxxxxxxxxxxxxxxxx' \\\\\\n       + 'yyyyyyyyyyyyyyyyyyyyyyyyyyyyyyyyyyyyyy'\", '_i13': 's', '_13': 'xxxxxxxxxxxxxxxxxxxxxxxxxxxxxxxxyyyyyyyyyyyyyyyyyyyyyyyyyyyyyyyyyyyyyy', '_i14': \"s = ('xxxxxxxxxxxxxxxxxxxxxxxxxxxxxxxx' \\n       + 'yyyyyyyyyyyyyyyyyyyyyyyyyyyyyyyyyyyyyy')\", '_i15': 's', '_15': 'xxxxxxxxxxxxxxxxxxxxxxxxxxxxxxxxyyyyyyyyyyyyyyyyyyyyyyyyyyyyyyyyyyyyyy', '_i16': \"x = 10\\n\\nif x < 0:\\n    print('negative')\\nelif x == 0:\\n    print('zero')\\nelif x == 10:\\n    print('1000000000000000000000')\\nelif x == 10:\\n    print('10')\\nelse: \\n    print('positive')\", 'x': 'wed', '_i17': \"is_ok = True\\n\\nif is_ok:\\n    print('OK!')\", 'is_ok': [1, 2, 3, 4], '_i18': \"is_ok = 1\\n\\nif is_ok:\\n    print('OK!')\", '_i19': \"is_ok = 0\\n\\nif is_ok:\\n    print('OK!')\\nelse:\\n    print('NO!')\", '_i20': 'is_ok = \"\"\\n\\nif is_ok:\\n    print(\\'OK!\\')\\nelse:\\n    print(\\'NO!\\')', '_i21': 'is_ok = \"abcdef\"\\n\\nif is_ok:\\n    print(\\'OK!\\')\\nelse:\\n    print(\\'NO!\\')', '_i22': \"is_ok = []\\n\\nif is_ok:\\n    print('OK!')\\nelse:\\n    print('NO!')\", '_i23': \"is_ok = [1,2,3,4]\\n\\nif is_ok:\\n    print('OK!')\\nelse:\\n    print('NO!')\", '_i24': 'is_empty = None', 'is_empty': None, '_i25': 'is_empty', '_i26': 'type(is_empty)', '_26': <class 'NoneType'>, '_i27': 'help(None)', '_i28': \"if is_empty == None:\\n    print('None!!!')\", '_i29': \"if is_empty is None:\\n    print('None!!!')\", '_i30': '1 == true', '_i31': '1 == True', '_31': True, '_i32': '1 is True', '_32': False, '_i33': 'True is True', '_33': True, '_i34': 'None is None', '_34': True, '_i35': \"count = 0\\n\\nwhile count < 5:\\n    print(count)\\n    count += 1\\nelse:\\n    print('done')\", 'count': 1, '_i36': \"count = 0\\n\\nwhile count < 5:\\n    if count == 1:\\n        break\\n    print(count)\\n    count += 1\\nelse:\\n    print('done')\", '_i37': \"while True:\\n    word = input('Enter: ')\\n    if word == 'ok':\\n        break\\n    print('next')\", 'word': 'Mike', '_i38': \"while True:\\n    word = input('Enter: ')\\n    if word == 'ok':\\n        break\\n    print('next')\", '_i39': \"while True:\\n    word = input('Enter: ')\\n    num = int(word)\\n    if num == 100:\\n        break\\n    print('next')\", '_i40': \"while True:\\n    word = input('Enter: ')\\n    num = int(word)\\n    if num == 100:\\n        break\\n    print('next')\", 'num': 100, '_i41': 'some_list = [1,2,3,4,5]', 'some_list': [1, 2, 3, 4, 5], '_i42': 'for i in some_list:\\n    print(i)', 'i': 5, '_i43': \"for s in 'abcdef':\\n    print(sep=)\", '_i44': \"for s in 'abcdef':\\n    print(s)\", '_i45': \"for word in ['My', 'name', 'is', 'Mike']:\\n    print(word)\", '_i46': \"for word in ['My', 'name', 'is', 'Mike']:\\n    if word == 'name':\\n        break\\n    print(word)\", '_i47': \"for word in ['My', 'name', 'is', 'Mike']:\\n    if word == 'name':\\n        continue\\n    print(word)\", '_i48': \"for fruit in ['apple', 'banana', 'orange']:\\n    print(fruit)\\nelse:\\n    print('I ate all!')\", 'fruit': 'orange', '_i49': \"for fruit in ['apple', 'banana', 'orange']:\\n    if fruit == 'banana':\\n        print('stop eating')\\n        break\\n    print(fruit)\\nelse:\\n    print('I ate all!')\", '_i50': 'for i in range(10):\\n    print(i)', '_i51': 'for i in range(2, 10):\\n    print(i)', '_i52': 'for i in range(2, 10, 3):\\n    print(i)', '_i53': \"for i in range(10):\\n    print('hello')\", '_i54': \"for i in range(10):\\n    print(i, 'hello')\", '_i55': \"for _ in range(10):\\n    print('hello')\", '_i56': \"for i, fruit in enumerate(['apple', 'banana', 'orange']):\\n    print(i, fruit)\", '_i57': \"for fruit, i in enumerate(['apple', 'banana', 'orange']):\\n    print(i, fruit)\", '_i58': \"days = ['Mon', 'Tue', 'Wed']\\nfruits = ['apple', 'banana', 'orange']\\ndrinks = ['coffee', 'tea', 'beer']\\n\\nfor day, fruit, drink in zip(days, fruits, drinks):\\n    print(day, fruit, drink)\", 'days': ['Mon', 'Tue', 'Wed'], 'fruits': ['apple', 'banana', 'orange'], 'drinks': ['coffee', 'tea', 'beer'], 'day': 'Wed', 'drink': 'beer', '_i59': \"d = {'x': 100, 'y': 200}\", 'd': {'mon': 'milk', 'tue': 'coffee', 'wed': 'water'}, '_i60': 'for v in d:', '_i61': 'for v in d:\\n    print(vars)', 'v': 200, '_i62': 'for v in d:\\n    print(v)', '_i63': \"for k, v in d.items():\\n    print(k, ':', v)\", 'k': 'y', '_i64': 'd.items', '_64': <built-in method items of dict object at 0x109ffc990>, '_i65': 'd.items()', '_65': dict_items([('x', 100), ('y', 200)]), '_i66': \"days = ['Mon', 'Tue', 'Wed']\\nfruits = ['apple', 'banana', 'orange']\\ndrinks = ['coffee', 'tea', 'beer']\\n\\nfor day, fruit, drink in zip(days, fruits, drinks):\\n    print(day, fruit, drink)\", '_i67': 'zip(days, fruits, drinks)', '_67': <zip object at 0x109ef3388>, '_i68': \"def say_something():\\n    print('hello')\", 'say_something': <function say_something at 0x109ff5b70>, '_i69': 'say_something', '_69': <function say_something at 0x109ff5e18>, '_i70': 'say_something()', '_i71': \"say_hi()\\ndef say_hi():\\n    print('hi')\", '_i72': 'type(say_something)', '_72': <class 'function'>, '_i73': 'F = say_something', 'F': <function say_something at 0x109ff5e18>, '_i74': 'F()', '_i75': \"def say_something():\\n    return 'hello'\", '_i76': 'result = say_something()', 'result': \"I don't know\", '_i77': 'result', '_77': 'hello', '_i78': 'def what_is_this(color):\\n    if color == \\'red\\':\\n        return \\'tomato\\'\\n    elif color == \\'green\\':\\n        return \\'green pepper\\'\\n    else:\\n        return \"I don\\'t know\"', 'what_is_this': <function what_is_this at 0x109ff5bf8>, '_i79': \"result = what_is_this('red')\", '_i80': 'result', '_80': 'tomato', '_i81': \"result = what_is_this('green')\", '_i82': 'result', '_82': 'green pepper', '_i83': \"result = what_is_this('yellow')\", '_i84': 'result', '_84': \"I don't know\", '_i85': \"def menu(entree, drink, dessert):\\n    print('entree = ', entree)\\n    print('drink = ', drink)\\n    print('dessert = ', dessert)\", 'menu': <function menu at 0x109f2b0d0>, '_i86': \"menu(entree='beef', dessert='ice', drink='beer')\", '_i87': \"menu('beef', dessert='ice', drink='beer')\", '_i88': \"menu(dessert='ice', 'beef', drink='beer')\", '_i89': \"menu(dessert='ice', 'beef', 'beer')\", '_i90': \"menu('beef', 'beer', dessert='ice')\", '_i91': \"def menu(entree='beef', drink='wine', dessert='ice'):\\n    print('entree = ', entree)\\n    print('drink = ', drink)\\n    print('dessert = ', dessert)\", '_i92': 'menu()', '_i93': \"menu(entree='chicken')\", '_i94': \"menu(drink='beer')\", '_i95': \"menu(entree='chicken', dessert='nohting')\", '_i96': \"menu(chicken, drink='beer')\", '_i97': \"menu('chicken', drink='beer')\", '_i98': 'def test_func(x, l=[]):\\n    l.append(x)\\n    return l', 'test_func': <function test_func at 0x109ff5488>, '_i99': 'y = [1,2,3]\\nr = test_func(100, y)\\nprint(r)', 'y': 'water', 'r': [5, 6, 7, 8, 9, 10, 10, 12, 14, 16, 18, 20, 15, 18, 21, 24, 27, 30, 20, 24, 28, 32, 36, 40, 25, 30, 35, 40, 45, 50], '_i100': 'y = [1,2,3]\\nr = test_func(200, y)\\nprint(r)', '_i101': 'r = test_func(100)\\nprint(r)', '_i102': 'r = test_func(100)\\nprint(r)', '_i103': 'def test_func(x, l=None):\\n    if l is None:\\n        l = []\\n    l.append(x)\\n    return l', '_i104': 'r = test_func(100)\\nprint(r)', '_i105': 'r = test_func(100)\\nprint(r)', '_i106': 'def say_something(*args):\\n    print(args)', '_i107': \"say_something('Hi!', 'Mike', 'Nancy')\", '_i108': 'def say_something(*args):\\n    for arg in args:\\n        print(arg)', '_i109': \"say_something('Hi!', 'Mike', 'Nancy')\", '_i110': \"def say_something(word, *args):\\n    print('word = ', word)\\n    for arg in args:\\n        print(arg)\", '_i111': \"say_something('Hi!', 'Mike', 'Nancy')\", '_i112': \"t = ('Mike', 'Nancy')\\nsay_something('Hi!', *t)\", 't': (0, 1, 2, 3, 4, 5, 6, 7, 8, 9), '_i113': 'def menu(**kwargs):\\n    print(kwargs)', '_i114': \"menu(entree='beef', drink='coffee')\", '_i115': 'def menu(**kwargs):\\n    for k, v in kwargs.items():\\n        print(k, v)', '_i116': \"menu(entree='beef', drink='coffee')\", '_i117': \"d = {\\n    'entree': 'beef',\\n    'drink': 'ice coffee',\\n    'dessert': 'ice'\\n}\\nmenu(**d)\", '_i118': 'def manu(food, *args, **kwargs):\\n    print(food)\\n    print(args)\\n    print(kwargs)', 'manu': <function manu at 0x109f2bea0>, '_i119': \"menu('banana', 'apple', 'orange', entree='beef', drink='coffee')\", '_i120': 'def menu(food, *args, **kwargs):\\n    print(food)\\n    print(args)\\n    print(kwargs)', '_i121': \"menu('banana', 'apple', 'orange', entree='beef', drink='coffee')\", '_i122': 'def menu(food, **kwargs, *args):\\n    print(food)\\n    print(args)\\n    print(kwargs)', '_i123': 'def example_func(param1, param2):\\n    \"\"\"Example function with types documented in the docstring.\\n    \\n    Args:\\n            param1 (int): The first parameter.\\n            param2 (str): The second parameter.\\n    Returns:\\n            bool: The return value. True for success, False otherwise.\\n            \\n    \"\"\"\\n    print(param1)\\n    print(param2)\\n    return True', 'example_func': <function example_func at 0x109ff56a8>, '_i124': 'example_func.__doc__', '_124': 'Example function with types documented in the docstring.\\n    \\n    Args:\\n            param1 (int): The first parameter.\\n            param2 (str): The second parameter.\\n    Returns:\\n            bool: The return value. True for success, False otherwise.\\n            \\n    ', '_i125': 'print(example_func.__doc__)', '_i126': 'def outer(a, b):\\n    \\n    def inner():\\n        return a + b\\n    \\n    return inner', 'outer': <function outer at 0x109ff5f28>, '_i127': 'print(outer(1, 2))', '_i128': 'f = outer(1, 2)\\nr = f()', 'f': <function f at 0x109fe76a8>, '_i129': 'r', '_129': 3, '_i130': 'def circle_area_func(pi):\\n    def circle_area(radius):\\n        return pi * radius * radius\\n    \\n    return circle_area', 'circle_area_func': <function circle_area_func at 0x109ff52f0>, '_i131': 'ca1 = circle_area_func(3.14)\\nca2 = circle_area_func(3.141592)', 'ca1': <function circle_area_func.<locals>.circle_area at 0x109ff5d90>, 'ca2': <function circle_area_func.<locals>.circle_area at 0x109ff5840>, '_i132': 'ca1(10)', '_132': 314.0, '_i133': 'ca2(10)', '_133': 314.1592, '_i134': \"def print_info(func):\\n    def wrapper(*args, **kwargs):\\n        print('start')\\n        result = func(*args, **kwargs)\\n        print('end')\\n        return result\\n    return wrapper\\n\\ndef add_num(a, b):\\n    return a + b\", 'print_info': <function print_info at 0x10a0abea0>, 'add_num': <function print_more.<locals>.wrapper at 0x10a0ab510>, '_i135': 'f = print_info(add_num)\\nr = f(10, 20)\\nprint(r)', '_i136': \"def print_info(func):\\n    def wrapper(*args, **kwargs):\\n        print('start')\\n        result = func(*args, **kwargs)\\n        print('end')\\n        return result\\n    return wrapper\\n\\n@print_info\\ndef add_num(a, b):\\n    return a + b\", '_i137': 'r = add_num(10, 20)\\nprint(r)', '_i138': '@print_info\\ndef sub_num(a, b):\\n    return a - b', 'sub_num': <function print_info.<locals>.wrapper at 0x10a0ad0d0>, '_i139': 'r = sub_num(50, 30)', '_i140': 'r = sub_num(50, 30)\\nprint (r)', '_i141': 'r', '_141': 20, '_i142': 'r = sub_num(50, 30)\\nr', '_142': 20, '_i143': 'r = sub_num(50, 30)', '_i144': 'print(r)', '_i145': 'r', '_145': 20, '_i146': 'r = sub_num(50, 30)', '_i147': 'print(r)', '_i148': 'r', '_148': 20, '_i149': 'r = sub_num(50, 30)\\nprint(r)', '_i150': 'print(r)', '_i151': 'r', '_151': 20, '_i152': \"def print_more(func):\\n    def wrapper(*args, **kwargs):\\n        print('func:', func.__name__)\\n        print('args:', args)\\n        print('kwargs:', kwargs)\\n        result = func(*args, **kwargs)\\n        print('result:', result)\\n        return result\\n    return wrapper\", 'print_more': <function print_more at 0x10a0ab840>, '_i153': '@print_more\\ndef add_num(a, b):\\n    return a + b', '_i154': 'r = add_num(10, 20)\\nprint(r)', '_i155': '@print_info\\n@print_more\\ndef add_num(a, b):\\n    return a + b', '_i156': 'r = add_num(10, 20)', '_i157': 'r = add_num(10, 20)\\nprint(r)', '_i158': '@print_more\\n@print_info\\ndef add_num(a, b):\\n    return a + b', '_i159': 'r = add_num(10, 20)\\nprint(r)', '_i160': \"l = ['Mon', 'tue', 'Wed', 'Thu', 'fri', 'sat', 'Sun']\", 'l': ['Good morning', 'Good afternoon', 'Good night'], '_i161': 'def change_words(words, func):\\n    for word in words:\\n        print(func(word))\\n\\ndef sample_func(word):\\n    return word.capitalize()', 'change_words': <function change_words at 0x10a0ab268>, 'sample_func': <function <lambda> at 0x10a0ab400>, '_i162': 'change_words(l, sample_func)', '_i163': 'def change_words(words, func):\\n    for word in words:\\n        print(func(word))', '_i164': 'sample_func = lambda word: word.capitalize()', '_i165': 'change_words(l, sample_func)', '_i166': 'change_words(l, lambda word: word.capitalize())', '_i167': 'change_words(l, lambda word: word.lower())', '_i168': \"l = ['Good morning', 'Good afternoon', 'Good night']\", '_i169': 'for i in l:\\n    print(i)', '_i170': \"def greeting():\\n    yield 'Good morning'\\n    yield 'Good afternoon'\\n    yield 'Good night'\", 'greeting': <function greeting at 0x10a0ab598>, '_i171': 'for g in greeting():\\n    print(g)', 'g': <generator object <genexpr> at 0x10a0ebaf0>, '_i172': 'g = greeting()', '_i173': 'next(g)', '_173': 'Good morning', '_i174': 'next(g)', '_174': 'Good afternoon', '_i175': 'next(g)', '_175': 'Good night', '_i176': 'next(g)', '_i177': \"def counter(num=10):\\n    for _ in range(num):\\n        yield 'run'\", 'counter': <function counter at 0x109fe7a60>, '_i178': 'g = greeting()\\nc = counter()\\n\\nprint(next(g))\\n\\nprint(next(c))\\nprint(next(c))\\nprint(next(c))\\nprint(next(c))\\nprint(next(c))\\n\\nprint(next(g))\\n\\nprint(next(c))\\nprint(next(c))\\nprint(next(c))\\nprint(next(c))\\nprint(next(c))\\n\\nprint(next(g))', 'c': <generator object counter at 0x10a0eb780>, '_i179': 't = (1,2,3,4,5)\\n\\nr = []\\nfor i in t:\\n    r.append(i)\\n\\nprint(r)', '_i180': 'r = [i for i in t]\\nprint(t)', '_i181': 'r = []\\nfor i in t:\\n    if i % 2 ==0:\\n        r.append(i)\\n\\nprint(r)', '_i182': 'r = [i for i in t if i % 2 == 0]\\nprint(t)', '_i183': 'r = [i for i in t]\\nprint(r)', '_i184': 'r = [i for i in t if i % 2 == 0]\\nprint(r)', '_i185': 't2 = (5,6,7,8,9,10)\\n\\nr = []\\nfor i in t:\\n    for j in t2:\\n        r.append(i * j)\\n\\nprint(r)', 't2': (5, 6, 7, 8, 9, 10), 'j': 10, '_i186': 'r = [i * j for i in t for j in t2]', '_i187': 'r = [i * j for i in t for j in t2]\\nprint(r)', '_i188': \"w = {'mon', 'tue', 'wed'}\\nf = {'coffee', 'milk', 'water'}\", 'w': {'mon', 'tue', 'wed'}, '_i189': 'd = {}\\nfor x, y in zip(w, f):\\n    d[x] = y', '_i190': 'print(d)', '_i191': 'd = {x: y for x ,y in zip(w, f)}\\nprint(d)', '_i192': 's = {i for i in range(10)}\\nprint(sep=)', '_i193': 's = {i for i in range(10)}\\nprint(s)', '_i194': 's = {i for i in range(10) if i % 2 == 0}', '_i195': 's = {i for i in range(10) if i % 2 == 0}\\nprint(sep=)', '_i196': 's = {i for i in range(10) if i % 2 == 0}\\nprint(s)', '_i197': 'def g():\\n    for i in range(10):\\n        yield i', '_i198': 'g = g()\\ntype(g)', '_198': <class 'generator'>, '_i199': 'print(next(g))', '_i200': 'print(next(g))\\nprint(next(g))\\nprint(next(g))\\nprint(next(g))', '_i201': 'g = (i for i in range(10))', '_i202': 'print(next(g))\\nprint(next(g))\\nprint(next(g))\\nprint(next(g))', '_i203': 'type(g)', '_203': <class 'generator'>, '_i204': 'g = (i for i in range(10) if i % 2 == 0)', '_i205': 'print(next(g))\\nprint(next(g))\\nprint(next(g))\\nprint(next(g))', '_i206': 't = tuple(i for i in range(10))\\nprint(type(t))\\nprint(t)', '_i207': \"animal = 'cat'\\n\\ndef f():\\n    print(animal)\", 'animal': 'cat', '_i208': 'f()', '_i209': \"animal = 'cat'\\n\\ndef f():\\n    animal = 'dog'\\n    print('local', animal)\", '_i210': 'f()', '_i211': \"animal = 'cat'\\n\\ndef f():\\n    animal = 'dog'\\n    print('local: ', animal)\", '_i212': 'f()', '_i213': 'f()\\nprint(animal)', '_i214': \"f()\\nprint('global', animal)\", '_i215': \"f()\\nprint('global: ', animal)\", '_i216': \"animal = 'cat'\\n\\ndef f():\\n    print(animal)\\n    animal = 'dog'\\n    print('local: ', animal)\", '_i217': 'f()', '_i218': \"animal = 'cat'\\n\\ndef f():\\n    global animal\\n    animal = 'dog'\\n    print('local: ', animal)\\n    \\nf()\\nprint('global: ', animal)\", '_i219': \"animal = 'cat'\\n\\ndef f():\\n    animal = 'dog'\\n    print('local: ', locals())\\n    \\nf()\\nprint('global: ', animal)\", '_i220': \"animal = 'cat'\\n\\ndef f():\\n    animal = 'dog'\\n    print('local: ', locals())\\n    \\nf()\\nprint('global: ', globals())\"}\n"
     ]
    }
   ],
   "source": [
    "animal = 'cat'\n",
    "\n",
    "def f():\n",
    "    animal = 'dog'\n",
    "    print('local: ', locals())\n",
    "    \n",
    "f()\n",
    "print('global: ', globals())"
   ]
  },
  {
   "cell_type": "code",
   "execution_count": 222,
   "metadata": {},
   "outputs": [
    {
     "name": "stdout",
     "output_type": "stream",
     "text": [
      "f\n",
      "Test func doc\n",
      "__main__\n"
     ]
    }
   ],
   "source": [
    "animal = 'cat'\n",
    "\n",
    "def f():\n",
    "    \"\"\"Test func doc\"\"\"\n",
    "    print(f.__name__)\n",
    "    print(f.__doc__)\n",
    "    \n",
    "f()\n",
    "print(__name__)"
   ]
  },
  {
   "cell_type": "markdown",
   "metadata": {},
   "source": [
    "# Exception"
   ]
  },
  {
   "cell_type": "code",
   "execution_count": 223,
   "metadata": {},
   "outputs": [],
   "source": [
    "l = [1,2,3]\n",
    "i = 5"
   ]
  },
  {
   "cell_type": "code",
   "execution_count": 224,
   "metadata": {},
   "outputs": [
    {
     "ename": "IndexError",
     "evalue": "list index out of range",
     "output_type": "error",
     "traceback": [
      "\u001b[0;31m---------------------------------------------------------------------------\u001b[0m",
      "\u001b[0;31mIndexError\u001b[0m                                Traceback (most recent call last)",
      "\u001b[0;32m<ipython-input-224-021c72463b38>\u001b[0m in \u001b[0;36m<module>\u001b[0;34m()\u001b[0m\n\u001b[0;32m----> 1\u001b[0;31m \u001b[0ml\u001b[0m\u001b[0;34m[\u001b[0m\u001b[0mi\u001b[0m\u001b[0;34m]\u001b[0m\u001b[0;34m\u001b[0m\u001b[0m\n\u001b[0m",
      "\u001b[0;31mIndexError\u001b[0m: list index out of range"
     ]
    }
   ],
   "source": [
    "l[i]"
   ]
  },
  {
   "cell_type": "code",
   "execution_count": 225,
   "metadata": {},
   "outputs": [
    {
     "name": "stdout",
     "output_type": "stream",
     "text": [
      "Don't worry\n"
     ]
    }
   ],
   "source": [
    "try:\n",
    "    l[i]\n",
    "except:\n",
    "    print(\"Don't worry\")"
   ]
  },
  {
   "cell_type": "code",
   "execution_count": 226,
   "metadata": {},
   "outputs": [
    {
     "name": "stdout",
     "output_type": "stream",
     "text": [
      "Don't worry\n"
     ]
    }
   ],
   "source": [
    "try:\n",
    "    l[i]\n",
    "except IndexError:\n",
    "    print(\"Don't worry\")"
   ]
  },
  {
   "cell_type": "code",
   "execution_count": 227,
   "metadata": {},
   "outputs": [
    {
     "name": "stdout",
     "output_type": "stream",
     "text": [
      "Don't worry: list index out of range\n"
     ]
    }
   ],
   "source": [
    "try:\n",
    "    l[i]\n",
    "except IndexError as ex:\n",
    "    print(\"Don't worry: {}\".format(ex))"
   ]
  },
  {
   "cell_type": "code",
   "execution_count": 229,
   "metadata": {},
   "outputs": [
    {
     "name": "stdout",
     "output_type": "stream",
     "text": [
      "Don't worry: list index out of range\n"
     ]
    }
   ],
   "source": [
    "try:\n",
    "    l[i]\n",
    "except IndexError as ex:\n",
    "    print(f\"Don't worry: {ex}\")"
   ]
  },
  {
   "cell_type": "code",
   "execution_count": 230,
   "metadata": {},
   "outputs": [
    {
     "ename": "NameError",
     "evalue": "name 'l' is not defined",
     "output_type": "error",
     "traceback": [
      "\u001b[0;31m---------------------------------------------------------------------------\u001b[0m",
      "\u001b[0;31mNameError\u001b[0m                                 Traceback (most recent call last)",
      "\u001b[0;32m<ipython-input-230-05b2194ccd07>\u001b[0m in \u001b[0;36m<module>\u001b[0;34m()\u001b[0m\n\u001b[1;32m      2\u001b[0m \u001b[0;34m\u001b[0m\u001b[0m\n\u001b[1;32m      3\u001b[0m \u001b[0;32mtry\u001b[0m\u001b[0;34m:\u001b[0m\u001b[0;34m\u001b[0m\u001b[0m\n\u001b[0;32m----> 4\u001b[0;31m     \u001b[0ml\u001b[0m\u001b[0;34m[\u001b[0m\u001b[0mi\u001b[0m\u001b[0;34m]\u001b[0m\u001b[0;34m\u001b[0m\u001b[0m\n\u001b[0m\u001b[1;32m      5\u001b[0m \u001b[0;32mexcept\u001b[0m \u001b[0mIndexError\u001b[0m \u001b[0;32mas\u001b[0m \u001b[0mex\u001b[0m\u001b[0;34m:\u001b[0m\u001b[0;34m\u001b[0m\u001b[0m\n\u001b[1;32m      6\u001b[0m     \u001b[0mprint\u001b[0m\u001b[0;34m(\u001b[0m\u001b[0;34mf\"Don't worry: {ex}\"\u001b[0m\u001b[0;34m)\u001b[0m\u001b[0;34m\u001b[0m\u001b[0m\n",
      "\u001b[0;31mNameError\u001b[0m: name 'l' is not defined"
     ]
    }
   ],
   "source": [
    "del l\n",
    "\n",
    "try:\n",
    "    l[i]\n",
    "except IndexError as ex:\n",
    "    print(f\"Don't worry: {ex}\")"
   ]
  },
  {
   "cell_type": "code",
   "execution_count": 231,
   "metadata": {},
   "outputs": [
    {
     "name": "stdout",
     "output_type": "stream",
     "text": [
      "Danger!!! : name 'l' is not defined\n"
     ]
    }
   ],
   "source": [
    "try:\n",
    "    l[i]\n",
    "except IndexError as ex:\n",
    "    print(f\"Don't worry: {ex}\")\n",
    "except NameError as ex:\n",
    "    print(f\"Danger!!! : {ex}\")"
   ]
  },
  {
   "cell_type": "code",
   "execution_count": 233,
   "metadata": {},
   "outputs": [
    {
     "name": "stdout",
     "output_type": "stream",
     "text": [
      "Other: can only concatenate tuple (not \"int\") to tuple\n"
     ]
    }
   ],
   "source": [
    "try:\n",
    "    () + 4\n",
    "except IndexError as ex:\n",
    "    print(f\"Don't worry: {ex}\")\n",
    "except NameError as ex:\n",
    "    print(f\"Danger!!! : {ex}\")\n",
    "except Exception as ex:\n",
    "    print(f\"Other: {ex}\")"
   ]
  },
  {
   "cell_type": "code",
   "execution_count": 234,
   "metadata": {},
   "outputs": [
    {
     "name": "stdout",
     "output_type": "stream",
     "text": [
      "Other: can only concatenate tuple (not \"int\") to tuple\n",
      "clean up\n"
     ]
    }
   ],
   "source": [
    "try:\n",
    "    () + 4\n",
    "except IndexError as ex:\n",
    "    print(f\"Don't worry: {ex}\")\n",
    "except NameError as ex:\n",
    "    print(f\"Danger!!! : {ex}\")\n",
    "except Exception as ex:\n",
    "    print(f\"Other: {ex}\")\n",
    "finally:\n",
    "    print('clean up')"
   ]
  },
  {
   "cell_type": "code",
   "execution_count": 235,
   "metadata": {},
   "outputs": [
    {
     "name": "stdout",
     "output_type": "stream",
     "text": [
      "Danger!!! : name 'l' is not defined\n",
      "clean up\n"
     ]
    }
   ],
   "source": [
    "try:\n",
    "    l[i]\n",
    "except IndexError as ex:\n",
    "    print(f\"Don't worry: {ex}\")\n",
    "except NameError as ex:\n",
    "    print(f\"Danger!!! : {ex}\")\n",
    "except Exception as ex:\n",
    "    print(f\"Other: {ex}\")\n",
    "finally:\n",
    "    print('clean up')"
   ]
  },
  {
   "cell_type": "code",
   "execution_count": 236,
   "metadata": {},
   "outputs": [
    {
     "name": "stdout",
     "output_type": "stream",
     "text": [
      "Don't worry: list index out of range\n",
      "clean up\n"
     ]
    }
   ],
   "source": [
    "l = [1,2,3]\n",
    "i = 5\n",
    "\n",
    "try:\n",
    "    l[i]\n",
    "except IndexError as ex:\n",
    "    print(f\"Don't worry: {ex}\")\n",
    "except NameError as ex:\n",
    "    print(f\"Danger!!! : {ex}\")\n",
    "except Exception as ex:\n",
    "    print(f\"Other: {ex}\")\n",
    "finally:\n",
    "    print('clean up')"
   ]
  },
  {
   "cell_type": "code",
   "execution_count": 237,
   "metadata": {},
   "outputs": [
    {
     "name": "stdout",
     "output_type": "stream",
     "text": [
      "clean up\n"
     ]
    }
   ],
   "source": [
    "try:\n",
    "    l[0]\n",
    "except IndexError as ex:\n",
    "    print(f\"Don't worry: {ex}\")\n",
    "except NameError as ex:\n",
    "    print(f\"Danger!!! : {ex}\")\n",
    "except Exception as ex:\n",
    "    print(f\"Other: {ex}\")\n",
    "finally:\n",
    "    print('clean up')"
   ]
  },
  {
   "cell_type": "code",
   "execution_count": 238,
   "metadata": {},
   "outputs": [
    {
     "name": "stdout",
     "output_type": "stream",
     "text": [
      "done\n",
      "clean up\n"
     ]
    }
   ],
   "source": [
    "try:\n",
    "    l[0]\n",
    "except IndexError as ex:\n",
    "    print(f\"Don't worry: {ex}\")\n",
    "except NameError as ex:\n",
    "    print(f\"Danger!!! : {ex}\")\n",
    "except Exception as ex:\n",
    "    print(f\"Other: {ex}\")\n",
    "else:\n",
    "    print('done')\n",
    "finally:\n",
    "    print('clean up')"
   ]
  },
  {
   "cell_type": "code",
   "execution_count": 239,
   "metadata": {},
   "outputs": [
    {
     "name": "stdout",
     "output_type": "stream",
     "text": [
      "Don't worry: list index out of range\n",
      "clean up\n"
     ]
    }
   ],
   "source": [
    "try:\n",
    "    l[i]\n",
    "except IndexError as ex:\n",
    "    print(f\"Don't worry: {ex}\")\n",
    "except NameError as ex:\n",
    "    print(f\"Danger!!! : {ex}\")\n",
    "except Exception as ex:\n",
    "    print(f\"Other: {ex}\")\n",
    "finally:\n",
    "    print('clean up')"
   ]
  },
  {
   "cell_type": "code",
   "execution_count": 240,
   "metadata": {},
   "outputs": [],
   "source": [
    "class UppercaseError(Exception):\n",
    "    pass\n",
    "\n",
    "def check():\n",
    "    words = ['apple', 'banana', 'orange']\n",
    "    for word in words:\n",
    "        if word.isupper():\n",
    "            raise UppercaseError(word)"
   ]
  },
  {
   "cell_type": "code",
   "execution_count": 241,
   "metadata": {},
   "outputs": [],
   "source": [
    "check()"
   ]
  },
  {
   "cell_type": "code",
   "execution_count": 242,
   "metadata": {},
   "outputs": [],
   "source": [
    "def check():\n",
    "    words = ['APPLE', 'banana', 'orange']\n",
    "    for word in words:\n",
    "        if word.isupper():\n",
    "            raise UppercaseError(word)"
   ]
  },
  {
   "cell_type": "code",
   "execution_count": 243,
   "metadata": {},
   "outputs": [
    {
     "ename": "UppercaseError",
     "evalue": "APPLE",
     "output_type": "error",
     "traceback": [
      "\u001b[0;31m---------------------------------------------------------------------------\u001b[0m",
      "\u001b[0;31mUppercaseError\u001b[0m                            Traceback (most recent call last)",
      "\u001b[0;32m<ipython-input-243-ce2253128392>\u001b[0m in \u001b[0;36m<module>\u001b[0;34m()\u001b[0m\n\u001b[0;32m----> 1\u001b[0;31m \u001b[0mcheck\u001b[0m\u001b[0;34m(\u001b[0m\u001b[0;34m)\u001b[0m\u001b[0;34m\u001b[0m\u001b[0m\n\u001b[0m",
      "\u001b[0;32m<ipython-input-242-25a86e83d93b>\u001b[0m in \u001b[0;36mcheck\u001b[0;34m()\u001b[0m\n\u001b[1;32m      3\u001b[0m     \u001b[0;32mfor\u001b[0m \u001b[0mword\u001b[0m \u001b[0;32min\u001b[0m \u001b[0mwords\u001b[0m\u001b[0;34m:\u001b[0m\u001b[0;34m\u001b[0m\u001b[0m\n\u001b[1;32m      4\u001b[0m         \u001b[0;32mif\u001b[0m \u001b[0mword\u001b[0m\u001b[0;34m.\u001b[0m\u001b[0misupper\u001b[0m\u001b[0;34m(\u001b[0m\u001b[0;34m)\u001b[0m\u001b[0;34m:\u001b[0m\u001b[0;34m\u001b[0m\u001b[0m\n\u001b[0;32m----> 5\u001b[0;31m             \u001b[0;32mraise\u001b[0m \u001b[0mUppercaseError\u001b[0m\u001b[0;34m(\u001b[0m\u001b[0mword\u001b[0m\u001b[0;34m)\u001b[0m\u001b[0;34m\u001b[0m\u001b[0m\n\u001b[0m",
      "\u001b[0;31mUppercaseError\u001b[0m: APPLE"
     ]
    }
   ],
   "source": [
    "check()"
   ]
  },
  {
   "cell_type": "code",
   "execution_count": 244,
   "metadata": {},
   "outputs": [
    {
     "name": "stdout",
     "output_type": "stream",
     "text": [
      "This is my fault. Go next\n"
     ]
    }
   ],
   "source": [
    "try:\n",
    "    check()\n",
    "except:\n",
    "    print('This is my fault. Go next')"
   ]
  }
 ],
 "metadata": {
  "kernelspec": {
   "display_name": "Python 3",
   "language": "python",
   "name": "python3"
  },
  "language_info": {
   "codemirror_mode": {
    "name": "ipython",
    "version": 3
   },
   "file_extension": ".py",
   "mimetype": "text/x-python",
   "name": "python",
   "nbconvert_exporter": "python",
   "pygments_lexer": "ipython3",
   "version": "3.6.6"
  }
 },
 "nbformat": 4,
 "nbformat_minor": 2
}
