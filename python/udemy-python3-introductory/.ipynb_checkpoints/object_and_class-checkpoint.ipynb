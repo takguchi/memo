{
 "cells": [
  {
   "cell_type": "markdown",
   "metadata": {},
   "source": [
    "# Class Difinition"
   ]
  },
  {
   "cell_type": "code",
   "execution_count": 1,
   "metadata": {},
   "outputs": [],
   "source": [
    "class Person(object):\n",
    "    def say_something(self):\n",
    "        print('hello')"
   ]
  },
  {
   "cell_type": "code",
   "execution_count": 2,
   "metadata": {},
   "outputs": [
    {
     "name": "stdout",
     "output_type": "stream",
     "text": [
      "hello\n"
     ]
    }
   ],
   "source": [
    "person = Person()\n",
    "person.say_something()"
   ]
  },
  {
   "cell_type": "code",
   "execution_count": 3,
   "metadata": {},
   "outputs": [],
   "source": [
    "class Person(object):\n",
    "    def __init__(self):\n",
    "        print('First')\n",
    "\n",
    "    def say_something(self):\n",
    "        print('hello')"
   ]
  },
  {
   "cell_type": "code",
   "execution_count": 4,
   "metadata": {},
   "outputs": [
    {
     "name": "stdout",
     "output_type": "stream",
     "text": [
      "First\n"
     ]
    }
   ],
   "source": [
    "person = Person()"
   ]
  },
  {
   "cell_type": "code",
   "execution_count": 5,
   "metadata": {},
   "outputs": [],
   "source": [
    "class Person(object):\n",
    "    def __init__(self, name):\n",
    "        self.name = name\n",
    "        print(self.name)\n",
    "\n",
    "    def say_something(self):\n",
    "        print('hello')"
   ]
  },
  {
   "cell_type": "code",
   "execution_count": 6,
   "metadata": {},
   "outputs": [
    {
     "name": "stdout",
     "output_type": "stream",
     "text": [
      "Mike\n"
     ]
    }
   ],
   "source": [
    "person = Person('Mike')"
   ]
  },
  {
   "cell_type": "code",
   "execution_count": 7,
   "metadata": {},
   "outputs": [
    {
     "ename": "TypeError",
     "evalue": "__init__() missing 1 required positional argument: 'name'",
     "output_type": "error",
     "traceback": [
      "\u001b[0;31m---------------------------------------------------------------------------\u001b[0m",
      "\u001b[0;31mTypeError\u001b[0m                                 Traceback (most recent call last)",
      "\u001b[0;32m<ipython-input-7-025e15adf56e>\u001b[0m in \u001b[0;36m<module>\u001b[0;34m()\u001b[0m\n\u001b[0;32m----> 1\u001b[0;31m \u001b[0mperson\u001b[0m \u001b[0;34m=\u001b[0m \u001b[0mPerson\u001b[0m\u001b[0;34m(\u001b[0m\u001b[0;34m)\u001b[0m\u001b[0;34m\u001b[0m\u001b[0m\n\u001b[0m",
      "\u001b[0;31mTypeError\u001b[0m: __init__() missing 1 required positional argument: 'name'"
     ]
    }
   ],
   "source": [
    "person = Person()"
   ]
  },
  {
   "cell_type": "code",
   "execution_count": 8,
   "metadata": {},
   "outputs": [],
   "source": [
    "class Person(object):\n",
    "    def __init__(self, name):\n",
    "        self.name = name\n",
    "        print(self.name)\n",
    "\n",
    "    def say_something(self):\n",
    "        print(f'I am {self.name}. hello')"
   ]
  },
  {
   "cell_type": "code",
   "execution_count": 9,
   "metadata": {},
   "outputs": [
    {
     "name": "stdout",
     "output_type": "stream",
     "text": [
      "Mike\n"
     ]
    }
   ],
   "source": [
    "person = Person('Mike')"
   ]
  },
  {
   "cell_type": "code",
   "execution_count": 10,
   "metadata": {},
   "outputs": [
    {
     "name": "stdout",
     "output_type": "stream",
     "text": [
      "I am Mike. hello\n"
     ]
    }
   ],
   "source": [
    "person.say_something()"
   ]
  },
  {
   "cell_type": "code",
   "execution_count": 11,
   "metadata": {},
   "outputs": [],
   "source": [
    "class Person(object):\n",
    "    def __init__(self, name):\n",
    "        self.name = name\n",
    "        print(self.name)\n",
    "\n",
    "    def say_something(self):\n",
    "        print(f'I am {self.name}. hello')\n",
    "        self.run()\n",
    "\n",
    "    def run(self):\n",
    "        print('run')"
   ]
  },
  {
   "cell_type": "code",
   "execution_count": 12,
   "metadata": {},
   "outputs": [
    {
     "name": "stdout",
     "output_type": "stream",
     "text": [
      "Nancy\n"
     ]
    }
   ],
   "source": [
    "person = Person('Nancy')"
   ]
  },
  {
   "cell_type": "code",
   "execution_count": 13,
   "metadata": {},
   "outputs": [
    {
     "name": "stdout",
     "output_type": "stream",
     "text": [
      "I am Nancy. hello\n",
      "run\n"
     ]
    }
   ],
   "source": [
    "person.say_something()"
   ]
  },
  {
   "cell_type": "markdown",
   "metadata": {},
   "source": [
    "# Destructor"
   ]
  },
  {
   "cell_type": "code",
   "execution_count": 14,
   "metadata": {},
   "outputs": [],
   "source": [
    "class Person(object):\n",
    "    def __init__(self, name):\n",
    "        self.name = name\n",
    "        print(self.name)\n",
    "\n",
    "    def say_something(self):\n",
    "        print(f'I am {self.name}. hello')\n",
    "        self.run()\n",
    "\n",
    "    def run(self):\n",
    "        print('run')\n",
    "    \n",
    "    def __del__(self):\n",
    "        print('good bye')"
   ]
  },
  {
   "cell_type": "code",
   "execution_count": 15,
   "metadata": {},
   "outputs": [
    {
     "name": "stdout",
     "output_type": "stream",
     "text": [
      "Bob\n",
      "I am Bob. hello\n",
      "run\n"
     ]
    }
   ],
   "source": [
    "person = Person('Bob')\n",
    "person.say_something()"
   ]
  },
  {
   "cell_type": "code",
   "execution_count": 17,
   "metadata": {},
   "outputs": [
    {
     "name": "stdout",
     "output_type": "stream",
     "text": [
      "good bye\n"
     ]
    }
   ],
   "source": [
    "del person"
   ]
  },
  {
   "cell_type": "markdown",
   "metadata": {},
   "source": [
    "# Inheritance"
   ]
  },
  {
   "cell_type": "code",
   "execution_count": 18,
   "metadata": {},
   "outputs": [],
   "source": [
    "class Car(object):\n",
    "    def run(self):\n",
    "        print('run')"
   ]
  },
  {
   "cell_type": "code",
   "execution_count": 19,
   "metadata": {},
   "outputs": [],
   "source": [
    "class ToyotaCar(Car):\n",
    "    pass"
   ]
  },
  {
   "cell_type": "code",
   "execution_count": 20,
   "metadata": {},
   "outputs": [
    {
     "name": "stdout",
     "output_type": "stream",
     "text": [
      "run\n"
     ]
    }
   ],
   "source": [
    "car = Car()\n",
    "car.run()"
   ]
  },
  {
   "cell_type": "code",
   "execution_count": 22,
   "metadata": {},
   "outputs": [
    {
     "name": "stdout",
     "output_type": "stream",
     "text": [
      "run\n"
     ]
    }
   ],
   "source": [
    "toyota_car = ToyotaCar()\n",
    "toyota_car.run()"
   ]
  },
  {
   "cell_type": "code",
   "execution_count": 23,
   "metadata": {},
   "outputs": [],
   "source": [
    "class TeslaCar(Car):\n",
    "    def auto_run(self):\n",
    "        print('auto run')"
   ]
  },
  {
   "cell_type": "code",
   "execution_count": 24,
   "metadata": {},
   "outputs": [
    {
     "name": "stdout",
     "output_type": "stream",
     "text": [
      "run\n",
      "auto run\n"
     ]
    }
   ],
   "source": [
    "tesla_car = TeslaCar()\n",
    "tesla_car.run()\n",
    "tesla_car.auto_run()"
   ]
  },
  {
   "cell_type": "markdown",
   "metadata": {},
   "source": [
    "# Override"
   ]
  },
  {
   "cell_type": "code",
   "execution_count": 25,
   "metadata": {},
   "outputs": [],
   "source": [
    "class Car(object):\n",
    "    def __init__(self, model=None):\n",
    "        self.model = model\n",
    "\n",
    "    def run(self):\n",
    "        print('run')\n",
    "        \n",
    "class ToyotaCar(Car):\n",
    "    def run(self):\n",
    "        print('fast')\n",
    "\n",
    "class TeslaCar(Car):\n",
    "    def run(self):\n",
    "        print('super fast')\n",
    "    \n",
    "    def auto_run(self):\n",
    "        print('auto run')"
   ]
  },
  {
   "cell_type": "code",
   "execution_count": 26,
   "metadata": {},
   "outputs": [
    {
     "name": "stdout",
     "output_type": "stream",
     "text": [
      "run\n",
      "#####################\n",
      "Lexus\n",
      "fast\n",
      "#####################\n",
      "Model S\n",
      "super fast\n",
      "auto run\n"
     ]
    }
   ],
   "source": [
    "car = Car()\n",
    "car.run()\n",
    "print('#####################')\n",
    "toyota_car = ToyotaCar('Lexus')\n",
    "print(toyota_car.model)\n",
    "toyota_car.run()\n",
    "print('#####################')\n",
    "tesla_car = TeslaCar('Model S')\n",
    "print(tesla_car.model)\n",
    "tesla_car.run()\n",
    "tesla_car.auto_run()"
   ]
  },
  {
   "cell_type": "code",
   "execution_count": 27,
   "metadata": {},
   "outputs": [],
   "source": [
    "class Car(object):\n",
    "    def __init__(self, model=None):\n",
    "        self.model = model\n",
    "\n",
    "    def run(self):\n",
    "        print('run')\n",
    "        \n",
    "class ToyotaCar(Car):\n",
    "    def run(self):\n",
    "        print('fast')\n",
    "\n",
    "class TeslaCar(Car):\n",
    "    def __init__(self, model='Model S', enable_auto_run=False):\n",
    "        super().__init__(model)\n",
    "        self.enable_auto_run = enable_auto_run\n",
    "        \n",
    "    def run(self):\n",
    "        print('super fast')\n",
    "    \n",
    "    def auto_run(self):\n",
    "        print('auto run')"
   ]
  },
  {
   "cell_type": "code",
   "execution_count": 30,
   "metadata": {},
   "outputs": [
    {
     "name": "stdout",
     "output_type": "stream",
     "text": [
      "run\n",
      "#####################\n",
      "Lexus\n",
      "fast\n",
      "#####################\n",
      "Model S\n",
      "True\n",
      "super fast\n",
      "auto run\n"
     ]
    }
   ],
   "source": [
    "car = Car()\n",
    "car.run()\n",
    "print('#####################')\n",
    "toyota_car = ToyotaCar('Lexus')\n",
    "print(toyota_car.model)\n",
    "toyota_car.run()\n",
    "print('#####################')\n",
    "tesla_car = TeslaCar('Model S', True)\n",
    "print(tesla_car.model)\n",
    "print(tesla_car.enable_auto_run)\n",
    "tesla_car.run()\n",
    "tesla_car.auto_run()"
   ]
  },
  {
   "cell_type": "markdown",
   "metadata": {},
   "source": [
    "# Property"
   ]
  },
  {
   "cell_type": "code",
   "execution_count": 31,
   "metadata": {},
   "outputs": [],
   "source": [
    "class Car(object):\n",
    "    def __init__(self, model=None):\n",
    "        self.model = model\n",
    "\n",
    "    def run(self):\n",
    "        print('run')\n",
    "        \n",
    "class ToyotaCar(Car):\n",
    "    def run(self):\n",
    "        print('fast')\n",
    "\n",
    "class TeslaCar(Car):\n",
    "    def __init__(self, model='Model S', enable_auto_run=False):\n",
    "        super().__init__(model)\n",
    "        self._enable_auto_run = enable_auto_run\n",
    "        \n",
    "    @property\n",
    "    def enable_auto_run(self):\n",
    "        return self._enable_auto_run\n",
    "        \n",
    "    def run(self):\n",
    "        print('super fast')\n",
    "    \n",
    "    def auto_run(self):\n",
    "        print('auto run')"
   ]
  },
  {
   "cell_type": "code",
   "execution_count": 32,
   "metadata": {},
   "outputs": [],
   "source": [
    "tesla_car = TeslaCar('Model S')"
   ]
  },
  {
   "cell_type": "code",
   "execution_count": 33,
   "metadata": {},
   "outputs": [
    {
     "name": "stdout",
     "output_type": "stream",
     "text": [
      "False\n"
     ]
    }
   ],
   "source": [
    "print(tesla_car.enable_auto_run)"
   ]
  },
  {
   "cell_type": "code",
   "execution_count": 34,
   "metadata": {},
   "outputs": [
    {
     "ename": "AttributeError",
     "evalue": "can't set attribute",
     "output_type": "error",
     "traceback": [
      "\u001b[0;31m---------------------------------------------------------------------------\u001b[0m",
      "\u001b[0;31mAttributeError\u001b[0m                            Traceback (most recent call last)",
      "\u001b[0;32m<ipython-input-34-95b49ec969ec>\u001b[0m in \u001b[0;36m<module>\u001b[0;34m()\u001b[0m\n\u001b[0;32m----> 1\u001b[0;31m \u001b[0mtesla_car\u001b[0m\u001b[0;34m.\u001b[0m\u001b[0menable_auto_run\u001b[0m \u001b[0;34m=\u001b[0m \u001b[0;32mTrue\u001b[0m\u001b[0;34m\u001b[0m\u001b[0m\n\u001b[0m",
      "\u001b[0;31mAttributeError\u001b[0m: can't set attribute"
     ]
    }
   ],
   "source": [
    "tesla_car.enable_auto_run = True"
   ]
  },
  {
   "cell_type": "code",
   "execution_count": 35,
   "metadata": {},
   "outputs": [],
   "source": [
    "class TeslaCar(Car):\n",
    "    def __init__(self, model='Model S', enable_auto_run=False):\n",
    "        super().__init__(model)\n",
    "        self._enable_auto_run = enable_auto_run\n",
    "        \n",
    "    @property\n",
    "    def enable_auto_run(self):\n",
    "        return self._enable_auto_run\n",
    "    \n",
    "    @enable_auto_run.setter\n",
    "    def enable_auto_run(self, is_enable):\n",
    "        self._enable_auto_run = is_enable\n",
    "        \n",
    "    def run(self):\n",
    "        print('super fast')\n",
    "    \n",
    "    def auto_run(self):\n",
    "        print('auto run')"
   ]
  },
  {
   "cell_type": "code",
   "execution_count": 36,
   "metadata": {},
   "outputs": [
    {
     "name": "stdout",
     "output_type": "stream",
     "text": [
      "False\n",
      "True\n"
     ]
    }
   ],
   "source": [
    "tesla_car = TeslaCar('Model S')\n",
    "print(tesla_car.enable_auto_run)\n",
    "tesla_car.enable_auto_run = True\n",
    "print(tesla_car.enable_auto_run)"
   ]
  },
  {
   "cell_type": "code",
   "execution_count": 37,
   "metadata": {},
   "outputs": [],
   "source": [
    "class TeslaCar(Car):\n",
    "    def __init__(self, model='Model S', \n",
    "                           enable_auto_run=False,\n",
    "                           passwd='123'):\n",
    "        super().__init__(model)\n",
    "        self._enable_auto_run = enable_auto_run\n",
    "        self.passwd = passwd\n",
    "        \n",
    "    @property\n",
    "    def enable_auto_run(self):\n",
    "        return self._enable_auto_run\n",
    "    \n",
    "    @enable_auto_run.setter\n",
    "    def enable_auto_run(self, is_enable):\n",
    "        if self.passwd == '456':\n",
    "            self._enable_auto_run = is_enable\n",
    "        else:\n",
    "            raise ValueError\n",
    "        \n",
    "    def run(self):\n",
    "        print('super fast')\n",
    "    \n",
    "    def auto_run(self):\n",
    "        print('auto run')"
   ]
  },
  {
   "cell_type": "code",
   "execution_count": 41,
   "metadata": {},
   "outputs": [
    {
     "name": "stdout",
     "output_type": "stream",
     "text": [
      "False\n",
      "True\n"
     ]
    }
   ],
   "source": [
    "tesla_car = TeslaCar('Model S', passwd='456')\n",
    "print(tesla_car.enable_auto_run)\n",
    "tesla_car.enable_auto_run = True\n",
    "print(tesla_car.enable_auto_run)"
   ]
  },
  {
   "cell_type": "code",
   "execution_count": 42,
   "metadata": {},
   "outputs": [
    {
     "name": "stdout",
     "output_type": "stream",
     "text": [
      "False\n"
     ]
    },
    {
     "ename": "ValueError",
     "evalue": "",
     "output_type": "error",
     "traceback": [
      "\u001b[0;31m---------------------------------------------------------------------------\u001b[0m",
      "\u001b[0;31mValueError\u001b[0m                                Traceback (most recent call last)",
      "\u001b[0;32m<ipython-input-42-5f803e7d27e8>\u001b[0m in \u001b[0;36m<module>\u001b[0;34m()\u001b[0m\n\u001b[1;32m      1\u001b[0m \u001b[0mtesla_car\u001b[0m \u001b[0;34m=\u001b[0m \u001b[0mTeslaCar\u001b[0m\u001b[0;34m(\u001b[0m\u001b[0;34m'Model S'\u001b[0m\u001b[0;34m,\u001b[0m \u001b[0mpasswd\u001b[0m\u001b[0;34m=\u001b[0m\u001b[0;34m'111'\u001b[0m\u001b[0;34m)\u001b[0m\u001b[0;34m\u001b[0m\u001b[0m\n\u001b[1;32m      2\u001b[0m \u001b[0mprint\u001b[0m\u001b[0;34m(\u001b[0m\u001b[0mtesla_car\u001b[0m\u001b[0;34m.\u001b[0m\u001b[0menable_auto_run\u001b[0m\u001b[0;34m)\u001b[0m\u001b[0;34m\u001b[0m\u001b[0m\n\u001b[0;32m----> 3\u001b[0;31m \u001b[0mtesla_car\u001b[0m\u001b[0;34m.\u001b[0m\u001b[0menable_auto_run\u001b[0m \u001b[0;34m=\u001b[0m \u001b[0;32mTrue\u001b[0m\u001b[0;34m\u001b[0m\u001b[0m\n\u001b[0m\u001b[1;32m      4\u001b[0m \u001b[0mprint\u001b[0m\u001b[0;34m(\u001b[0m\u001b[0mtesla_car\u001b[0m\u001b[0;34m.\u001b[0m\u001b[0menable_auto_run\u001b[0m\u001b[0;34m)\u001b[0m\u001b[0;34m\u001b[0m\u001b[0m\n",
      "\u001b[0;32m<ipython-input-37-2f0bb513efe6>\u001b[0m in \u001b[0;36menable_auto_run\u001b[0;34m(self, is_enable)\u001b[0m\n\u001b[1;32m     16\u001b[0m             \u001b[0mself\u001b[0m\u001b[0;34m.\u001b[0m\u001b[0m_enable_auto_run\u001b[0m \u001b[0;34m=\u001b[0m \u001b[0mis_enable\u001b[0m\u001b[0;34m\u001b[0m\u001b[0m\n\u001b[1;32m     17\u001b[0m         \u001b[0;32melse\u001b[0m\u001b[0;34m:\u001b[0m\u001b[0;34m\u001b[0m\u001b[0m\n\u001b[0;32m---> 18\u001b[0;31m             \u001b[0;32mraise\u001b[0m \u001b[0mValueError\u001b[0m\u001b[0;34m\u001b[0m\u001b[0m\n\u001b[0m\u001b[1;32m     19\u001b[0m \u001b[0;34m\u001b[0m\u001b[0m\n\u001b[1;32m     20\u001b[0m     \u001b[0;32mdef\u001b[0m \u001b[0mrun\u001b[0m\u001b[0;34m(\u001b[0m\u001b[0mself\u001b[0m\u001b[0;34m)\u001b[0m\u001b[0;34m:\u001b[0m\u001b[0;34m\u001b[0m\u001b[0m\n",
      "\u001b[0;31mValueError\u001b[0m: "
     ]
    }
   ],
   "source": [
    "tesla_car = TeslaCar('Model S', passwd='111')\n",
    "print(tesla_car.enable_auto_run)\n",
    "tesla_car.enable_auto_run = True\n",
    "print(tesla_car.enable_auto_run)"
   ]
  },
  {
   "cell_type": "code",
   "execution_count": 43,
   "metadata": {},
   "outputs": [],
   "source": [
    "class TeslaCar(Car):\n",
    "    def __init__(self, model='Model S', \n",
    "                           enable_auto_run=False,\n",
    "                           passwd='123'):\n",
    "        super().__init__(model)\n",
    "        self.__enable_auto_run = enable_auto_run\n",
    "        self.passwd = passwd\n",
    "        \n",
    "    @property\n",
    "    def enable_auto_run(self):\n",
    "        return self._enable_auto_run\n",
    "    \n",
    "    @enable_auto_run.setter\n",
    "    def enable_auto_run(self, is_enable):\n",
    "        if self.passwd == '456':\n",
    "            self._enable_auto_run = is_enable\n",
    "        else:\n",
    "            raise ValueError\n",
    "        \n",
    "    def run(self):\n",
    "        print(self.__enable_auto_run)\n",
    "        print('super fast')\n",
    "    \n",
    "    def auto_run(self):\n",
    "        print('auto run')"
   ]
  },
  {
   "cell_type": "code",
   "execution_count": 44,
   "metadata": {},
   "outputs": [],
   "source": [
    "tesla_car = TeslaCar('Model S', passwd='111')"
   ]
  },
  {
   "cell_type": "code",
   "execution_count": 45,
   "metadata": {},
   "outputs": [
    {
     "name": "stdout",
     "output_type": "stream",
     "text": [
      "False\n",
      "super fast\n"
     ]
    }
   ],
   "source": [
    "tesla_car.run()"
   ]
  },
  {
   "cell_type": "code",
   "execution_count": 46,
   "metadata": {},
   "outputs": [
    {
     "ename": "AttributeError",
     "evalue": "'TeslaCar' object has no attribute '__enable_auto_run'",
     "output_type": "error",
     "traceback": [
      "\u001b[0;31m---------------------------------------------------------------------------\u001b[0m",
      "\u001b[0;31mAttributeError\u001b[0m                            Traceback (most recent call last)",
      "\u001b[0;32m<ipython-input-46-e32e38229d05>\u001b[0m in \u001b[0;36m<module>\u001b[0;34m()\u001b[0m\n\u001b[0;32m----> 1\u001b[0;31m \u001b[0mprint\u001b[0m\u001b[0;34m(\u001b[0m\u001b[0mtesla_car\u001b[0m\u001b[0;34m.\u001b[0m\u001b[0m__enable_auto_run\u001b[0m\u001b[0;34m)\u001b[0m\u001b[0;34m\u001b[0m\u001b[0m\n\u001b[0m",
      "\u001b[0;31mAttributeError\u001b[0m: 'TeslaCar' object has no attribute '__enable_auto_run'"
     ]
    }
   ],
   "source": [
    "print(tesla_car.__enable_auto_run)"
   ]
  },
  {
   "cell_type": "markdown",
   "metadata": {},
   "source": [
    "# Duck-typing"
   ]
  },
  {
   "cell_type": "code",
   "execution_count": 47,
   "metadata": {},
   "outputs": [],
   "source": [
    "class Person(object):\n",
    "    def __init__(self, age=1):\n",
    "        self.age = age\n",
    "        \n",
    "    def drive(self):\n",
    "        if self.age >= 18:\n",
    "            print('ok')\n",
    "        else:\n",
    "            raise Exception('No drive')\n",
    "\n",
    "class Baby(Person):\n",
    "    def __init__(self, age=1):\n",
    "        if age < 18:\n",
    "            super().__init__(age)\n",
    "        else:\n",
    "            raise ValueError\n",
    "\n",
    "class Adult(Person):\n",
    "    def __init__(self, age=18):\n",
    "        if age >=18:\n",
    "            super().__init__(age)\n",
    "        else:\n",
    "            raise ValueError\n",
    "\n",
    "class Car(object):\n",
    "    def __init__(self, model=None):\n",
    "        self.model = model\n",
    "\n",
    "    def run(self):\n",
    "        print('run')\n",
    "        \n",
    "    def ride(self, person):\n",
    "        person.drive()"
   ]
  },
  {
   "cell_type": "code",
   "execution_count": 49,
   "metadata": {},
   "outputs": [
    {
     "ename": "Exception",
     "evalue": "No drive",
     "output_type": "error",
     "traceback": [
      "\u001b[0;31m---------------------------------------------------------------------------\u001b[0m",
      "\u001b[0;31mException\u001b[0m                                 Traceback (most recent call last)",
      "\u001b[0;32m<ipython-input-49-a7acfd566eb6>\u001b[0m in \u001b[0;36m<module>\u001b[0;34m()\u001b[0m\n\u001b[1;32m      1\u001b[0m \u001b[0mbaby\u001b[0m \u001b[0;34m=\u001b[0m \u001b[0mBaby\u001b[0m\u001b[0;34m(\u001b[0m\u001b[0;34m)\u001b[0m\u001b[0;34m\u001b[0m\u001b[0m\n\u001b[0;32m----> 2\u001b[0;31m \u001b[0mbaby\u001b[0m\u001b[0;34m.\u001b[0m\u001b[0mdrive\u001b[0m\u001b[0;34m(\u001b[0m\u001b[0;34m)\u001b[0m\u001b[0;34m\u001b[0m\u001b[0m\n\u001b[0m",
      "\u001b[0;32m<ipython-input-47-916f03d8c955>\u001b[0m in \u001b[0;36mdrive\u001b[0;34m(self)\u001b[0m\n\u001b[1;32m      7\u001b[0m             \u001b[0mprint\u001b[0m\u001b[0;34m(\u001b[0m\u001b[0;34m'ok'\u001b[0m\u001b[0;34m)\u001b[0m\u001b[0;34m\u001b[0m\u001b[0m\n\u001b[1;32m      8\u001b[0m         \u001b[0;32melse\u001b[0m\u001b[0;34m:\u001b[0m\u001b[0;34m\u001b[0m\u001b[0m\n\u001b[0;32m----> 9\u001b[0;31m             \u001b[0;32mraise\u001b[0m \u001b[0mException\u001b[0m\u001b[0;34m(\u001b[0m\u001b[0;34m'No drive'\u001b[0m\u001b[0;34m)\u001b[0m\u001b[0;34m\u001b[0m\u001b[0m\n\u001b[0m\u001b[1;32m     10\u001b[0m \u001b[0;34m\u001b[0m\u001b[0m\n\u001b[1;32m     11\u001b[0m \u001b[0;32mclass\u001b[0m \u001b[0mBaby\u001b[0m\u001b[0;34m(\u001b[0m\u001b[0mPerson\u001b[0m\u001b[0;34m)\u001b[0m\u001b[0;34m:\u001b[0m\u001b[0;34m\u001b[0m\u001b[0m\n",
      "\u001b[0;31mException\u001b[0m: No drive"
     ]
    }
   ],
   "source": [
    "baby = Baby()\n",
    "baby.drive()"
   ]
  },
  {
   "cell_type": "code",
   "execution_count": 50,
   "metadata": {},
   "outputs": [
    {
     "name": "stdout",
     "output_type": "stream",
     "text": [
      "ok\n"
     ]
    }
   ],
   "source": [
    "adult = Adult()\n",
    "adult.drive()"
   ]
  },
  {
   "cell_type": "code",
   "execution_count": 51,
   "metadata": {},
   "outputs": [],
   "source": [
    "car = Car()"
   ]
  },
  {
   "cell_type": "code",
   "execution_count": 52,
   "metadata": {},
   "outputs": [
    {
     "ename": "Exception",
     "evalue": "No drive",
     "output_type": "error",
     "traceback": [
      "\u001b[0;31m---------------------------------------------------------------------------\u001b[0m",
      "\u001b[0;31mException\u001b[0m                                 Traceback (most recent call last)",
      "\u001b[0;32m<ipython-input-52-95b6d4d7571d>\u001b[0m in \u001b[0;36m<module>\u001b[0;34m()\u001b[0m\n\u001b[0;32m----> 1\u001b[0;31m \u001b[0mcar\u001b[0m\u001b[0;34m.\u001b[0m\u001b[0mride\u001b[0m\u001b[0;34m(\u001b[0m\u001b[0mbaby\u001b[0m\u001b[0;34m)\u001b[0m\u001b[0;34m\u001b[0m\u001b[0m\n\u001b[0m",
      "\u001b[0;32m<ipython-input-47-916f03d8c955>\u001b[0m in \u001b[0;36mride\u001b[0;34m(self, person)\u001b[0m\n\u001b[1;32m     31\u001b[0m \u001b[0;34m\u001b[0m\u001b[0m\n\u001b[1;32m     32\u001b[0m     \u001b[0;32mdef\u001b[0m \u001b[0mride\u001b[0m\u001b[0;34m(\u001b[0m\u001b[0mself\u001b[0m\u001b[0;34m,\u001b[0m \u001b[0mperson\u001b[0m\u001b[0;34m)\u001b[0m\u001b[0;34m:\u001b[0m\u001b[0;34m\u001b[0m\u001b[0m\n\u001b[0;32m---> 33\u001b[0;31m         \u001b[0mperson\u001b[0m\u001b[0;34m.\u001b[0m\u001b[0mdrive\u001b[0m\u001b[0;34m(\u001b[0m\u001b[0;34m)\u001b[0m\u001b[0;34m\u001b[0m\u001b[0m\n\u001b[0m",
      "\u001b[0;32m<ipython-input-47-916f03d8c955>\u001b[0m in \u001b[0;36mdrive\u001b[0;34m(self)\u001b[0m\n\u001b[1;32m      7\u001b[0m             \u001b[0mprint\u001b[0m\u001b[0;34m(\u001b[0m\u001b[0;34m'ok'\u001b[0m\u001b[0;34m)\u001b[0m\u001b[0;34m\u001b[0m\u001b[0m\n\u001b[1;32m      8\u001b[0m         \u001b[0;32melse\u001b[0m\u001b[0;34m:\u001b[0m\u001b[0;34m\u001b[0m\u001b[0m\n\u001b[0;32m----> 9\u001b[0;31m             \u001b[0;32mraise\u001b[0m \u001b[0mException\u001b[0m\u001b[0;34m(\u001b[0m\u001b[0;34m'No drive'\u001b[0m\u001b[0;34m)\u001b[0m\u001b[0;34m\u001b[0m\u001b[0m\n\u001b[0m\u001b[1;32m     10\u001b[0m \u001b[0;34m\u001b[0m\u001b[0m\n\u001b[1;32m     11\u001b[0m \u001b[0;32mclass\u001b[0m \u001b[0mBaby\u001b[0m\u001b[0;34m(\u001b[0m\u001b[0mPerson\u001b[0m\u001b[0;34m)\u001b[0m\u001b[0;34m:\u001b[0m\u001b[0;34m\u001b[0m\u001b[0m\n",
      "\u001b[0;31mException\u001b[0m: No drive"
     ]
    }
   ],
   "source": [
    "car.ride(baby)"
   ]
  },
  {
   "cell_type": "code",
   "execution_count": 53,
   "metadata": {},
   "outputs": [
    {
     "name": "stdout",
     "output_type": "stream",
     "text": [
      "ok\n"
     ]
    }
   ],
   "source": [
    "car.ride(adult)"
   ]
  },
  {
   "cell_type": "markdown",
   "metadata": {},
   "source": [
    "# Abstract Class"
   ]
  },
  {
   "cell_type": "code",
   "execution_count": 56,
   "metadata": {},
   "outputs": [],
   "source": [
    "import abc\n",
    "\n",
    "class Person(metaclass=abc.ABCMeta):\n",
    "    def __init__(self, age=1):\n",
    "        self.age = age\n",
    "        \n",
    "    @abc.abstractmethod\n",
    "    def drive(self):\n",
    "        pass\n",
    "\n",
    "class Baby(Person):\n",
    "    def __init__(self, age=1):\n",
    "        if age < 18:\n",
    "            super().__init__(age)\n",
    "        else:\n",
    "            raise ValueError\n",
    "            \n",
    "    def drive(self):\n",
    "        raise Exception('No drive')\n",
    "\n",
    "class Adult(Person):\n",
    "    def __init__(self, age=18):\n",
    "        if age >=18:\n",
    "            super().__init__(age)\n",
    "        else:\n",
    "            raise ValueError\n",
    "            \n",
    "    #def drive(self):\n",
    "        #print('ok')\n",
    "\n",
    "class Car(object):\n",
    "    def __init__(self, model=None):\n",
    "        self.model = model\n",
    "        \n",
    "    def ride(self, person):\n",
    "        person.drive()"
   ]
  },
  {
   "cell_type": "code",
   "execution_count": 57,
   "metadata": {},
   "outputs": [
    {
     "ename": "TypeError",
     "evalue": "Can't instantiate abstract class Adult with abstract methods drive",
     "output_type": "error",
     "traceback": [
      "\u001b[0;31m---------------------------------------------------------------------------\u001b[0m",
      "\u001b[0;31mTypeError\u001b[0m                                 Traceback (most recent call last)",
      "\u001b[0;32m<ipython-input-57-fa76b2375dc5>\u001b[0m in \u001b[0;36m<module>\u001b[0;34m()\u001b[0m\n\u001b[0;32m----> 1\u001b[0;31m \u001b[0madult\u001b[0m \u001b[0;34m=\u001b[0m \u001b[0mAdult\u001b[0m\u001b[0;34m(\u001b[0m\u001b[0;34m)\u001b[0m\u001b[0;34m\u001b[0m\u001b[0m\n\u001b[0m",
      "\u001b[0;31mTypeError\u001b[0m: Can't instantiate abstract class Adult with abstract methods drive"
     ]
    }
   ],
   "source": [
    "adult = Adult()"
   ]
  },
  {
   "cell_type": "markdown",
   "metadata": {},
   "source": [
    "# Multiple Inheritance"
   ]
  },
  {
   "cell_type": "code",
   "execution_count": 58,
   "metadata": {},
   "outputs": [],
   "source": [
    "class Person(object):\n",
    "    def talk(self):\n",
    "        print('talk')\n",
    "\n",
    "class Car(object):\n",
    "    def run(self):\n",
    "        print('run')\n",
    "    \n",
    "class PersonCarRobot(Person, Car):\n",
    "    def fly(self):\n",
    "        print('fly')"
   ]
  },
  {
   "cell_type": "code",
   "execution_count": 59,
   "metadata": {},
   "outputs": [
    {
     "name": "stdout",
     "output_type": "stream",
     "text": [
      "talk\n",
      "run\n",
      "fly\n"
     ]
    }
   ],
   "source": [
    "person_car_robot = PersonCarRobot()\n",
    "person_car_robot.talk()\n",
    "person_car_robot.run()\n",
    "person_car_robot.fly()"
   ]
  },
  {
   "cell_type": "code",
   "execution_count": 66,
   "metadata": {},
   "outputs": [],
   "source": [
    "class Person(object):\n",
    "    def talk(self):\n",
    "        print('talk')\n",
    "        \n",
    "    def run(self):\n",
    "        print('person run')\n",
    "\n",
    "class Car(object):\n",
    "    def run(self):\n",
    "        print('car run')\n",
    "    \n",
    "class PersonCarRobot(Person, Car):\n",
    "    def fly(self):\n",
    "        print('fly')"
   ]
  },
  {
   "cell_type": "code",
   "execution_count": 67,
   "metadata": {},
   "outputs": [
    {
     "name": "stdout",
     "output_type": "stream",
     "text": [
      "talk\n",
      "person run\n",
      "fly\n"
     ]
    }
   ],
   "source": [
    "person_car_robot = PersonCarRobot()\n",
    "person_car_robot.talk()\n",
    "person_car_robot.run()\n",
    "person_car_robot.fly()"
   ]
  },
  {
   "cell_type": "code",
   "execution_count": 68,
   "metadata": {},
   "outputs": [],
   "source": [
    "class Person(object):\n",
    "    def talk(self):\n",
    "        print('talk')\n",
    "        \n",
    "    def run(self):\n",
    "        print('person run')\n",
    "\n",
    "class Car(object):\n",
    "    def run(self):\n",
    "        print('car run')\n",
    "    \n",
    "class PersonCarRobot(Car, Person):\n",
    "    def fly(self):\n",
    "        print('fly')"
   ]
  },
  {
   "cell_type": "code",
   "execution_count": 69,
   "metadata": {},
   "outputs": [
    {
     "name": "stdout",
     "output_type": "stream",
     "text": [
      "talk\n",
      "car run\n",
      "fly\n"
     ]
    }
   ],
   "source": [
    "person_car_robot = PersonCarRobot()\n",
    "person_car_robot.talk()\n",
    "person_car_robot.run()\n",
    "person_car_robot.fly()"
   ]
  },
  {
   "cell_type": "markdown",
   "metadata": {},
   "source": [
    "# Class Variable"
   ]
  },
  {
   "cell_type": "code",
   "execution_count": 70,
   "metadata": {},
   "outputs": [],
   "source": [
    "class Person(object):\n",
    "    def __init__(self,name):\n",
    "        self.kind = 'human'\n",
    "        self.name = name\n",
    "        \n",
    "    def who_are_you(self):\n",
    "        print(self.name, self.kind)"
   ]
  },
  {
   "cell_type": "code",
   "execution_count": 71,
   "metadata": {},
   "outputs": [
    {
     "name": "stdout",
     "output_type": "stream",
     "text": [
      "A human\n"
     ]
    }
   ],
   "source": [
    "a = Person('A')\n",
    "a.who_are_you()"
   ]
  },
  {
   "cell_type": "code",
   "execution_count": 72,
   "metadata": {},
   "outputs": [
    {
     "name": "stdout",
     "output_type": "stream",
     "text": [
      "B human\n"
     ]
    }
   ],
   "source": [
    "b = Person('B')\n",
    "b.who_are_you()"
   ]
  },
  {
   "cell_type": "code",
   "execution_count": 73,
   "metadata": {},
   "outputs": [],
   "source": [
    "class Person(object):\n",
    "    kind = 'human'\n",
    "    \n",
    "    def __init__(self,name):\n",
    "        self.name = name\n",
    "        \n",
    "    def who_are_you(self):\n",
    "        print(self.name, self.kind)"
   ]
  },
  {
   "cell_type": "code",
   "execution_count": 74,
   "metadata": {},
   "outputs": [
    {
     "name": "stdout",
     "output_type": "stream",
     "text": [
      "A human\n"
     ]
    }
   ],
   "source": [
    "a = Person('A')\n",
    "a.who_are_you()"
   ]
  },
  {
   "cell_type": "code",
   "execution_count": 75,
   "metadata": {},
   "outputs": [
    {
     "name": "stdout",
     "output_type": "stream",
     "text": [
      "B human\n"
     ]
    }
   ],
   "source": [
    "b = Person('B')\n",
    "b.who_are_you()"
   ]
  },
  {
   "cell_type": "code",
   "execution_count": 76,
   "metadata": {},
   "outputs": [],
   "source": [
    "class T(object):\n",
    "    words = []\n",
    "    \n",
    "    def add_word(self, word):\n",
    "        self.words.append(word)"
   ]
  },
  {
   "cell_type": "code",
   "execution_count": 77,
   "metadata": {},
   "outputs": [],
   "source": [
    "c = T()\n",
    "c.add_word('add 1')\n",
    "c.add_word('add 2')"
   ]
  },
  {
   "cell_type": "code",
   "execution_count": 78,
   "metadata": {},
   "outputs": [
    {
     "name": "stdout",
     "output_type": "stream",
     "text": [
      "['add 1', 'add 2']\n"
     ]
    }
   ],
   "source": [
    "print(c.words)"
   ]
  },
  {
   "cell_type": "code",
   "execution_count": 79,
   "metadata": {},
   "outputs": [],
   "source": [
    "d = T()\n",
    "d.add_word('add 3')\n",
    "d.add_word('add 4')"
   ]
  },
  {
   "cell_type": "code",
   "execution_count": 80,
   "metadata": {},
   "outputs": [
    {
     "name": "stdout",
     "output_type": "stream",
     "text": [
      "['add 1', 'add 2', 'add 3', 'add 4']\n"
     ]
    }
   ],
   "source": [
    "print(d.words)"
   ]
  },
  {
   "cell_type": "code",
   "execution_count": 81,
   "metadata": {},
   "outputs": [
    {
     "name": "stdout",
     "output_type": "stream",
     "text": [
      "['add 1', 'add 2', 'add 3', 'add 4']\n"
     ]
    }
   ],
   "source": [
    "print(c.words)"
   ]
  },
  {
   "cell_type": "code",
   "execution_count": 82,
   "metadata": {},
   "outputs": [],
   "source": [
    "class T(object):\n",
    "    def __init__(self):\n",
    "        self.words = []\n",
    "    \n",
    "    def add_word(self, word):\n",
    "        self.words.append(word)"
   ]
  },
  {
   "cell_type": "code",
   "execution_count": 83,
   "metadata": {},
   "outputs": [],
   "source": [
    "c = T()\n",
    "c.add_word('add 1')\n",
    "c.add_word('add 2')"
   ]
  },
  {
   "cell_type": "code",
   "execution_count": 84,
   "metadata": {},
   "outputs": [],
   "source": [
    "d = T()\n",
    "d.add_word('add 3')\n",
    "d.add_word('add 4')"
   ]
  },
  {
   "cell_type": "code",
   "execution_count": 85,
   "metadata": {},
   "outputs": [
    {
     "name": "stdout",
     "output_type": "stream",
     "text": [
      "['add 1', 'add 2']\n"
     ]
    }
   ],
   "source": [
    "print(c.words)"
   ]
  },
  {
   "cell_type": "code",
   "execution_count": 86,
   "metadata": {},
   "outputs": [
    {
     "name": "stdout",
     "output_type": "stream",
     "text": [
      "['add 3', 'add 4']\n"
     ]
    }
   ],
   "source": [
    "print(d.words)"
   ]
  },
  {
   "cell_type": "markdown",
   "metadata": {},
   "source": [
    "# Class Method, Static Method"
   ]
  },
  {
   "cell_type": "code",
   "execution_count": 87,
   "metadata": {},
   "outputs": [],
   "source": [
    "class Person(object):\n",
    "    kind = 'human'\n",
    "    \n",
    "    def __init__(self):\n",
    "        self.x = 100"
   ]
  },
  {
   "cell_type": "code",
   "execution_count": 88,
   "metadata": {},
   "outputs": [
    {
     "name": "stdout",
     "output_type": "stream",
     "text": [
      "<__main__.Person object at 0x10c20eda0>\n",
      "<class '__main__.Person'>\n"
     ]
    }
   ],
   "source": [
    "a = Person()\n",
    "print(a)\n",
    "b = Person\n",
    "print(b)"
   ]
  },
  {
   "cell_type": "code",
   "execution_count": 89,
   "metadata": {},
   "outputs": [
    {
     "name": "stdout",
     "output_type": "stream",
     "text": [
      "100\n"
     ]
    }
   ],
   "source": [
    "print(a.x)"
   ]
  },
  {
   "cell_type": "code",
   "execution_count": 90,
   "metadata": {},
   "outputs": [
    {
     "ename": "AttributeError",
     "evalue": "type object 'Person' has no attribute 'x'",
     "output_type": "error",
     "traceback": [
      "\u001b[0;31m---------------------------------------------------------------------------\u001b[0m",
      "\u001b[0;31mAttributeError\u001b[0m                            Traceback (most recent call last)",
      "\u001b[0;32m<ipython-input-90-a5a627eb78d5>\u001b[0m in \u001b[0;36m<module>\u001b[0;34m()\u001b[0m\n\u001b[0;32m----> 1\u001b[0;31m \u001b[0mprint\u001b[0m\u001b[0;34m(\u001b[0m\u001b[0mb\u001b[0m\u001b[0;34m.\u001b[0m\u001b[0mx\u001b[0m\u001b[0;34m)\u001b[0m\u001b[0;34m\u001b[0m\u001b[0m\n\u001b[0m",
      "\u001b[0;31mAttributeError\u001b[0m: type object 'Person' has no attribute 'x'"
     ]
    }
   ],
   "source": [
    "print(b.x)"
   ]
  },
  {
   "cell_type": "code",
   "execution_count": 91,
   "metadata": {},
   "outputs": [
    {
     "name": "stdout",
     "output_type": "stream",
     "text": [
      "human\n"
     ]
    }
   ],
   "source": [
    "print(a.kind)"
   ]
  },
  {
   "cell_type": "code",
   "execution_count": 92,
   "metadata": {},
   "outputs": [
    {
     "name": "stdout",
     "output_type": "stream",
     "text": [
      "human\n"
     ]
    }
   ],
   "source": [
    "print(b.kind)"
   ]
  },
  {
   "cell_type": "code",
   "execution_count": 93,
   "metadata": {},
   "outputs": [],
   "source": [
    "class Person(object):\n",
    "    kind = 'human'\n",
    "    \n",
    "    def __init__(self):\n",
    "        self.x = 100\n",
    "        \n",
    "    def what_is_your_kind(self):\n",
    "        return self.kind"
   ]
  },
  {
   "cell_type": "code",
   "execution_count": 94,
   "metadata": {},
   "outputs": [
    {
     "name": "stdout",
     "output_type": "stream",
     "text": [
      "human\n"
     ]
    }
   ],
   "source": [
    "a = Person()\n",
    "print(a.what_is_your_kind())"
   ]
  },
  {
   "cell_type": "code",
   "execution_count": 95,
   "metadata": {},
   "outputs": [
    {
     "ename": "TypeError",
     "evalue": "what_is_your_kind() missing 1 required positional argument: 'self'",
     "output_type": "error",
     "traceback": [
      "\u001b[0;31m---------------------------------------------------------------------------\u001b[0m",
      "\u001b[0;31mTypeError\u001b[0m                                 Traceback (most recent call last)",
      "\u001b[0;32m<ipython-input-95-b1bf7add210d>\u001b[0m in \u001b[0;36m<module>\u001b[0;34m()\u001b[0m\n\u001b[1;32m      1\u001b[0m \u001b[0mb\u001b[0m \u001b[0;34m=\u001b[0m \u001b[0mPerson\u001b[0m\u001b[0;34m\u001b[0m\u001b[0m\n\u001b[0;32m----> 2\u001b[0;31m \u001b[0mprint\u001b[0m\u001b[0;34m(\u001b[0m\u001b[0mb\u001b[0m\u001b[0;34m.\u001b[0m\u001b[0mwhat_is_your_kind\u001b[0m\u001b[0;34m(\u001b[0m\u001b[0;34m)\u001b[0m\u001b[0;34m)\u001b[0m\u001b[0;34m\u001b[0m\u001b[0m\n\u001b[0m",
      "\u001b[0;31mTypeError\u001b[0m: what_is_your_kind() missing 1 required positional argument: 'self'"
     ]
    }
   ],
   "source": [
    "b = Person\n",
    "print(b.what_is_your_kind())"
   ]
  },
  {
   "cell_type": "code",
   "execution_count": 96,
   "metadata": {},
   "outputs": [],
   "source": [
    "class Person(object):\n",
    "    kind = 'human'\n",
    "    \n",
    "    def __init__(self):\n",
    "        self.x = 100\n",
    "        \n",
    "    @classmethod\n",
    "    def what_is_your_kind(cls):\n",
    "        return cls.kind"
   ]
  },
  {
   "cell_type": "code",
   "execution_count": 97,
   "metadata": {},
   "outputs": [
    {
     "name": "stdout",
     "output_type": "stream",
     "text": [
      "human\n"
     ]
    }
   ],
   "source": [
    "a = Person()\n",
    "print(a.what_is_your_kind())"
   ]
  },
  {
   "cell_type": "code",
   "execution_count": 98,
   "metadata": {},
   "outputs": [
    {
     "name": "stdout",
     "output_type": "stream",
     "text": [
      "human\n"
     ]
    }
   ],
   "source": [
    "b = Person\n",
    "print(b.what_is_your_kind())"
   ]
  },
  {
   "cell_type": "code",
   "execution_count": 99,
   "metadata": {},
   "outputs": [
    {
     "name": "stdout",
     "output_type": "stream",
     "text": [
      "human\n"
     ]
    }
   ],
   "source": [
    "print(Person.kind)"
   ]
  },
  {
   "cell_type": "code",
   "execution_count": 100,
   "metadata": {},
   "outputs": [
    {
     "name": "stdout",
     "output_type": "stream",
     "text": [
      "human\n"
     ]
    }
   ],
   "source": [
    "print(Person.what_is_your_kind())"
   ]
  },
  {
   "cell_type": "code",
   "execution_count": 101,
   "metadata": {},
   "outputs": [],
   "source": [
    "class Person(object):\n",
    "    kind = 'human'\n",
    "    \n",
    "    def __init__(self):\n",
    "        self.x = 100\n",
    "        \n",
    "    @classmethod\n",
    "    def what_is_your_kind(cls):\n",
    "        return cls.kind\n",
    "    \n",
    "    @staticmethod\n",
    "    def about():\n",
    "        print('about human')"
   ]
  },
  {
   "cell_type": "code",
   "execution_count": 102,
   "metadata": {},
   "outputs": [
    {
     "name": "stdout",
     "output_type": "stream",
     "text": [
      "about human\n"
     ]
    }
   ],
   "source": [
    "Person.about()"
   ]
  },
  {
   "cell_type": "code",
   "execution_count": 103,
   "metadata": {},
   "outputs": [],
   "source": [
    "class Person(object):\n",
    "    kind = 'human'\n",
    "    \n",
    "    def __init__(self):\n",
    "        self.x = 100\n",
    "        \n",
    "    @classmethod\n",
    "    def what_is_your_kind(cls):\n",
    "        return cls.kind\n",
    "    \n",
    "    @staticmethod\n",
    "    def about(year):\n",
    "        print(f'about human {year}')"
   ]
  },
  {
   "cell_type": "code",
   "execution_count": 104,
   "metadata": {},
   "outputs": [
    {
     "ename": "TypeError",
     "evalue": "about() missing 1 required positional argument: 'year'",
     "output_type": "error",
     "traceback": [
      "\u001b[0;31m---------------------------------------------------------------------------\u001b[0m",
      "\u001b[0;31mTypeError\u001b[0m                                 Traceback (most recent call last)",
      "\u001b[0;32m<ipython-input-104-48466c4b9cda>\u001b[0m in \u001b[0;36m<module>\u001b[0;34m()\u001b[0m\n\u001b[0;32m----> 1\u001b[0;31m \u001b[0mPerson\u001b[0m\u001b[0;34m.\u001b[0m\u001b[0mabout\u001b[0m\u001b[0;34m(\u001b[0m\u001b[0;34m)\u001b[0m\u001b[0;34m\u001b[0m\u001b[0m\n\u001b[0m",
      "\u001b[0;31mTypeError\u001b[0m: about() missing 1 required positional argument: 'year'"
     ]
    }
   ],
   "source": [
    "Person.about()"
   ]
  },
  {
   "cell_type": "code",
   "execution_count": 105,
   "metadata": {},
   "outputs": [
    {
     "name": "stdout",
     "output_type": "stream",
     "text": [
      "about human 1993\n"
     ]
    }
   ],
   "source": [
    "Person.about(1993)"
   ]
  },
  {
   "cell_type": "markdown",
   "metadata": {},
   "source": [
    "# Special Method"
   ]
  },
  {
   "cell_type": "code",
   "execution_count": 119,
   "metadata": {},
   "outputs": [],
   "source": [
    "class Word(object):\n",
    "    def __init__(self, text):\n",
    "        self.text = text\n",
    "    \n",
    "    def __str__(self):\n",
    "        return 'Word!!!!!'\n",
    "    \n",
    "    def __len__(self):\n",
    "        return len(self.text)\n",
    "    \n",
    "    def __add__(self, word):\n",
    "        return self.text.lower() + word.text.lower()\n",
    "    \n",
    "    def __eq__(self, word):\n",
    "        return self.text.lower() == word.text.lower()"
   ]
  },
  {
   "cell_type": "code",
   "execution_count": 120,
   "metadata": {},
   "outputs": [],
   "source": [
    "w = Word('test')"
   ]
  },
  {
   "cell_type": "code",
   "execution_count": 121,
   "metadata": {},
   "outputs": [
    {
     "name": "stdout",
     "output_type": "stream",
     "text": [
      "Word!!!!!\n"
     ]
    }
   ],
   "source": [
    "print(w)"
   ]
  },
  {
   "cell_type": "code",
   "execution_count": 122,
   "metadata": {},
   "outputs": [
    {
     "name": "stdout",
     "output_type": "stream",
     "text": [
      "4\n"
     ]
    }
   ],
   "source": [
    "print(len(w))"
   ]
  },
  {
   "cell_type": "code",
   "execution_count": 123,
   "metadata": {},
   "outputs": [],
   "source": [
    "w2 = Word('##################')"
   ]
  },
  {
   "cell_type": "code",
   "execution_count": 124,
   "metadata": {},
   "outputs": [
    {
     "name": "stdout",
     "output_type": "stream",
     "text": [
      "test##################\n"
     ]
    }
   ],
   "source": [
    "print(w + w2)"
   ]
  },
  {
   "cell_type": "code",
   "execution_count": 125,
   "metadata": {},
   "outputs": [
    {
     "name": "stdout",
     "output_type": "stream",
     "text": [
      "False\n"
     ]
    }
   ],
   "source": [
    "print(w == w2)"
   ]
  },
  {
   "cell_type": "code",
   "execution_count": 126,
   "metadata": {},
   "outputs": [],
   "source": [
    "w3 = Word('test')"
   ]
  },
  {
   "cell_type": "code",
   "execution_count": 127,
   "metadata": {},
   "outputs": [
    {
     "name": "stdout",
     "output_type": "stream",
     "text": [
      "True\n"
     ]
    }
   ],
   "source": [
    "print(w == w3)"
   ]
  }
 ],
 "metadata": {
  "kernelspec": {
   "display_name": "Python 3",
   "language": "python",
   "name": "python3"
  },
  "language_info": {
   "codemirror_mode": {
    "name": "ipython",
    "version": 3
   },
   "file_extension": ".py",
   "mimetype": "text/x-python",
   "name": "python",
   "nbconvert_exporter": "python",
   "pygments_lexer": "ipython3",
   "version": "3.6.6"
  }
 },
 "nbformat": 4,
 "nbformat_minor": 2
}
