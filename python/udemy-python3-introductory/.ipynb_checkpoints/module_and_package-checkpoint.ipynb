{
 "cells": [
  {
   "cell_type": "markdown",
   "metadata": {},
   "source": [
    "# Built-in Function"
   ]
  },
  {
   "cell_type": "code",
   "execution_count": 2,
   "metadata": {},
   "outputs": [
    {
     "name": "stdout",
     "output_type": "stream",
     "text": [
      "{'__name__': '__main__', '__doc__': 'Automatically created module for IPython interactive environment', '__package__': None, '__loader__': None, '__spec__': None, '__builtin__': <module 'builtins' (built-in)>, '__builtins__': <module 'builtins' (built-in)>, '_ih': ['', 'pirnt(globals())', 'print(globals())'], '_oh': {}, '_dh': ['/Users/takahiro/Practice/memo/python/udemy-python3-introductory'], 'In': ['', 'pirnt(globals())', 'print(globals())'], 'Out': {}, 'get_ipython': <bound method InteractiveShell.get_ipython of <ipykernel.zmqshell.ZMQInteractiveShell object at 0x1058af898>>, 'exit': <IPython.core.autocall.ZMQExitAutocall object at 0x105918e10>, 'quit': <IPython.core.autocall.ZMQExitAutocall object at 0x105918e10>, '_': '', '__': '', '___': '', '_i': 'pirnt(globals())', '_ii': '', '_iii': '', '_i1': 'pirnt(globals())', '_i2': 'print(globals())'}\n"
     ]
    }
   ],
   "source": [
    "print(globals())"
   ]
  },
  {
   "cell_type": "code",
   "execution_count": 3,
   "metadata": {},
   "outputs": [],
   "source": [
    "ranking = {\n",
    "    'A' : 100,\n",
    "    'B' : 85,\n",
    "    'C' : 95\n",
    "}"
   ]
  },
  {
   "cell_type": "code",
   "execution_count": 4,
   "metadata": {},
   "outputs": [
    {
     "name": "stdout",
     "output_type": "stream",
     "text": [
      "A\n",
      "B\n",
      "C\n"
     ]
    }
   ],
   "source": [
    "for key in ranking:\n",
    "    print(key)"
   ]
  },
  {
   "cell_type": "code",
   "execution_count": 5,
   "metadata": {},
   "outputs": [
    {
     "name": "stdout",
     "output_type": "stream",
     "text": [
      "['A', 'B', 'C']\n"
     ]
    }
   ],
   "source": [
    "print(sorted(ranking))"
   ]
  },
  {
   "cell_type": "code",
   "execution_count": 6,
   "metadata": {},
   "outputs": [
    {
     "name": "stdout",
     "output_type": "stream",
     "text": [
      "['B', 'C', 'A']\n"
     ]
    }
   ],
   "source": [
    "print(sorted(ranking, key=ranking.get))"
   ]
  },
  {
   "cell_type": "code",
   "execution_count": 7,
   "metadata": {},
   "outputs": [
    {
     "name": "stdout",
     "output_type": "stream",
     "text": [
      "['A', 'C', 'B']\n"
     ]
    }
   ],
   "source": [
    "print(sorted(ranking, key=ranking.get, reverse=True))"
   ]
  },
  {
   "cell_type": "markdown",
   "metadata": {},
   "source": [
    "# Standard Library"
   ]
  },
  {
   "cell_type": "code",
   "execution_count": 8,
   "metadata": {},
   "outputs": [],
   "source": [
    "s = \"falkfalknsg;dfjloddfja;sflsoidjga;sgjdf;ofj\""
   ]
  },
  {
   "cell_type": "code",
   "execution_count": 12,
   "metadata": {},
   "outputs": [
    {
     "name": "stdout",
     "output_type": "stream",
     "text": [
      "{'f': 7, 'a': 4, 'l': 4, 'k': 2, 'n': 1, 's': 4, 'g': 3, ';': 4, 'd': 5, 'j': 5, 'o': 3, 'i': 1}\n",
      "<class 'dict'>\n"
     ]
    }
   ],
   "source": [
    "d = {}\n",
    "for c in s:\n",
    "    if c not in d:\n",
    "        d[c] = 0\n",
    "    d[c] += 1\n",
    "print(d)\n",
    "print(type(d))"
   ]
  },
  {
   "cell_type": "code",
   "execution_count": 13,
   "metadata": {},
   "outputs": [
    {
     "name": "stdout",
     "output_type": "stream",
     "text": [
      "{'f': 7, 'a': 4, 'l': 4, 'k': 2, 'n': 1, 's': 4, 'g': 3, ';': 4, 'd': 5, 'j': 5, 'o': 3, 'i': 1}\n",
      "<class 'dict'>\n"
     ]
    }
   ],
   "source": [
    "d = {}\n",
    "for c in s:\n",
    "    d.setdefault(c, 0)\n",
    "    d[c] += 1\n",
    "print(d)\n",
    "print(type(d))"
   ]
  },
  {
   "cell_type": "code",
   "execution_count": 14,
   "metadata": {},
   "outputs": [],
   "source": [
    "from collections import defaultdict"
   ]
  },
  {
   "cell_type": "code",
   "execution_count": 15,
   "metadata": {},
   "outputs": [
    {
     "name": "stdout",
     "output_type": "stream",
     "text": [
      "defaultdict(<class 'int'>, {'f': 7, 'a': 4, 'l': 4, 'k': 2, 'n': 1, 's': 4, 'g': 3, ';': 4, 'd': 5, 'j': 5, 'o': 3, 'i': 1})\n",
      "<class 'collections.defaultdict'>\n"
     ]
    }
   ],
   "source": [
    "d = defaultdict(int)\n",
    "\n",
    "for c in s:\n",
    "    d[c] += 1\n",
    "\n",
    "print(d)\n",
    "print(type(d))"
   ]
  },
  {
   "cell_type": "code",
   "execution_count": 16,
   "metadata": {},
   "outputs": [
    {
     "name": "stdout",
     "output_type": "stream",
     "text": [
      "7\n"
     ]
    }
   ],
   "source": [
    "print(d['f'])"
   ]
  },
  {
   "cell_type": "code",
   "execution_count": 17,
   "metadata": {},
   "outputs": [
    {
     "name": "stdout",
     "output_type": "stream",
     "text": [
      "0\n"
     ]
    }
   ],
   "source": [
    "print(d['+'])"
   ]
  },
  {
   "cell_type": "markdown",
   "metadata": {},
   "source": [
    "# Third Party's Libraty"
   ]
  },
  {
   "cell_type": "code",
   "execution_count": 18,
   "metadata": {},
   "outputs": [],
   "source": [
    "from termcolor import colored"
   ]
  },
  {
   "cell_type": "code",
   "execution_count": 19,
   "metadata": {},
   "outputs": [
    {
     "name": "stdout",
     "output_type": "stream",
     "text": [
      "test\n"
     ]
    }
   ],
   "source": [
    "print('test')"
   ]
  },
  {
   "cell_type": "code",
   "execution_count": 20,
   "metadata": {},
   "outputs": [
    {
     "name": "stdout",
     "output_type": "stream",
     "text": [
      "\u001b[31mtest\u001b[0m\n"
     ]
    }
   ],
   "source": [
    "print(colored('test', 'red'))"
   ]
  },
  {
   "cell_type": "code",
   "execution_count": 21,
   "metadata": {},
   "outputs": [
    {
     "name": "stdout",
     "output_type": "stream",
     "text": [
      "Help on function colored in module termcolor:\n",
      "\n",
      "colored(text, color=None, on_color=None, attrs=None)\n",
      "    Colorize text.\n",
      "    \n",
      "    Available text colors:\n",
      "        red, green, yellow, blue, magenta, cyan, white.\n",
      "    \n",
      "    Available text highlights:\n",
      "        on_red, on_green, on_yellow, on_blue, on_magenta, on_cyan, on_white.\n",
      "    \n",
      "    Available attributes:\n",
      "        bold, dark, underline, blink, reverse, concealed.\n",
      "    \n",
      "    Example:\n",
      "        colored('Hello, World!', 'red', 'on_grey', ['blue', 'blink'])\n",
      "        colored('Hello, World!', 'green')\n",
      "\n",
      "None\n"
     ]
    }
   ],
   "source": [
    "print(help(colored))"
   ]
  },
  {
   "cell_type": "code",
   "execution_count": 31,
   "metadata": {},
   "outputs": [
    {
     "name": "stdout",
     "output_type": "stream",
     "text": [
      "\u001b[43m\u001b[37mtest\u001b[0m\n"
     ]
    }
   ],
   "source": [
    "print(colored('test', 'white','on_yellow'))"
   ]
  },
  {
   "cell_type": "markdown",
   "metadata": {},
   "source": [
    "# Others"
   ]
  },
  {
   "cell_type": "code",
   "execution_count": 36,
   "metadata": {},
   "outputs": [
    {
     "name": "stdout",
     "output_type": "stream",
     "text": [
      "/Users/takahiro/.pyenv/versions/anaconda3-5.2.0/lib/python3.6/collections/__init__.py\n"
     ]
    }
   ],
   "source": [
    "import collections\n",
    "print(collections.__file__)"
   ]
  },
  {
   "cell_type": "code",
   "execution_count": 37,
   "metadata": {},
   "outputs": [
    {
     "name": "stdout",
     "output_type": "stream",
     "text": [
      "/Users/takahiro/.pyenv/versions/anaconda3-5.2.0/lib/python3.6/site-packages/termcolor.py\n"
     ]
    }
   ],
   "source": [
    "import termcolor\n",
    "print(termcolor.__file__)"
   ]
  },
  {
   "cell_type": "code",
   "execution_count": 35,
   "metadata": {},
   "outputs": [
    {
     "name": "stdout",
     "output_type": "stream",
     "text": [
      "['', '/Users/takahiro/.pyenv/versions/anaconda3-5.2.0/lib/python36.zip', '/Users/takahiro/.pyenv/versions/anaconda3-5.2.0/lib/python3.6', '/Users/takahiro/.pyenv/versions/anaconda3-5.2.0/lib/python3.6/lib-dynload', '/Users/takahiro/.local/lib/python3.6/site-packages', '/Users/takahiro/.pyenv/versions/anaconda3-5.2.0/lib/python3.6/site-packages', '/Users/takahiro/.pyenv/versions/anaconda3-5.2.0/lib/python3.6/site-packages/aeosa', '/Users/takahiro/.pyenv/versions/anaconda3-5.2.0/lib/python3.6/site-packages/IPython/extensions', '/Users/takahiro/.ipython']\n"
     ]
    }
   ],
   "source": [
    "import sys\n",
    "print(sys.path)"
   ]
  },
  {
   "cell_type": "code",
   "execution_count": 38,
   "metadata": {},
   "outputs": [
    {
     "name": "stdout",
     "output_type": "stream",
     "text": [
      "__main__\n"
     ]
    }
   ],
   "source": [
    "print(__name__)"
   ]
  }
 ],
 "metadata": {
  "kernelspec": {
   "display_name": "Python 3",
   "language": "python",
   "name": "python3"
  },
  "language_info": {
   "codemirror_mode": {
    "name": "ipython",
    "version": 3
   },
   "file_extension": ".py",
   "mimetype": "text/x-python",
   "name": "python",
   "nbconvert_exporter": "python",
   "pygments_lexer": "ipython3",
   "version": "3.6.6"
  }
 },
 "nbformat": 4,
 "nbformat_minor": 2
}
